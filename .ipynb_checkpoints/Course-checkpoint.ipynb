{
 "cells": [
  {
   "cell_type": "markdown",
   "id": "131bb981-1c82-4d69-ad96-65e56ee83d11",
   "metadata": {},
   "source": [
    "# Complex Social Systems\n",
    "\n",
    "Seminar - Jagiellonian University, Kraków - Faculty of Mathematics and Computer Science\n",
    "\n",
    "Rafal Kucharski, rafal.kucharski@uj.edu.pl, 2022"
   ]
  },
  {
   "cell_type": "markdown",
   "id": "b1f12f03-0328-49c8-a3e3-e49b301ef44b",
   "metadata": {},
   "source": [
    "---\n",
    "\n",
    "# Part 1\n",
    "**Introduction**\n",
    "\n",
    "I briefly introduce the main theme of the course **social** component of the system, i.e. **humans** and their central role to all the problems to be addressed.\n",
    "\n",
    "I discuss controllable, analytical, formal solutions (algorithms, models, laws, etc.) and contrast them with **humans**\n",
    "\n",
    "What makes it interesting is _free will_ , or equivalantly non-determinism, stochasticity, heterogeneity.\n",
    "\n",
    "Components:\n",
    "\n",
    "1. Complex Systems (physics)\n",
    "2. Computational Social Science (social science)\n",
    "3. Transport Systems (engineering)\n",
    "4. Discrete Choice Models (microeconomics/psychology)\n",
    "5. Digital Traces (data science)\n",
    "6. Social Networks (network science)\n",
    "7. Virus Spreading (politics)\n",
    "8. Behavioural profiling (classification)\n",
    "9. Reinforcement Learning (deep Learning)\n",
    "10. Social Games and Equilibrium (game theory)\n",
    "\n"
   ]
  },
  {
   "cell_type": "markdown",
   "id": "de56ff1b-bd68-4f4a-9601-6406dae3e8fa",
   "metadata": {},
   "source": [
    "----\n",
    "\n",
    "# Part 2\n",
    "# Network Flow:\n",
    "\n",
    "> Very generic intro [TED](https://www.youtube.com/watch?v=CX_Krxq5eUI)\n",
    "\n",
    "* pedestrian flow models [Social force model for pedestrian dynamics - Dirk Helbing](/papers/helbing_pedestrians.pdf)\n",
    "* macroscopic fundamental diagram [lecture](https://github.com/RafalKucharskiPK/LecturesAndCourses/blob/master/pdfs/IntroductionToTransPlan/W7.pdf)\n",
    "* capacity of road networks - non-linearity from the TED talk"
   ]
  },
  {
   "cell_type": "markdown",
   "id": "3d1f4dd6-24fc-44c0-8a8e-5adbd1506b63",
   "metadata": {},
   "source": [
    "---\n",
    "\n",
    "# Part 3 \n",
    "# Transport demand\n",
    "\n",
    "* Cascetta Intro [/papers/Cascetta_01_Intro.pdf](/papers/Cascetta_01_Intro.pdf)\n",
    "> This is intro to the most complete and formal textbook on transport systems analysis. And this brief introduction introduces all the elements and complexity of the transport system: what is it now and how it will evolve in the future horizon\n",
    "\n",
    "\n",
    "* Gonzales, Barabasi [paper](Documents/GitHub/ComplexSocialSystemsCourse/papers/gonzales_mobility.pdf)\n",
    "\n",
    "> Paper by Barabasi (celebrity of Network Science) and Marta Goznales - it gives a good empirical introduction on how do we move/travel in space and time\n",
    "\n",
    "* Sample 4 step demand models:\n",
    "    * PMT CPK [Krajowy Model dla potrzeb CPK](https://www.cpk.pl/pl/inwestycja/kolej/pasazerski-model-transportowy)\n",
    "    * London [TfL](https://content.tfl.gov.uk/londons-strategic-transport-models.pdf)\n",
    "    * Warszawa [WBR](https://transport.um.warszawa.pl/-/model-ruchu)\n",
    "    * [lecture](https://github.com/RafalKucharskiPK/LecturesAndCourses/blob/master/pdfs/IntroductionToTransPlan/fsm.pdf)\n"
   ]
  },
  {
   "cell_type": "code",
   "execution_count": null,
   "id": "f7b01858-e4e9-4ff2-9747-2b65793e21e3",
   "metadata": {},
   "outputs": [],
   "source": [
    "# Part 4\n",
    "\n",
    "Networks\n",
    "\n",
    "* Section 2 from [Barabasi](http://networksciencebook.com/chapter/2)\n"
   ]
  },
  {
   "cell_type": "markdown",
   "id": "3c5c8200-540e-4aae-8dd5-da254c95cf66",
   "metadata": {},
   "source": [
    "# Part 5 \n",
    "\n",
    "Games\n",
    "\n",
    "* Dirk Helbing [Cooperation, Norms, and Revolutions: A Unified GameTheoretical Approach](/papers/helbing_games.pdf)"
   ]
  },
  {
   "cell_type": "code",
   "execution_count": null,
   "id": "e198e662-ed32-4e81-be2c-5bb49d172d25",
   "metadata": {},
   "outputs": [],
   "source": []
  }
 ],
 "metadata": {
  "kernelspec": {
   "display_name": "Python 3",
   "language": "python",
   "name": "python3"
  },
  "language_info": {
   "codemirror_mode": {
    "name": "ipython",
    "version": 3
   },
   "file_extension": ".py",
   "mimetype": "text/x-python",
   "name": "python",
   "nbconvert_exporter": "python",
   "pygments_lexer": "ipython3",
   "version": "3.8.8"
  }
 },
 "nbformat": 4,
 "nbformat_minor": 5
}
