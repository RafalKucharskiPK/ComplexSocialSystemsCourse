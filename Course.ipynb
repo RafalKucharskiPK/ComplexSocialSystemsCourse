{
 "cells": [
  {
   "cell_type": "markdown",
   "id": "131bb981-1c82-4d69-ad96-65e56ee83d11",
   "metadata": {},
   "source": [
    "# Complex Social Systems\n",
    "\n",
    "Seminar - Jagiellonian University, Kraków - Faculty of Mathematics and Computer Science\n",
    "\n",
    "Rafal Kucharski, rafal.kucharski@uj.edu.pl, 2022\n",
    "\n",
    "---\n",
    "> summer 2022\n",
    "\n",
    "---"
   ]
  },
  {
   "cell_type": "markdown",
   "id": "b1f12f03-0328-49c8-a3e3-e49b301ef44b",
   "metadata": {},
   "source": [
    "---\n",
    "\n",
    "# Lecture 1 \n",
    "_01.03.2022_\n",
    "\n",
    "**Introduction**\n",
    "\n",
    "Introduce the main theme of the course **social** component of the system, i.e. **humans** and their central role to all the problems to be addressed.\n",
    "\n",
    "I discuss controllable, analytical, formal solutions (algorithms, models, laws, etc.) and contrast them with **humans**\n",
    "\n",
    "What makes it interesting is _free will_ , or equivalantly non-determinism, stochasticity, heterogeneity.\n",
    "\n",
    "Components:\n",
    "\n",
    "1. Complex Systems (physics)\n",
    "2. Computational Social Science (social science)\n",
    "3. Transport Systems (engineering)\n",
    "4. Discrete Choice Models (microeconomics/psychology)\n",
    "5. Digital Traces (data science)\n",
    "6. Social Networks (network science)\n",
    "7. Virus Spreading (politics)\n",
    "8. Behavioural profiling (classification)\n",
    "9. Reinforcement Learning (deep Learning)\n",
    "10. Social Games and Equilibrium (game theory)\n",
    "11. Voting systems (consensus)\n",
    "\n"
   ]
  },
  {
   "cell_type": "markdown",
   "id": "f9781b03-1dfa-4204-b1b4-bf16833d568c",
   "metadata": {},
   "source": [
    "---\n",
    "\n",
    "# Lecture 2\n",
    "_08.03.2022_\n",
    "\n",
    "**Tutorial**\n",
    "\n",
    "How to read, present, understand and discuss papers - workshop\n",
    "\n"
   ]
  },
  {
   "cell_type": "markdown",
   "id": "de56ff1b-bd68-4f4a-9601-6406dae3e8fa",
   "metadata": {},
   "source": [
    "----\n",
    "# Lecture 3\n",
    "_15.03.2022_\n",
    "\n",
    "\n",
    "### Theme: Flow through the capacitated networks: Congestion and Traffic Jams\n",
    "\n",
    "* **All read/watch**:\n",
    "> Very generic intro [TED](https://www.youtube.com/watch?v=CX_Krxq5eUI)  \n",
    "> Phantom jam explained [video](https://www.youtube.com/watch?v=Rryu85BtALM)\n",
    "\n",
    "* **Paper**: pedestrian flow models [Social force model for pedestrian dynamics - Dirk Helbing](/papers/helbing_pedestrians.pdf)\n",
    "* Extras:\n",
    "    * macroscopic fundamental diagram [lecture](https://github.com/RafalKucharskiPK/LecturesAndCourses/blob/master/pdfs/IntroductionToTransPlan/W7.pdf)\n"
   ]
  },
  {
   "cell_type": "markdown",
   "id": "3d1f4dd6-24fc-44c0-8a8e-5adbd1506b63",
   "metadata": {},
   "source": [
    "---\n",
    "\n",
    "# Lecture 4\n",
    "_22.03.2022_\n",
    " \n",
    "### Theme: Travel demand\n",
    "\n",
    "* **All read/watch**: [Cascetta Intro](/papers/Cascetta_01_Intro.pdf)\n",
    "> This is intro to the most complete and formal textbook on transport systems analysis. And this brief introduction introduces all the elements and complexity of the transport system: what is it now and how it will evolve in the future horizon\n",
    "\n",
    "\n",
    "* **Paper**: Gonzales, Barabasi [paper](/papers/gonzales_mobility.pdf)\n",
    "\n",
    "> Paper by Barabasi (celebrity of Network Science) and Marta Goznales - it gives a good empirical introduction on how do we move/travel in space and time\n",
    "\n",
    "* Extras - Sample 4 step demand models:\n",
    "    * [lecture](https://github.com/RafalKucharskiPK/LecturesAndCourses/blob/master/pdfs/IntroductionToTransPlan/fsm.pdf)\n",
    "    * PMT CPK [Krajowy Model dla potrzeb CPK](https://www.cpk.pl/pl/inwestycja/kolej/pasazerski-model-transportowy)\n",
    "    * London [TfL](https://content.tfl.gov.uk/londons-strategic-transport-models.pdf)\n",
    "    * Warszawa [WBR](https://transport.um.warszawa.pl/-/model-ruchu)\n",
    "\n"
   ]
  },
  {
   "cell_type": "markdown",
   "id": "fe49b47b-5ea9-4b3a-a4e5-c21fd412dd4a",
   "metadata": {
    "tags": []
   },
   "source": [
    "---\n",
    "\n",
    "# Lecture 5\n",
    "_29.03.2022_\n",
    "\n",
    "\n",
    "### Theme:  Discrete Choice Models \n",
    "\n",
    "> How individual, rational, heterogenoues, non-deterministic decision makers make decisions?\n",
    "\n",
    "* **All read/watch**: [intro video - EPFL](https://www.youtube.com/watch?v=35JbWIlWeoI)\n",
    "\n",
    "* **Paper**: Intro by [Kenneth Train](/papers/train_logit.pdf)\n",
    "\n",
    "* Extras: tutorial to estimate logit models from BIOGEME https://biogeme.epfl.ch/examples/swissmetro/01logit.html https://biogeme.epfl.ch/data.html"
   ]
  },
  {
   "cell_type": "markdown",
   "id": "7bbd57b3-7f98-431f-980c-09cfbfd8cadf",
   "metadata": {},
   "source": [
    "---\n",
    "\n",
    "# Lecture 6\n",
    "_05.04.2022_\n",
    " \n",
    "### Theme: Networks\n",
    "\n",
    "> How are things (people) connected into a networks - physically and virtually\n",
    "\n",
    "* **All read/watch**: [docu Barabasi](https://www.youtube.com/watch?v=6i1o5cs-yk8)\n",
    "* **Paper**: Section 2 from [Barabasi](http://networksciencebook.com/chapter/2)\n"
   ]
  },
  {
   "cell_type": "markdown",
   "id": "41aef8f3-07e5-4579-9e47-30bae0513a51",
   "metadata": {},
   "source": [
    "---\n",
    "\n",
    "# Lecture 7\n",
    "_12.04.2022_\n",
    "\n",
    "### Theme: Behavioural profiling \n",
    "`Cambridge analytica`\n",
    "\n",
    "> How our behaviour can be read and classified from our digital traces?\n",
    "\n",
    "* **Paper** Can we identify personal features from Facebook likes? [Kosinski paper](/papers/kosinski.pdf)\n",
    "* Discriminatory pricings [Uber](https://www.smartcompany.com.au/startupsmart/news/behind-ubers-new-pricing-model-how-price-discrimination-works/)\n",
    "* Psychography [video](https://www.youtube.com/watch?v=n8Dd5aVXLCc)"
   ]
  },
  {
   "cell_type": "markdown",
   "id": "882b83e8-8570-4224-a040-b7471dd75f7f",
   "metadata": {},
   "source": [
    "---\n",
    "\n",
    "# Lecture 8\n",
    "_26.04.2022_\n",
    "\n",
    "### Theme: Virus spreading\n",
    "\n",
    "> How a single node in the network impact others (infect): SIS, SIR, SEIR, SEIQR models\n",
    "\n",
    "* **paper** Barabasi's [chapter](http://networksciencebook.com/chapter/10)\n",
    "* Extras\n",
    "    * Spreading in ride-pooling [my paper])(https://www.nature.com/articles/s41598-021-86704-2)\n",
    "    * Mobility spreading with MATSim [paper](https://www.medrxiv.org/content/10.1101/2020.03.27.20045302v1)"
   ]
  },
  {
   "cell_type": "markdown",
   "id": "63a6445e-01bb-460e-894e-557539e716c5",
   "metadata": {},
   "source": [
    "---\n",
    "\n",
    "# Lecture 9\n",
    "\n",
    "_10.05.2022_\n",
    "\n",
    "### Theme: Social networks\n",
    "\n",
    "* **paper** How rumours spread through the social network [paper](/papers/fake.pdf)"
   ]
  },
  {
   "cell_type": "markdown",
   "id": "9a02db29-ee4b-446b-bfb5-f98c9d0dd82a",
   "metadata": {},
   "source": [
    "---\n",
    "\n",
    "# Lecture 10\n",
    "_17.05.2022_\n",
    "\n",
    "### Theme: Platform revolution and Agent-Based approaches\n",
    "\n",
    "Platform revolution\n",
    "\n",
    "* **all read/watch**: slides from the book https://ilp.mit.edu/sites/default/files/2020-01/Parker.2017.ICT2_.pdf\n",
    "* **paper** Uber model https://arxiv.org/abs/2011.12827 and agent-based simulator https://github.com/RafalKucharskiPK/MaaSSim/"
   ]
  },
  {
   "cell_type": "markdown",
   "id": "78d1fde6-a003-446e-a173-7596e34052fc",
   "metadata": {
    "jp-MarkdownHeadingCollapsed": true,
    "tags": []
   },
   "source": [
    "---\n",
    "\n",
    "# Lecture 11\n",
    "_24.05.2022_\n",
    "\n",
    "### Theme: Complex (Adaptive) Systems\n",
    "\n",
    "> How small interactions leads to complexity (chaos?)\n",
    "\n",
    "\n",
    "* **all read/watch**: [video](https://www.youtube.com/watch?v=GjwvsK-6640) + visualization https://eater.net/boids\n",
    "* **paper** on `Collective animal behaviour' [here](/papers/animal_collective_behaviour.pdf)\n"
   ]
  },
  {
   "cell_type": "markdown",
   "id": "572e26da-a8b5-4a21-b603-72bda98a489b",
   "metadata": {},
   "source": [
    "---\n",
    "\n",
    "# Lecture 12\n",
    "_31.05.2022_\n",
    "\n",
    "### Theme: Human vs AI \n",
    "\n",
    ">Reinforcement learning to win in GO, Chess, StarCraft, Quake and Atari games\n",
    "\n",
    "* **all read** Starcraft [blog](https://deepmind.com/blog/article/AlphaStar-Grandmaster-level-in-StarCraft-II-using-multi-agent-reinforcement-learning)\n",
    "* **all watch** \n",
    "> Autonomous vehicles to improve traffic [video](https://www.youtube.com/watch?v=P7xx9uH2i7w)\n",
    "* **paper** Starcraft [paper](/papers/starcraft.pdf)\n",
    "\n"
   ]
  },
  {
   "cell_type": "markdown",
   "id": "3c5c8200-540e-4aae-8dd5-da254c95cf66",
   "metadata": {},
   "source": [
    "# EXTRAS:\n",
    "\n",
    "---\n",
    "### Theme: Social Games\n",
    "\n",
    "\n",
    "* Dirk Helbing [Cooperation, Norms, and Revolutions: A Unified GameTheoretical Approach](/papers/helbing_games.pdf)\n",
    "* Taxi drivers playing the surge game with AI [Malte](/papers/malte.pdf)\n",
    "* Replicator models [tutorial](http://systems-sciences.uni-graz.at/etextbook/gametheory/replicator.html)\n",
    "* Game theory in politics - Why Russia did not attract small partners in politics? - theoretically explained [paper](/papers/too_big_to_prevail_game_theory.pdf)"
   ]
  },
  {
   "cell_type": "markdown",
   "id": "f44803d2-5ca0-46e7-b531-c8660fae1f1a",
   "metadata": {},
   "source": [
    "---\n",
    "### Theme: Democracy and Voting models\n",
    "\n",
    "> How can we formalize democracy and voting?\n",
    "\n",
    " * How to bribe elections [Faliszewski](/papers/faliszewski_bribery.pdf)\n",
    " * How to protect elections [Faliszewski](/papers/faliszewski_bribery.pdf)\n",
    " * Diffusion of norms and cooperation [Helbing](/papers/helbing_games.pdf)\n",
    " * Dirk's view on Democracy 4.0 [video](https://www.youtube.com/watch?v=GbkOZUGMjMQ)"
   ]
  },
  {
   "cell_type": "markdown",
   "id": "284112c9-b933-4855-8735-c43fe128c4fc",
   "metadata": {},
   "source": [
    "---\n",
    "\n",
    "### Theme: Social diffusion models\n",
    "\n",
    "> Spreading the cultrue\n",
    "\n",
    " * Axelrod's model [animation](https://www.youtube.com/watch?v=VvXjk8P4TX0)  \n",
    " * [video](https://www.youtube.com/watch?v=tzKD72jQTYc) \n",
    " * [paper](/papers/axelrod1997_social_convergence.pdf) \n",
    " * Cooperation and Competition [paper](https://www.nature.com/articles/s41598-021-91532-5.pdf)\n",
    " * Incentives optimum and diversity [paper](/papers/helbing_incentives.pdf)"
   ]
  },
  {
   "cell_type": "markdown",
   "id": "d53f7ca9-b435-43d0-99cb-499baa470934",
   "metadata": {},
   "source": [
    "---\n",
    "\n",
    "# Theme: Incetives to nudge natural, rational, selfish behaviour towards global (social) optimum\n",
    "\n",
    "https://dit4tram.eu/downloads/2021-12-dit4tram-deliverable-D4-1.pdf pages 1-10"
   ]
  },
  {
   "cell_type": "markdown",
   "id": "4fac30e5-c8fb-41ee-971b-f295117956f1",
   "metadata": {},
   "source": [
    "---\n",
    "    ### Materials\n",
    "    \n",
    "    http://systems-sciences.uni-graz.at/etextbook/index.html"
   ]
  },
  {
   "cell_type": "markdown",
   "id": "aee77e66-6d4d-48fc-8521-5340c8900c74",
   "metadata": {},
   "source": [
    "---\n",
    "(c) Rafal Kucharski, UJ, 2022"
   ]
  }
 ],
 "metadata": {
  "kernelspec": {
   "display_name": "Python 3 (ipykernel)",
   "language": "python",
   "name": "python3"
  },
  "language_info": {
   "codemirror_mode": {
    "name": "ipython",
    "version": 3
   },
   "file_extension": ".py",
   "mimetype": "text/x-python",
   "name": "python",
   "nbconvert_exporter": "python",
   "pygments_lexer": "ipython3",
   "version": "3.8.12"
  }
 },
 "nbformat": 4,
 "nbformat_minor": 5
}
