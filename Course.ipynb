{
 "cells": [
  {
   "attachments": {},
   "cell_type": "markdown",
   "id": "131bb981-1c82-4d69-ad96-65e56ee83d11",
   "metadata": {},
   "source": [
    "# Complex Social Systems\n",
    "\n",
    "Lecture - Jagiellonian University, Kraków - Faculty of Mathematics and Computer Science\n",
    "\n",
    "Usos: WMI.II-SAACSS-S\n",
    "\n",
    "Rafal Kucharski, rafal.kucharski@uj.edu.pl, 2023\n",
    "+ Farnoud Ghasemi, Michał Bujak, Zoltan Varga, Anastasia Psarou, Onur Akman\n",
    "\n",
    "---\n",
    "> spring/summer 2025\n",
    "\n",
    "---"
   ]
  },
  {
   "attachments": {},
   "cell_type": "markdown",
   "id": "b1f12f03-0328-49c8-a3e3-e49b301ef44b",
   "metadata": {},
   "source": [
    "---\n",
    "\n",
    "## 1. Introduction + 101\n",
    "\n",
    "Introduce the main theme of the course **social** component of the system, i.e. **humans** and their central role to all the problems to be addressed.\n",
    "\n",
    "I discuss controllable, analytical, formal solutions (algorithms, models, laws, etc.) and contrast them with **humans**\n",
    "\n",
    "What makes it interesting is _free will_ , or equivalantly non-determinism, stochasticity, heterogeneity.\n",
    "\n",
    "& Tutorial: How to read, present, understand and discuss papers\n",
    "\n"
   ]
  },
  {
   "cell_type": "markdown",
   "id": "78d1fde6-a003-446e-a173-7596e34052fc",
   "metadata": {
    "jp-MarkdownHeadingCollapsed": true,
    "tags": []
   },
   "source": [
    "---\n",
    "\n",
    "## 2. Complex (Adaptive) Systems\n",
    "\n",
    "Here, we will introduce the multi-agent system, composed of multiple independent elements. Each described with relatively simple action mechanism. Collectively those actions lead to complex patterns - not easily deducible from simple behaviour of individuals. This is observable among animals: ants, birds, fishes. Humans are also animals in this extent.\n",
    "\n",
    "> How small interactions leads to complexity (chaos?)\n",
    "\n",
    "\n",
    "* **All read/watch**: [video](https://www.youtube.com/watch?v=GjwvsK-6640) + visualization https://eater.net/boids\n",
    "* **paper** on `Collective animal behaviour' [here](/papers/animal_collective_behaviour.pdf)\n"
   ]
  },
  {
   "cell_type": "markdown",
   "id": "de56ff1b-bd68-4f4a-9601-6406dae3e8fa",
   "metadata": {},
   "source": [
    "----\n",
    "##  3. Modelling flow of pedestrians - Crowd Dynamics\n",
    "\n",
    "People walk, following paths of lowest cost. Using their neural networks to optimize the routing problem. As long as we are alone, this is straightforward, yet with others on stage this is complex. Crowd has some general patterns, observarble worldwide and reproducible. We will see a simple Helbing model where pedestrian behaviour is explained. This is acomplex system, composed of simple individuals.\n",
    "\n",
    "* **All read/watch**: Very generic intro [TED](https://www.youtube.com/watch?v=CX_Krxq5eUI)  \n",
    "* **All read/watch**: Phantom jam explained [video](https://www.youtube.com/watch?v=Rryu85BtALM)\n",
    "* **Paper**: pedestrian flow models [Social force model for pedestrian dynamics - Dirk Helbing](/papers/helbing_pedestrians.pdf)\n",
    "\n"
   ]
  },
  {
   "cell_type": "markdown",
   "id": "359316cd",
   "metadata": {},
   "source": [
    "---\n",
    "\n",
    "## 4. Game-theory and politics - Cuban Missile Crisis \n",
    "\n",
    "We play games, apply optimal strategies to maximise payoffs. We do it individually (to make optimal routing decisions when we travel home from work) or collectively (when we speculate on the stock markets). Unfortunately, global leaders play those games too, historically and now. We will see the new perspective on Cuban Missile Crisis from 1960s with game-theory. Trying to undesrtand optimal strategies and equilibria that saved us from WW3 (for a while...?)\n",
    "\n",
    "\n",
    "\n",
    "* **all read/watch** [video](https://www.youtube.com/watch?v=mScpHTIi-kM)\n",
    "* **paper** on `Cuban Missile Crisis' [here](/papers/cuban_crisis.pdf)\n",
    " \n",
    "\n",
    "\n",
    "\n",
    "\n"
   ]
  },
  {
   "cell_type": "markdown",
   "id": "fe49b47b-5ea9-4b3a-a4e5-c21fd412dd4a",
   "metadata": {
    "tags": []
   },
   "source": [
    "---\n",
    "\n",
    "# 5. Discrete Choice Models \n",
    "\n",
    "How individual, rational, heterogenoues, non-deterministic decision makers make decisions? The mathematical models that led to Nobel prize in Economy in 2000 for Daniel McFadden.\n",
    "\n",
    "* **All read/watch**: [intro video - EPFL](https://www.youtube.com/watch?v=35JbWIlWeoI)\n",
    "* **Paper**: Intro by [Kenneth Train](/papers/train_logit.pdf)\n",
    "* Extras: tutorial to estimate logit models from BIOGEME https://biogeme.epfl.ch/examples/swissmetro/01logit.html https://biogeme.epfl.ch/data.html"
   ]
  },
  {
   "cell_type": "markdown",
   "id": "46631d30",
   "metadata": {},
   "source": [
    "---\n",
    "\n",
    "# 6. Predicting our death with ML -  Life2Vec\n",
    "\n",
    "Can we predict our life and death?\n",
    "\n",
    "Can we vectorize our life events?\n",
    "\n",
    "Is it science? Is it ethical? Is it methodologically correct?\n",
    " \n",
    "\n",
    "* **All read/watch**  https://deathcalculator.ai/\n",
    "*  **paper** [here](/papers/life2vec.pdf) (original paid version [here](https://www.nature.com/articles/s43588-023-00573-5))\n",
    "\n",
    "\n",
    "\n"
   ]
  },
  {
   "cell_type": "markdown",
   "id": "f44803d2-5ca0-46e7-b531-c8660fae1f1a",
   "metadata": {},
   "source": [
    "---\n",
    "\n",
    "# 7. Democracy and Theory of Voting \n",
    "\n",
    "The mathematical theory of voting explores how individual preferences can be combined to make group decisions, focusing on the fairness and reliability of different methods. It also looks at challenges like voting paradoxes, where no system works perfectly in every situation.\n",
    "\n",
    "\n",
    "\n",
    "* **All watch** [participatory budget](https://www.youtube.com/watch?v=RYK3heBDKJ4)\n",
    "* **paper** Section 2 of this [book](papers/handbook_of_computational_social_choice.pdf)\n"
   ]
  },
  {
   "cell_type": "markdown",
   "id": "7bbd57b3-7f98-431f-980c-09cfbfd8cadf",
   "metadata": {},
   "source": [
    "---\n",
    "\n",
    "# 8. Networks\n",
    "\n",
    "How are things (people) connected into a networks - physically and virtually\n",
    "\n",
    "* **All read/watch**: [docu Barabasi](https://www.youtube.com/watch?v=6i1o5cs-yk8)\n",
    "* **Paper**: Section 2 from [Barabasi](http://networksciencebook.com/chapter/2)\n"
   ]
  },
  {
   "cell_type": "markdown",
   "id": "41aef8f3-07e5-4579-9e47-30bae0513a51",
   "metadata": {},
   "source": [
    "---\n",
    "\n",
    "# 9 Behavioural profiling - a.k.a. Cambridge analytica`\n",
    "\n",
    "How our behaviour can be read and classified from our digital traces?\n",
    "\n",
    "* **Paper** Can we identify personal features from Facebook likes? [Kosinski paper](/papers/kosinski.pdf)\n",
    "* Discriminatory pricings [Uber](https://www.smartcompany.com.au/startupsmart/news/behind-ubers-new-pricing-model-how-price-discrimination-works/)\n",
    "* Psychography [video](https://www.youtube.com/watch?v=n8Dd5aVXLCc)"
   ]
  },
  {
   "cell_type": "markdown",
   "id": "882b83e8-8570-4224-a040-b7471dd75f7f",
   "metadata": {},
   "source": [
    "---\n",
    "\n",
    "# 10. Virus spreading - dynamics of Covid pandemics.\n",
    "\n",
    "How a single node in the network impact others (infect): SIS, SIR, SEIR, SEIQR models. \n",
    "\n",
    "* **paper** Barabasi's [chapter](http://networksciencebook.com/chapter/10)\n",
    "* Extras\n",
    "    * Spreading in ride-pooling [my paper])(https://www.nature.com/articles/s41598-021-86704-2)\n",
    "    * Mobility spreading with MATSim [paper](https://www.medrxiv.org/content/10.1101/2020.03.27.20045302v1)"
   ]
  },
  {
   "cell_type": "markdown",
   "id": "c3f469d9",
   "metadata": {},
   "source": [
    "---\n",
    "\n",
    "# 11. Recommendation systems - Youtube/TikTok/Instagram\n",
    "\n",
    "Opening most of apps we see assortment of content, selected for us to engage us. Feed on our facebook, linkedin, twitter; videos on YoutTube, music on spotify, shorts on Tiktok and photos on instagram. The objective is to keep us engaged, but the formal problem to be solved is complex.\n",
    "\n",
    "* all read/watch [video](https://www.youtube.com/watch?v=n3RKsY2H-NE)\n",
    "* **paper** Youtube's recommendation system [paper](/papers/youtube.pdf) \n",
    "* extras Monolith by [TikTok](https://github.com/bytedance/monolith)\n"
   ]
  },
  {
   "cell_type": "markdown",
   "id": "63a6445e-01bb-460e-894e-557539e716c5",
   "metadata": {},
   "source": [
    "---\n",
    "\n",
    "# 12. News and Fakenews - Social networks\n",
    "\n",
    "News spread from sources to recipients, often via social networks. Now rather virtual than physical. In parallell to news, the fake-news also spread. Can we detect which ones are fake and which true?\n",
    "\n",
    "* **paper** How rumours spread through the social network [paper](/papers/fake.pdf)"
   ]
  },
  {
   "cell_type": "markdown",
   "id": "3d1f4dd6-24fc-44c0-8a8e-5adbd1506b63",
   "metadata": {},
   "source": [
    "---\n",
    "\n",
    "# 13. Travel demand models.\n",
    "\n",
    "* **All read/watch**: [Cascetta Intro](/papers/Cascetta_01_Intro.pdf)\n",
    "* **All read/watch**: Daily life of Americans [video](https://flowingdata.com/2015/12/15/a-day-in-the-life-of-americans/)\n",
    "* **Paper**: Gonzales, Barabasi [paper](/papers/gonzales_mobility.pdf)\n",
    "\n",
    "> Paper by Barabasi (celebrity of Network Science) and Marta Goznales - it gives a good empirical introduction on how do we move/travel in space and time\n",
    "\n",
    "* Extras - Sample 4 step demand models:\n",
    "    * [lecture](https://github.com/RafalKucharskiPK/LecturesAndCourses/blob/master/pdfs/IntroductionToTransPlan/fsm.pdf)\n",
    "    * PMT CPK [Krajowy Model dla potrzeb CPK](https://www.cpk.pl/pl/inwestycja/kolej/pasazerski-model-transportowy)\n",
    "    * London [TfL](https://content.tfl.gov.uk/londons-strategic-transport-models.pdf)\n",
    "    * Warszawa [WBR](https://transport.um.warszawa.pl/-/model-ruchu)\n",
    "\n"
   ]
  },
  {
   "cell_type": "markdown",
   "id": "9a02db29-ee4b-446b-bfb5-f98c9d0dd82a",
   "metadata": {},
   "source": [
    "---\n",
    "\n",
    "# 14. Platform revolution - Uber, AirBnB etc.\n",
    "\n",
    "Platforms like AirBnB, Uber or pyszne.pl apply very specific market model. They do not own resources, they simply connect supply with demand. Relying on complex growth patterns, they grow and often monopolize/oligopolize markets.\n",
    "\n",
    "\n",
    "* **all read/watch** Uber model [video](https://www.youtube.com/watch?v=yEminPU_7cc) \n",
    "* MoMaS - in press - to be addedd soon.\n",
    "* **paper** [Rochet and Tirole](/papers/rochet_tirole.pdf) and  [simulations paper](/papers/platforms_paper.pdf)"
   ]
  },
  {
   "cell_type": "markdown",
   "id": "572e26da-a8b5-4a21-b603-72bda98a489b",
   "metadata": {},
   "source": [
    "---\n",
    "\n",
    "# 15. Human vs AI \n",
    "\n",
    "Reinforcement learning to win in GO, Chess, StarCraft, Quake and Atari games\n",
    "\n",
    "* **all read** Starcraft [blog](https://deepmind.com/blog/article/AlphaStar-Grandmaster-level-in-StarCraft-II-using-multi-agent-reinforcement-learning)\n",
    "* **all watch** Autonomous vehicles to improve traffic [video](https://www.youtube.com/watch?v=P7xx9uH2i7w)\n",
    "* **paper** Starcraft [paper](/papers/starcraft.pdf)\n",
    "\n"
   ]
  },
  {
   "cell_type": "markdown",
   "id": "aee77e66-6d4d-48fc-8521-5340c8900c74",
   "metadata": {},
   "source": [
    "---\n",
    "(c) Rafal Kucharski, UJ, 2022-2025"
   ]
  }
 ],
 "metadata": {
  "kernelspec": {
   "display_name": "Python 3 (ipykernel)",
   "language": "python",
   "name": "python3"
  },
  "language_info": {
   "codemirror_mode": {
    "name": "ipython",
    "version": 3
   },
   "file_extension": ".py",
   "mimetype": "text/x-python",
   "name": "python",
   "nbconvert_exporter": "python",
   "pygments_lexer": "ipython3",
   "version": "3.8.12"
  }
 },
 "nbformat": 4,
 "nbformat_minor": 5
}
