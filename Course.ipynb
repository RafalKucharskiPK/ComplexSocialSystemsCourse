{
 "cells": [
  {
   "cell_type": "markdown",
   "id": "131bb981-1c82-4d69-ad96-65e56ee83d11",
   "metadata": {},
   "source": [
    "# Complex Social Systems\n",
    "\n",
    "Seminar - Jagiellonian University, Kraków - Faculty of Mathematics and Computer Science\n",
    "\n",
    "Rafal Kucharski, rafal.kucharski@uj.edu.pl, 2022"
   ]
  },
  {
   "cell_type": "markdown",
   "id": "b1f12f03-0328-49c8-a3e3-e49b301ef44b",
   "metadata": {},
   "source": [
    "---\n",
    "\n",
    "# Part 1\n",
    "**Introduction**\n",
    "\n",
    "I briefly introduce the main theme of the course **social** component of the system, i.e. **humans** and their central role to all the problems to be addressed.\n",
    "\n",
    "I discuss controllable, analytical, formal solutions (algorithms, models, laws, etc.) and contrast them with **humans**\n",
    "\n",
    "What makes it interesting is _free will_ , or equivalantly non-determinism, stochasticity, heterogeneity.\n",
    "\n",
    "Components:\n",
    "\n",
    "1. Complex Systems (physics)\n",
    "2. Computational Social Science (social science)\n",
    "3. Transport Systems (engineering)\n",
    "4. Discrete Choice Models (microeconomics/psychology)\n",
    "5. Digital Traces (data science)\n",
    "6. Social Networks (network science)\n",
    "7. Virus Spreading (politics)\n",
    "8. Behavioural profiling (classification)\n",
    "9. Reinforcement Learning (deep Learning)\n",
    "10. Social Games and Equilibrium (game theory)\n",
    "11. Voting systems (consensus)\n",
    "\n"
   ]
  },
  {
   "cell_type": "markdown",
   "id": "de56ff1b-bd68-4f4a-9601-6406dae3e8fa",
   "metadata": {},
   "source": [
    "----\n",
    "\n",
    "# Theme: Flow through the capacitated networks: Congestion and Traffic Jams\n",
    "\n",
    "> Very generic intro [TED](https://www.youtube.com/watch?v=CX_Krxq5eUI)  \n",
    "> Phantom jam explained [video](https://www.youtube.com/watch?v=Rryu85BtALM)\n",
    "\n",
    "* pedestrian flow models [Social force model for pedestrian dynamics - Dirk Helbing](/papers/helbing_pedestrians.pdf)\n",
    "* macroscopic fundamental diagram [lecture](https://github.com/RafalKucharskiPK/LecturesAndCourses/blob/master/pdfs/IntroductionToTransPlan/W7.pdf)\n",
    "* capacity of road networks - non-linearity from the TED talk"
   ]
  },
  {
   "cell_type": "markdown",
   "id": "3d1f4dd6-24fc-44c0-8a8e-5adbd1506b63",
   "metadata": {},
   "source": [
    "---\n",
    "\n",
    "# Theme: Transport demand\n",
    "\n",
    "* Cascetta Intro [/papers/Cascetta_01_Intro.pdf](/papers/Cascetta_01_Intro.pdf)\n",
    "> This is intro to the most complete and formal textbook on transport systems analysis. And this brief introduction introduces all the elements and complexity of the transport system: what is it now and how it will evolve in the future horizon\n",
    "\n",
    "\n",
    "* Gonzales, Barabasi [paper](Documents/GitHub/ComplexSocialSystemsCourse/papers/gonzales_mobility.pdf)\n",
    "\n",
    "> Paper by Barabasi (celebrity of Network Science) and Marta Goznales - it gives a good empirical introduction on how do we move/travel in space and time\n",
    "\n",
    "* Sample 4 step demand models:\n",
    "    * PMT CPK [Krajowy Model dla potrzeb CPK](https://www.cpk.pl/pl/inwestycja/kolej/pasazerski-model-transportowy)\n",
    "    * London [TfL](https://content.tfl.gov.uk/londons-strategic-transport-models.pdf)\n",
    "    * Warszawa [WBR](https://transport.um.warszawa.pl/-/model-ruchu)\n",
    "    * [lecture](https://github.com/RafalKucharskiPK/LecturesAndCourses/blob/master/pdfs/IntroductionToTransPlan/fsm.pdf)\n"
   ]
  },
  {
   "cell_type": "markdown",
   "id": "7bbd57b3-7f98-431f-980c-09cfbfd8cadf",
   "metadata": {},
   "source": [
    "---\n",
    "\n",
    "# Theme: Networks\n",
    "\n",
    "> How are things (people) connected into a networks - physically and virtually\n",
    "\n",
    "* Section 2 from [Barabasi](http://networksciencebook.com/chapter/2)\n"
   ]
  },
  {
   "cell_type": "markdown",
   "id": "3c5c8200-540e-4aae-8dd5-da254c95cf66",
   "metadata": {},
   "source": [
    "---\n",
    "# Theme: Social Games\n",
    "\n",
    "\n",
    "* Dirk Helbing [Cooperation, Norms, and Revolutions: A Unified GameTheoretical Approach](/papers/helbing_games.pdf)\n",
    "* Taxi drivers playing the surge game with AI [Malte](/papers/malte.pdf)"
   ]
  },
  {
   "cell_type": "markdown",
   "id": "9a02db29-ee4b-446b-bfb5-f98c9d0dd82a",
   "metadata": {},
   "source": [
    "---\n",
    "# Theme: Platform revolution and Agent-Based approaches\n",
    "\n",
    "Platform revolution\n",
    "\n",
    "* slides from the book https://ilp.mit.edu/sites/default/files/2020-01/Parker.2017.ICT2_.pdf\n",
    "* Uber model https://arxiv.org/abs/2011.12827 and agent-based model https://github.com/RafalKucharskiPK/MaaSSim/"
   ]
  },
  {
   "cell_type": "markdown",
   "id": "fe49b47b-5ea9-4b3a-a4e5-c21fd412dd4a",
   "metadata": {},
   "source": [
    "---\n",
    "# Theme:  Discrete Choice Models \n",
    "\n",
    "> How individual, rational, heterogenoues, non-deterministic decision makers make decisions?\n",
    "\n",
    "* Intro by [Kenneth Train](/papers/train_logit.pdf)\n",
    "\n",
    "* MWE from BIOGEME https://biogeme.epfl.ch/examples/swissmetro/01logit.html https://biogeme.epfl.ch/data.html"
   ]
  },
  {
   "cell_type": "markdown",
   "id": "f44803d2-5ca0-46e7-b531-c8660fae1f1a",
   "metadata": {},
   "source": [
    "---\n",
    "# Theme: Democracy and Voting models\n",
    "\n",
    "> How can we formalize democracy and voting?\n",
    "\n",
    " * How to bribe elections [Faliszewski](/papers/faliszewski_bribery.pdf)\n",
    " * How to protect elections [Faliszewski](/papers/faliszewski_bribery.pdf)\n",
    " * Diffusion of norms and cooperation [Helbing](/papers/helbing_games.pdf)\n",
    " * Dirk's view on Democracy 4.0 [video](https://www.youtube.com/watch?v=GbkOZUGMjMQ)"
   ]
  },
  {
   "cell_type": "markdown",
   "id": "284112c9-b933-4855-8735-c43fe128c4fc",
   "metadata": {},
   "source": [
    "---\n",
    "\n",
    "# Theme: Social diffusion models\n",
    "\n",
    "> Spreading the cultrue\n",
    "\n",
    " * Axelrod's model [animation](https://www.youtube.com/watch?v=VvXjk8P4TX0)  \n",
    " * [video](https://www.youtube.com/watch?v=tzKD72jQTYc) \n",
    " * [paper](/papers/axelrod1997_social_convergence.pdf) \n",
    " * Cooperation and Competition [paper](https://www.nature.com/articles/s41598-021-91532-5.pdf)\n",
    " * Incentives optimum and diversity [paper](/papers/helbing_incentives.pdf)"
   ]
  },
  {
   "cell_type": "markdown",
   "id": "d742bdf2-1246-4d3a-a45e-8f556144322a",
   "metadata": {},
   "source": [
    "---\n",
    "# Theme: Social networks\n",
    "\n",
    "* How rumours spread through the social network [paper](/papers/fake.pdf)"
   ]
  },
  {
   "cell_type": "markdown",
   "id": "13423223-1fd2-468c-94e7-6185f4f7f966",
   "metadata": {},
   "source": [
    "---\n",
    "# Theme: Virus spreading\n",
    "\n",
    "> How a single node in the network impact others (infect): SIS, SIR, SEIR, SEIQR models\n",
    "\n",
    "* Barabasi's [chapter](http://networksciencebook.com/chapter/10#introduction10)\n",
    "* Spreading in ride-pooling [my paper])(https://www.nature.com/articles/s41598-021-86704-2)\n",
    "* Mobility spreading with MATSim [paper](https://www.medrxiv.org/content/10.1101/2020.03.27.20045302v1)\n"
   ]
  },
  {
   "cell_type": "markdown",
   "id": "41aef8f3-07e5-4579-9e47-30bae0513a51",
   "metadata": {},
   "source": [
    "---\n",
    "\n",
    "# Theme: Behavioural profiling \n",
    "`Cambridge analytica`\n",
    "\n",
    "> How our behaviour can be read and classified from our digital traces?\n",
    "\n",
    "* Read from Facebook likes [Kosinski paper](/papers/kosinski.pdf)\n",
    "* Discriminatory pricings [Uber](https://www.smartcompany.com.au/startupsmart/news/behind-ubers-new-pricing-model-how-price-discrimination-works/)\n",
    "* Psychography [video](https://www.youtube.com/watch?v=n8Dd5aVXLCc)"
   ]
  },
  {
   "cell_type": "markdown",
   "id": "78d1fde6-a003-446e-a173-7596e34052fc",
   "metadata": {},
   "source": [
    "---\n",
    "\n",
    "# Theme: Complex Systems\n",
    "\n",
    "> How small interactions leads to complexity (chaos?)\n",
    "\n",
    "* https://eater.net/boids\n"
   ]
  },
  {
   "cell_type": "markdown",
   "id": "d53f7ca9-b435-43d0-99cb-499baa470934",
   "metadata": {},
   "source": [
    "---\n",
    "\n",
    "# Theme: Incetives to nudge natural, rational, selfish behaviour towards global (social) optimum\n",
    "\n",
    "https://dit4tram.eu/downloads/2021-12-dit4tram-deliverable-D4-1.pdf pages 1-10"
   ]
  },
  {
   "cell_type": "code",
   "execution_count": null,
   "id": "9b9ca5a9-a56a-49c2-bf15-185a0a686005",
   "metadata": {},
   "outputs": [],
   "source": [
    "---\n",
    "\n",
    "# Theme: Human vs AI - Reinforcement learning to win in GO, Chess, StarCraft, Quake and Atari games\n",
    "\n",
    "* Starcraft paper"
   ]
  }
 ],
 "metadata": {
  "kernelspec": {
   "display_name": "Python 3",
   "language": "python",
   "name": "python3"
  },
  "language_info": {
   "codemirror_mode": {
    "name": "ipython",
    "version": 3
   },
   "file_extension": ".py",
   "mimetype": "text/x-python",
   "name": "python",
   "nbconvert_exporter": "python",
   "pygments_lexer": "ipython3",
   "version": "3.8.8"
  }
 },
 "nbformat": 4,
 "nbformat_minor": 5
}
