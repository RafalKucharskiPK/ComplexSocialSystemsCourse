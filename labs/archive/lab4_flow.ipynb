{
 "cells": [
  {
   "attachments": {},
   "cell_type": "markdown",
   "metadata": {},
   "source": [
    "## Lab 3. Flow\n",
    "\n",
    "a. Microscopic traffic flow (car following model: SUMO, traffic simulation)\n",
    "\n",
    "b. Macroscopic traffic flow (fundamental diagram)\n",
    "\n",
    "c. Pedestrian flow models (social force model)\n"
   ]
  },
  {
   "attachments": {},
   "cell_type": "markdown",
   "metadata": {},
   "source": [
    "----\n",
    "\n",
    "## A. Microscopic traffic flow\n",
    "\n",
    "\n",
    "Go to the webiste: https://traffic-simulation.de/ and experiment with various settings.\n",
    "\n",
    "Excercise:\n",
    "1. Choose one  of available layouts\n",
    "2. First try to create congestion - traffic jam\n",
    "3. Observe the main parameters of the flow at the capacity\n",
    "4. Try to reach the maximal flow\n",
    "5. Either via demand management (control the inflow)\n",
    "6. Either via supply management (traffic lights, more lanes, etc.)\n"
   ]
  },
  {
   "attachments": {},
   "cell_type": "markdown",
   "metadata": {},
   "source": [
    "## B. Macroscopic traffic flow\n",
    "\n",
    "\n",
    "* Try to create a traffic jam at one of the scenarios from the webiste: https://traffic-simulation.de/ .\n",
    "* Record the state of the network (click 'start' at the bottom)\n",
    "* Donwload the files (.txt) with the speed and flow at detectors\n",
    "* Assume fundamental relation $q=kv$\n",
    "* Reproduce hopefully three stages of fundamental diagram $q=f(k)$\n",
    "\n"
   ]
  },
  {
   "cell_type": "markdown",
   "metadata": {},
   "source": [
    "# C: Social force model for pedestrians\n",
    "\n",
    "* use [this](https://github.com/svenkreiss/socialforce) repository \n",
    "* follow this [corridor example](https://github.com/svenkreiss/socialforce/blob/main/guide/corridor.ipynb)\n",
    "* change number of people to very low\n",
    "* change the number of people to very high\n",
    "*  make the corridor narrow\n",
    "* observe 10 seconds of movement\n",
    "\n"
   ]
  },
  {
   "cell_type": "markdown",
   "metadata": {},
   "source": [
    "# extras: SUMO\n",
    "\n",
    "https://sumo.dlr.de/docs/Tutorials/Hello_World.html"
   ]
  }
 ],
 "metadata": {
  "kernelspec": {
   "display_name": "Python 3 (ipykernel)",
   "language": "python",
   "name": "python3"
  },
  "language_info": {
   "codemirror_mode": {
    "name": "ipython",
    "version": 3
   },
   "file_extension": ".py",
   "mimetype": "text/x-python",
   "name": "python",
   "nbconvert_exporter": "python",
   "pygments_lexer": "ipython3",
   "version": "3.11.0"
  },
  "vscode": {
   "interpreter": {
    "hash": "d61bec7a81d1b3d5bcf9f639e71aae732148bc7cc8396b7d01e8578248450317"
   }
  }
 },
 "nbformat": 4,
 "nbformat_minor": 4
}
