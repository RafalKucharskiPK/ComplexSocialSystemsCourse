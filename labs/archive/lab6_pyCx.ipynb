{
 "cells": [
  {
   "attachments": {},
   "cell_type": "markdown",
   "metadata": {},
   "source": [
    "# Complex systems analysis with python\n",
    "\n",
    "1. install `pyCx` https://github.com/hsayama/PyCX\n",
    "2. run several examples, inlcuding:\n",
    "* `abm-swarm.py`\n",
    "* `ca-panic.py`\n",
    "* `ca-gameoflife.py`\n",
    "* `ca-forestfire.py`\n",
    "* `abm-segregation-discrete.py`\n",
    "3. See the python code and control:\n",
    "    * initial settings\n",
    "    * step rule\n",
    "    * observe the changes"
   ]
  },
  {
   "cell_type": "code",
   "execution_count": null,
   "metadata": {},
   "outputs": [],
   "source": [
    "a=3"
   ]
  },
  {
   "cell_type": "markdown",
   "metadata": {},
   "source": [
    "------"
   ]
  },
  {
   "cell_type": "markdown",
   "metadata": {},
   "source": []
  }
 ],
 "metadata": {
  "kernelspec": {
   "display_name": "ExMAS",
   "language": "python",
   "name": "python3"
  },
  "language_info": {
   "name": "python",
   "version": "3.11.0"
  },
  "orig_nbformat": 4
 },
 "nbformat": 4,
 "nbformat_minor": 2
}
