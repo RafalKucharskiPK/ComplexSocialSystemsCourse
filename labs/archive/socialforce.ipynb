{
 "cells": [
  {
   "cell_type": "code",
   "execution_count": 3,
   "metadata": {},
   "outputs": [
    {
     "name": "stdout",
     "output_type": "stream",
     "text": [
      "Collecting socialforce[dev,plot]\n",
      "  Using cached socialforce-0.2.1.tar.gz (15 kB)\n",
      "  Preparing metadata (setup.py) ... \u001b[?25ldone\n",
      "\u001b[?25hRequirement already satisfied: numpy in /Users/rafalkucharski/miniforge3/envs/socialforce/lib/python3.11/site-packages (from socialforce[dev,plot]) (1.24.2)\n",
      "  Using cached socialforce-0.2.0.tar.gz (16 kB)\n",
      "  Preparing metadata (setup.py) ... \u001b[?25ldone\n",
      "\u001b[?25h\u001b[31mERROR: Cannot install socialforce[dev,plot]==0.2.0 and socialforce[dev,plot]==0.2.1 because these package versions have conflicting dependencies.\u001b[0m\u001b[31m\n",
      "\u001b[0m\n",
      "The conflict is caused by:\n",
      "    socialforce[dev,plot] 0.2.1 depends on torch\n",
      "    socialforce[dev,plot] 0.2.0 depends on torch\n",
      "\n",
      "To fix this you could try to:\n",
      "1. loosen the range of package versions you've specified\n",
      "2. remove package versions to allow pip attempt to solve the dependency conflict\n",
      "\n",
      "\u001b[31mERROR: ResolutionImpossible: for help visit https://pip.pypa.io/en/latest/topics/dependency-resolution/#dealing-with-dependency-conflicts\u001b[0m\u001b[31m\n",
      "\u001b[0m"
     ]
    }
   ],
   "source": [
    "!pip install 'socialforce[dev,plot]'"
   ]
  },
  {
   "cell_type": "code",
   "execution_count": 2,
   "metadata": {},
   "outputs": [
    {
     "name": "stdout",
     "output_type": "stream",
     "text": [
      "Collecting numpy\n",
      "  Using cached numpy-1.24.2-cp311-cp311-macosx_11_0_arm64.whl (13.8 MB)\n",
      "Installing collected packages: numpy\n",
      "Successfully installed numpy-1.24.2\n"
     ]
    }
   ],
   "source": [
    "!pip install numpy"
   ]
  },
  {
   "cell_type": "code",
   "execution_count": 8,
   "metadata": {},
   "outputs": [
    {
     "name": "stdout",
     "output_type": "stream",
     "text": [
      "Collecting pytorch\n",
      "  Downloading pytorch-1.0.2.tar.gz (689 bytes)\n",
      "  Preparing metadata (setup.py) ... \u001b[?25ldone\n",
      "\u001b[?25hBuilding wheels for collected packages: pytorch\n",
      "  Building wheel for pytorch (setup.py) ... \u001b[?25lerror\n",
      "  \u001b[1;31merror\u001b[0m: \u001b[1msubprocess-exited-with-error\u001b[0m\n",
      "  \n",
      "  \u001b[31m×\u001b[0m \u001b[32mpython setup.py bdist_wheel\u001b[0m did not run successfully.\n",
      "  \u001b[31m│\u001b[0m exit code: \u001b[1;36m1\u001b[0m\n",
      "  \u001b[31m╰─>\u001b[0m \u001b[31m[6 lines of output]\u001b[0m\n",
      "  \u001b[31m   \u001b[0m Traceback (most recent call last):\n",
      "  \u001b[31m   \u001b[0m   File \"<string>\", line 2, in <module>\n",
      "  \u001b[31m   \u001b[0m   File \"<pip-setuptools-caller>\", line 34, in <module>\n",
      "  \u001b[31m   \u001b[0m   File \"/private/var/folders/11/v91c3qb92lg10fbgz1ptll4m0000gn/T/pip-install-un5m0cmq/pytorch_1ff46580b31d4959ba4b352e8b31fb99/setup.py\", line 15, in <module>\n",
      "  \u001b[31m   \u001b[0m     raise Exception(message)\n",
      "  \u001b[31m   \u001b[0m Exception: You tried to install \"pytorch\". The package named for PyTorch is \"torch\"\n",
      "  \u001b[31m   \u001b[0m \u001b[31m[end of output]\u001b[0m\n",
      "  \n",
      "  \u001b[1;35mnote\u001b[0m: This error originates from a subprocess, and is likely not a problem with pip.\n",
      "\u001b[31m  ERROR: Failed building wheel for pytorch\u001b[0m\u001b[31m\n",
      "\u001b[0m\u001b[?25h  Running setup.py clean for pytorch\n",
      "Failed to build pytorch\n",
      "Installing collected packages: pytorch\n",
      "  Running setup.py install for pytorch ... \u001b[?25lerror\n",
      "  \u001b[1;31merror\u001b[0m: \u001b[1msubprocess-exited-with-error\u001b[0m\n",
      "  \n",
      "  \u001b[31m×\u001b[0m \u001b[32mRunning setup.py install for pytorch\u001b[0m did not run successfully.\n",
      "  \u001b[31m│\u001b[0m exit code: \u001b[1;36m1\u001b[0m\n",
      "  \u001b[31m╰─>\u001b[0m \u001b[31m[6 lines of output]\u001b[0m\n",
      "  \u001b[31m   \u001b[0m Traceback (most recent call last):\n",
      "  \u001b[31m   \u001b[0m   File \"<string>\", line 2, in <module>\n",
      "  \u001b[31m   \u001b[0m   File \"<pip-setuptools-caller>\", line 34, in <module>\n",
      "  \u001b[31m   \u001b[0m   File \"/private/var/folders/11/v91c3qb92lg10fbgz1ptll4m0000gn/T/pip-install-un5m0cmq/pytorch_1ff46580b31d4959ba4b352e8b31fb99/setup.py\", line 11, in <module>\n",
      "  \u001b[31m   \u001b[0m     raise Exception(message)\n",
      "  \u001b[31m   \u001b[0m Exception: You tried to install \"pytorch\". The package named for PyTorch is \"torch\"\n",
      "  \u001b[31m   \u001b[0m \u001b[31m[end of output]\u001b[0m\n",
      "  \n",
      "  \u001b[1;35mnote\u001b[0m: This error originates from a subprocess, and is likely not a problem with pip.\n",
      "\u001b[?25h\u001b[1;31merror\u001b[0m: \u001b[1mlegacy-install-failure\u001b[0m\n",
      "\n",
      "\u001b[31m×\u001b[0m Encountered error while trying to install package.\n",
      "\u001b[31m╰─>\u001b[0m pytorch\n",
      "\n",
      "\u001b[1;35mnote\u001b[0m: This is an issue with the package mentioned above, not pip.\n",
      "\u001b[1;36mhint\u001b[0m: See above for output from the failure.\n"
     ]
    }
   ],
   "source": [
    "!pip install pytorch"
   ]
  },
  {
   "cell_type": "code",
   "execution_count": 1,
   "metadata": {},
   "outputs": [
    {
     "name": "stderr",
     "output_type": "stream",
     "text": [
      "/Users/rafalkucharski/miniforge3/lib/python3.10/site-packages/tqdm/auto.py:22: TqdmWarning: IProgress not found. Please update jupyter and ipywidgets. See https://ipywidgets.readthedocs.io/en/stable/user_install.html\n",
      "  from .autonotebook import tqdm as notebook_tqdm\n"
     ]
    },
    {
     "ename": "RuntimeError",
     "evalue": "one of the variables needed for gradient computation has been modified by an inplace operation: [torch.FloatTensor [2, 2]], which is output 0 of LinalgVectorNormBackward0, is at version 1; expected version 0 instead. Hint: enable anomaly detection to find the operation that failed to compute its gradient, with torch.autograd.set_detect_anomaly(True).",
     "output_type": "error",
     "traceback": [
      "\u001b[0;31m---------------------------------------------------------------------------\u001b[0m",
      "\u001b[0;31mRuntimeError\u001b[0m                              Traceback (most recent call last)",
      "Cell \u001b[0;32mIn[1], line 8\u001b[0m\n\u001b[1;32m      5\u001b[0m parallel \u001b[39m=\u001b[39m socialforce\u001b[39m.\u001b[39mscenarios\u001b[39m.\u001b[39mParallelOvertake(ped_ped\u001b[39m=\u001b[39mped_ped)\n\u001b[1;32m      7\u001b[0m _ \u001b[39m=\u001b[39m torch\u001b[39m.\u001b[39mmanual_seed(\u001b[39m42\u001b[39m)\n\u001b[0;32m----> 8\u001b[0m scenarios_1 \u001b[39m=\u001b[39m parallel\u001b[39m.\u001b[39;49mgenerate(\u001b[39m1\u001b[39;49m)\n",
      "File \u001b[0;32m~/miniforge3/lib/python3.10/site-packages/socialforce/scenarios.py:65\u001b[0m, in \u001b[0;36mParallelOvertake.generate\u001b[0;34m(self, n)\u001b[0m\n\u001b[1;32m     62\u001b[0m     generator_initial_states\u001b[39m.\u001b[39mappend(state)\n\u001b[1;32m     64\u001b[0m \u001b[39mwith\u001b[39;00m torch\u001b[39m.\u001b[39mno_grad():\n\u001b[0;32m---> 65\u001b[0m     \u001b[39mreturn\u001b[39;00m [\n\u001b[1;32m     66\u001b[0m         \u001b[39mself\u001b[39m\u001b[39m.\u001b[39msimulator\u001b[39m.\u001b[39mrun(initial_state, \u001b[39m21\u001b[39m)\n\u001b[1;32m     67\u001b[0m         \u001b[39mfor\u001b[39;00m initial_state \u001b[39min\u001b[39;00m generator_initial_states\n\u001b[1;32m     68\u001b[0m     ]\n",
      "File \u001b[0;32m~/miniforge3/lib/python3.10/site-packages/socialforce/scenarios.py:66\u001b[0m, in \u001b[0;36m<listcomp>\u001b[0;34m(.0)\u001b[0m\n\u001b[1;32m     62\u001b[0m     generator_initial_states\u001b[39m.\u001b[39mappend(state)\n\u001b[1;32m     64\u001b[0m \u001b[39mwith\u001b[39;00m torch\u001b[39m.\u001b[39mno_grad():\n\u001b[1;32m     65\u001b[0m     \u001b[39mreturn\u001b[39;00m [\n\u001b[0;32m---> 66\u001b[0m         \u001b[39mself\u001b[39;49m\u001b[39m.\u001b[39;49msimulator\u001b[39m.\u001b[39;49mrun(initial_state, \u001b[39m21\u001b[39;49m)\n\u001b[1;32m     67\u001b[0m         \u001b[39mfor\u001b[39;00m initial_state \u001b[39min\u001b[39;00m generator_initial_states\n\u001b[1;32m     68\u001b[0m     ]\n",
      "File \u001b[0;32m~/miniforge3/lib/python3.10/site-packages/socialforce/simulator.py:161\u001b[0m, in \u001b[0;36mSimulator.run\u001b[0;34m(self, state, n_steps)\u001b[0m\n\u001b[1;32m    159\u001b[0m \u001b[39mfor\u001b[39;00m _ \u001b[39min\u001b[39;00m \u001b[39mrange\u001b[39m(n_steps):\n\u001b[1;32m    160\u001b[0m     last_state \u001b[39m=\u001b[39m states[\u001b[39m-\u001b[39m\u001b[39m1\u001b[39m]\n\u001b[0;32m--> 161\u001b[0m     states\u001b[39m.\u001b[39mappend(\u001b[39mself\u001b[39;49m(last_state)\u001b[39m.\u001b[39mclone())\n\u001b[1;32m    163\u001b[0m \u001b[39mreturn\u001b[39;00m torch\u001b[39m.\u001b[39mstack(states)\n",
      "File \u001b[0;32m~/miniforge3/lib/python3.10/site-packages/torch/nn/modules/module.py:1194\u001b[0m, in \u001b[0;36mModule._call_impl\u001b[0;34m(self, *input, **kwargs)\u001b[0m\n\u001b[1;32m   1190\u001b[0m \u001b[39m# If we don't have any hooks, we want to skip the rest of the logic in\u001b[39;00m\n\u001b[1;32m   1191\u001b[0m \u001b[39m# this function, and just call forward.\u001b[39;00m\n\u001b[1;32m   1192\u001b[0m \u001b[39mif\u001b[39;00m \u001b[39mnot\u001b[39;00m (\u001b[39mself\u001b[39m\u001b[39m.\u001b[39m_backward_hooks \u001b[39mor\u001b[39;00m \u001b[39mself\u001b[39m\u001b[39m.\u001b[39m_forward_hooks \u001b[39mor\u001b[39;00m \u001b[39mself\u001b[39m\u001b[39m.\u001b[39m_forward_pre_hooks \u001b[39mor\u001b[39;00m _global_backward_hooks\n\u001b[1;32m   1193\u001b[0m         \u001b[39mor\u001b[39;00m _global_forward_hooks \u001b[39mor\u001b[39;00m _global_forward_pre_hooks):\n\u001b[0;32m-> 1194\u001b[0m     \u001b[39mreturn\u001b[39;00m forward_call(\u001b[39m*\u001b[39;49m\u001b[39minput\u001b[39;49m, \u001b[39m*\u001b[39;49m\u001b[39m*\u001b[39;49mkwargs)\n\u001b[1;32m   1195\u001b[0m \u001b[39m# Do not call functions when jit is used\u001b[39;00m\n\u001b[1;32m   1196\u001b[0m full_backward_hooks, non_full_backward_hooks \u001b[39m=\u001b[39m [], []\n",
      "File \u001b[0;32m~/miniforge3/lib/python3.10/site-packages/socialforce/simulator.py:116\u001b[0m, in \u001b[0;36mSimulator.forward\u001b[0;34m(self, *args)\u001b[0m\n\u001b[1;32m    113\u001b[0m state \u001b[39m=\u001b[39m \u001b[39mself\u001b[39m\u001b[39m.\u001b[39mnormalize_state(state\u001b[39m.\u001b[39mclone()\u001b[39m.\u001b[39mdetach())\n\u001b[1;32m    115\u001b[0m \u001b[39mfor\u001b[39;00m _ \u001b[39min\u001b[39;00m \u001b[39mrange\u001b[39m(\u001b[39mself\u001b[39m\u001b[39m.\u001b[39moversampling):\n\u001b[0;32m--> 116\u001b[0m     state \u001b[39m=\u001b[39m \u001b[39mself\u001b[39;49m\u001b[39m.\u001b[39;49m_step(state)\n\u001b[1;32m    118\u001b[0m \u001b[39mreturn\u001b[39;00m state\n",
      "File \u001b[0;32m~/miniforge3/lib/python3.10/site-packages/socialforce/simulator.py:131\u001b[0m, in \u001b[0;36mSimulator._step\u001b[0;34m(self, state)\u001b[0m\n\u001b[1;32m    128\u001b[0m F0 \u001b[39m=\u001b[39m \u001b[39m1.0\u001b[39m \u001b[39m/\u001b[39m tau \u001b[39m*\u001b[39m (preferred_speeds \u001b[39m*\u001b[39m e \u001b[39m-\u001b[39m vel)\n\u001b[1;32m    130\u001b[0m \u001b[39m# repulsive terms between pedestrians\u001b[39;00m\n\u001b[0;32m--> 131\u001b[0m f_ab \u001b[39m=\u001b[39m \u001b[39mself\u001b[39;49m\u001b[39m.\u001b[39;49mf_ab(state\u001b[39m.\u001b[39;49mdetach())\n\u001b[1;32m    133\u001b[0m \u001b[39m# field of view modulation\u001b[39;00m\n\u001b[1;32m    134\u001b[0m \u001b[39mif\u001b[39;00m f_ab \u001b[39mis\u001b[39;00m \u001b[39mnot\u001b[39;00m \u001b[39mNone\u001b[39;00m \u001b[39mand\u001b[39;00m \u001b[39mself\u001b[39m\u001b[39m.\u001b[39mw \u001b[39mis\u001b[39;00m \u001b[39mnot\u001b[39;00m \u001b[39mNone\u001b[39;00m \u001b[39mand\u001b[39;00m \u001b[39mself\u001b[39m\u001b[39m.\u001b[39mw \u001b[39m!=\u001b[39m \u001b[39m-\u001b[39m\u001b[39m1\u001b[39m:\n\u001b[1;32m    135\u001b[0m     \u001b[39m# w = self.w(e, -f_ab).unsqueeze(-1).detach()\u001b[39;00m\n",
      "File \u001b[0;32m~/miniforge3/lib/python3.10/site-packages/socialforce/simulator.py:91\u001b[0m, in \u001b[0;36mSimulator.f_ab\u001b[0;34m(self, state)\u001b[0m\n\u001b[1;32m     89\u001b[0m \u001b[39mdef\u001b[39;00m \u001b[39mf_ab\u001b[39m(\u001b[39mself\u001b[39m, state):\n\u001b[1;32m     90\u001b[0m \u001b[39m    \u001b[39m\u001b[39m\"\"\"Compute f_ab.\"\"\"\u001b[39;00m\n\u001b[0;32m---> 91\u001b[0m     \u001b[39mreturn\u001b[39;00m \u001b[39m-\u001b[39m\u001b[39m1.0\u001b[39m \u001b[39m*\u001b[39m \u001b[39mself\u001b[39;49m\u001b[39m.\u001b[39;49mV\u001b[39m.\u001b[39;49mgrad_r_ab(state)\n",
      "File \u001b[0;32m~/miniforge3/lib/python3.10/site-packages/socialforce/potentials/pedped_1d.py:87\u001b[0m, in \u001b[0;36mPedPedPotential.grad_r_ab\u001b[0;34m(self, state)\u001b[0m\n\u001b[1;32m     85\u001b[0m desired_directions \u001b[39m=\u001b[39m stateutils\u001b[39m.\u001b[39mdesired_directions(state)\u001b[39m.\u001b[39mdetach()\n\u001b[1;32m     86\u001b[0m r_ab \u001b[39m=\u001b[39m \u001b[39mself\u001b[39m\u001b[39m.\u001b[39mr_ab(state)\n\u001b[0;32m---> 87\u001b[0m \u001b[39mreturn\u001b[39;00m \u001b[39mself\u001b[39;49m\u001b[39m.\u001b[39;49mgrad_r_ab_(r_ab, speeds, desired_directions)\n",
      "File \u001b[0;32m~/miniforge3/lib/python3.10/site-packages/socialforce/potentials/pedped_1d.py:96\u001b[0m, in \u001b[0;36mPedPedPotential.grad_r_ab_\u001b[0;34m(self, r_ab, speeds, desired_directions)\u001b[0m\n\u001b[1;32m     94\u001b[0m \u001b[39mwith\u001b[39;00m torch\u001b[39m.\u001b[39menable_grad():\n\u001b[1;32m     95\u001b[0m     vector \u001b[39m=\u001b[39m torch\u001b[39m.\u001b[39mones(r_ab\u001b[39m.\u001b[39mshape[\u001b[39m0\u001b[39m:\u001b[39m2\u001b[39m], requires_grad\u001b[39m=\u001b[39m\u001b[39mFalse\u001b[39;00m)\n\u001b[0;32m---> 96\u001b[0m     _, r_ab_grad \u001b[39m=\u001b[39m torch\u001b[39m.\u001b[39;49mautograd\u001b[39m.\u001b[39;49mfunctional\u001b[39m.\u001b[39;49mvjp(\n\u001b[1;32m     97\u001b[0m         compute, r_ab, vector,\n\u001b[1;32m     98\u001b[0m         create_graph\u001b[39m=\u001b[39;49m\u001b[39mTrue\u001b[39;49;00m, strict\u001b[39m=\u001b[39;49m\u001b[39mTrue\u001b[39;49;00m)\n\u001b[1;32m    100\u001b[0m \u001b[39mreturn\u001b[39;00m r_ab_grad\n",
      "File \u001b[0;32m~/miniforge3/lib/python3.10/site-packages/torch/autograd/functional.py:287\u001b[0m, in \u001b[0;36mvjp\u001b[0;34m(func, inputs, v, create_graph, strict)\u001b[0m\n\u001b[1;32m    285\u001b[0m enable_grad \u001b[39m=\u001b[39m \u001b[39mTrue\u001b[39;00m \u001b[39mif\u001b[39;00m create_graph \u001b[39melse\u001b[39;00m torch\u001b[39m.\u001b[39mis_grad_enabled()\n\u001b[1;32m    286\u001b[0m \u001b[39mwith\u001b[39;00m torch\u001b[39m.\u001b[39mset_grad_enabled(enable_grad):\n\u001b[0;32m--> 287\u001b[0m     grad_res \u001b[39m=\u001b[39m _autograd_grad(outputs, inputs, v, create_graph\u001b[39m=\u001b[39;49mcreate_graph)\n\u001b[1;32m    288\u001b[0m     vjp \u001b[39m=\u001b[39m _fill_in_zeros(grad_res, inputs, strict, create_graph, \u001b[39m\"\u001b[39m\u001b[39mback\u001b[39m\u001b[39m\"\u001b[39m)\n\u001b[1;32m    290\u001b[0m \u001b[39m# Cleanup objects and return them to the user\u001b[39;00m\n",
      "File \u001b[0;32m~/miniforge3/lib/python3.10/site-packages/torch/autograd/functional.py:159\u001b[0m, in \u001b[0;36m_autograd_grad\u001b[0;34m(outputs, inputs, grad_outputs, create_graph, retain_graph, is_grads_batched)\u001b[0m\n\u001b[1;32m    157\u001b[0m     \u001b[39mreturn\u001b[39;00m (\u001b[39mNone\u001b[39;00m,) \u001b[39m*\u001b[39m \u001b[39mlen\u001b[39m(inputs)\n\u001b[1;32m    158\u001b[0m \u001b[39melse\u001b[39;00m:\n\u001b[0;32m--> 159\u001b[0m     \u001b[39mreturn\u001b[39;00m torch\u001b[39m.\u001b[39;49mautograd\u001b[39m.\u001b[39;49mgrad(new_outputs, inputs, new_grad_outputs, allow_unused\u001b[39m=\u001b[39;49m\u001b[39mTrue\u001b[39;49;00m,\n\u001b[1;32m    160\u001b[0m                                create_graph\u001b[39m=\u001b[39;49mcreate_graph, retain_graph\u001b[39m=\u001b[39;49mretain_graph,\n\u001b[1;32m    161\u001b[0m                                is_grads_batched\u001b[39m=\u001b[39;49mis_grads_batched)\n",
      "File \u001b[0;32m~/miniforge3/lib/python3.10/site-packages/torch/autograd/__init__.py:300\u001b[0m, in \u001b[0;36mgrad\u001b[0;34m(outputs, inputs, grad_outputs, retain_graph, create_graph, only_inputs, allow_unused, is_grads_batched)\u001b[0m\n\u001b[1;32m    298\u001b[0m     \u001b[39mreturn\u001b[39;00m _vmap_internals\u001b[39m.\u001b[39m_vmap(vjp, \u001b[39m0\u001b[39m, \u001b[39m0\u001b[39m, allow_none_pass_through\u001b[39m=\u001b[39m\u001b[39mTrue\u001b[39;00m)(grad_outputs_)\n\u001b[1;32m    299\u001b[0m \u001b[39melse\u001b[39;00m:\n\u001b[0;32m--> 300\u001b[0m     \u001b[39mreturn\u001b[39;00m Variable\u001b[39m.\u001b[39;49m_execution_engine\u001b[39m.\u001b[39;49mrun_backward(  \u001b[39m# Calls into the C++ engine to run the backward pass\u001b[39;49;00m\n\u001b[1;32m    301\u001b[0m         t_outputs, grad_outputs_, retain_graph, create_graph, t_inputs,\n\u001b[1;32m    302\u001b[0m         allow_unused, accumulate_grad\u001b[39m=\u001b[39;49m\u001b[39mFalse\u001b[39;49;00m)\n",
      "\u001b[0;31mRuntimeError\u001b[0m: one of the variables needed for gradient computation has been modified by an inplace operation: [torch.FloatTensor [2, 2]], which is output 0 of LinalgVectorNormBackward0, is at version 1; expected version 0 instead. Hint: enable anomaly detection to find the operation that failed to compute its gradient, with torch.autograd.set_detect_anomaly(True)."
     ]
    }
   ],
   "source": [
    "import socialforce\n",
    "import torch\n",
    "\n",
    "ped_ped = socialforce.potentials.PedPedPotential()\n",
    "parallel = socialforce.scenarios.ParallelOvertake(ped_ped=ped_ped)\n",
    "\n",
    "_ = torch.manual_seed(42)\n",
    "scenarios_1 = parallel.generate(1)"
   ]
  },
  {
   "cell_type": "code",
   "execution_count": 2,
   "metadata": {},
   "outputs": [],
   "source": [
    "import torch"
   ]
  },
  {
   "cell_type": "code",
   "execution_count": 1,
   "metadata": {},
   "outputs": [
    {
     "name": "stderr",
     "output_type": "stream",
     "text": [
      "/Users/rafalkucharski/miniforge3/lib/python3.10/site-packages/tqdm/auto.py:22: TqdmWarning: IProgress not found. Please update jupyter and ipywidgets. See https://ipywidgets.readthedocs.io/en/stable/user_install.html\n",
      "  from .autonotebook import tqdm as notebook_tqdm\n"
     ]
    }
   ],
   "source": [
    "import socialforce\n",
    "\n",
    "ped_ped = socialforce.potentials.PedPedPotential()\n",
    "\n"
   ]
  },
  {
   "cell_type": "code",
   "execution_count": 8,
   "metadata": {},
   "outputs": [
    {
     "name": "stderr",
     "output_type": "stream",
     "text": [
      "/Users/rafalkucharski/miniforge3/lib/python3.10/site-packages/torch/autograd/__init__.py:300: UserWarning: Error detected in LinalgVectorNormBackward0. Traceback of forward call that caused the error:\n",
      "  File \"/Users/rafalkucharski/miniforge3/lib/python3.10/runpy.py\", line 196, in _run_module_as_main\n",
      "    return _run_code(code, main_globals, None,\n",
      "  File \"/Users/rafalkucharski/miniforge3/lib/python3.10/runpy.py\", line 86, in _run_code\n",
      "    exec(code, run_globals)\n",
      "  File \"/Users/rafalkucharski/miniforge3/lib/python3.10/site-packages/ipykernel_launcher.py\", line 17, in <module>\n",
      "    app.launch_new_instance()\n",
      "  File \"/Users/rafalkucharski/miniforge3/lib/python3.10/site-packages/traitlets/config/application.py\", line 1043, in launch_instance\n",
      "    app.start()\n",
      "  File \"/Users/rafalkucharski/miniforge3/lib/python3.10/site-packages/ipykernel/kernelapp.py\", line 712, in start\n",
      "    self.io_loop.start()\n",
      "  File \"/Users/rafalkucharski/miniforge3/lib/python3.10/site-packages/tornado/platform/asyncio.py\", line 215, in start\n",
      "    self.asyncio_loop.run_forever()\n",
      "  File \"/Users/rafalkucharski/miniforge3/lib/python3.10/asyncio/base_events.py\", line 603, in run_forever\n",
      "    self._run_once()\n",
      "  File \"/Users/rafalkucharski/miniforge3/lib/python3.10/asyncio/base_events.py\", line 1899, in _run_once\n",
      "    handle._run()\n",
      "  File \"/Users/rafalkucharski/miniforge3/lib/python3.10/asyncio/events.py\", line 80, in _run\n",
      "    self._context.run(self._callback, *self._args)\n",
      "  File \"/Users/rafalkucharski/miniforge3/lib/python3.10/site-packages/ipykernel/kernelbase.py\", line 510, in dispatch_queue\n",
      "    await self.process_one()\n",
      "  File \"/Users/rafalkucharski/miniforge3/lib/python3.10/site-packages/ipykernel/kernelbase.py\", line 499, in process_one\n",
      "    await dispatch(*args)\n",
      "  File \"/Users/rafalkucharski/miniforge3/lib/python3.10/site-packages/ipykernel/kernelbase.py\", line 406, in dispatch_shell\n",
      "    await result\n",
      "  File \"/Users/rafalkucharski/miniforge3/lib/python3.10/site-packages/ipykernel/kernelbase.py\", line 730, in execute_request\n",
      "    reply_content = await reply_content\n",
      "  File \"/Users/rafalkucharski/miniforge3/lib/python3.10/site-packages/ipykernel/ipkernel.py\", line 383, in do_execute\n",
      "    res = shell.run_cell(\n",
      "  File \"/Users/rafalkucharski/miniforge3/lib/python3.10/site-packages/ipykernel/zmqshell.py\", line 528, in run_cell\n",
      "    return super().run_cell(*args, **kwargs)\n",
      "  File \"/Users/rafalkucharski/miniforge3/lib/python3.10/site-packages/IPython/core/interactiveshell.py\", line 2961, in run_cell\n",
      "    result = self._run_cell(\n",
      "  File \"/Users/rafalkucharski/miniforge3/lib/python3.10/site-packages/IPython/core/interactiveshell.py\", line 3016, in _run_cell\n",
      "    result = runner(coro)\n",
      "  File \"/Users/rafalkucharski/miniforge3/lib/python3.10/site-packages/IPython/core/async_helpers.py\", line 129, in _pseudo_sync_runner\n",
      "    coro.send(None)\n",
      "  File \"/Users/rafalkucharski/miniforge3/lib/python3.10/site-packages/IPython/core/interactiveshell.py\", line 3221, in run_cell_async\n",
      "    has_raised = await self.run_ast_nodes(code_ast.body, cell_name,\n",
      "  File \"/Users/rafalkucharski/miniforge3/lib/python3.10/site-packages/IPython/core/interactiveshell.py\", line 3400, in run_ast_nodes\n",
      "    if await self.run_code(code, result, async_=asy):\n",
      "  File \"/Users/rafalkucharski/miniforge3/lib/python3.10/site-packages/IPython/core/interactiveshell.py\", line 3460, in run_code\n",
      "    exec(code_obj, self.user_global_ns, self.user_ns)\n",
      "  File \"/var/folders/11/v91c3qb92lg10fbgz1ptll4m0000gn/T/ipykernel_11338/2232998125.py\", line 2, in <module>\n",
      "    scenarios = circle.generate(1)\n",
      "  File \"/Users/rafalkucharski/miniforge3/lib/python3.10/site-packages/socialforce/scenarios.py\", line 37, in generate\n",
      "    return [\n",
      "  File \"/Users/rafalkucharski/miniforge3/lib/python3.10/site-packages/socialforce/scenarios.py\", line 38, in <listcomp>\n",
      "    self.simulator.run(initial_state, steps_per_scenario)\n",
      "  File \"/Users/rafalkucharski/miniforge3/lib/python3.10/site-packages/socialforce/simulator.py\", line 161, in run\n",
      "    states.append(self(last_state).clone())\n",
      "  File \"/Users/rafalkucharski/miniforge3/lib/python3.10/site-packages/torch/nn/modules/module.py\", line 1194, in _call_impl\n",
      "    return forward_call(*input, **kwargs)\n",
      "  File \"/Users/rafalkucharski/miniforge3/lib/python3.10/site-packages/socialforce/simulator.py\", line 116, in forward\n",
      "    state = self._step(state)\n",
      "  File \"/Users/rafalkucharski/miniforge3/lib/python3.10/site-packages/socialforce/simulator.py\", line 131, in _step\n",
      "    f_ab = self.f_ab(state.detach())\n",
      "  File \"/Users/rafalkucharski/miniforge3/lib/python3.10/site-packages/socialforce/simulator.py\", line 91, in f_ab\n",
      "    return -1.0 * self.V.grad_r_ab(state)\n",
      "  File \"/Users/rafalkucharski/miniforge3/lib/python3.10/site-packages/socialforce/potentials/pedped_1d.py\", line 87, in grad_r_ab\n",
      "    return self.grad_r_ab_(r_ab, speeds, desired_directions)\n",
      "  File \"/Users/rafalkucharski/miniforge3/lib/python3.10/site-packages/socialforce/potentials/pedped_1d.py\", line 96, in grad_r_ab_\n",
      "    _, r_ab_grad = torch.autograd.functional.vjp(\n",
      "  File \"/Users/rafalkucharski/miniforge3/lib/python3.10/site-packages/torch/autograd/functional.py\", line 271, in vjp\n",
      "    outputs = func(*inputs)\n",
      "  File \"/Users/rafalkucharski/miniforge3/lib/python3.10/site-packages/socialforce/potentials/pedped_1d.py\", line 92, in compute\n",
      "    return self.value_r_ab(r_ab, speeds, desired_directions)\n",
      "  File \"/Users/rafalkucharski/miniforge3/lib/python3.10/site-packages/socialforce/potentials/pedped_1d.py\", line 45, in value_r_ab\n",
      "    b = self.b(r_ab, speeds, desired_directions)\n",
      "  File \"/Users/rafalkucharski/miniforge3/lib/python3.10/site-packages/socialforce/potentials/pedped_1d.py\", line 29, in b\n",
      "    + self.norm_r_ab(r_ab - self.delta_t_step * speeds_b_abc * e_b)\n",
      "  File \"/Users/rafalkucharski/miniforge3/lib/python3.10/site-packages/socialforce/potentials/pedped_1d.py\", line 111, in norm_r_ab\n",
      "    out = torch.linalg.norm(r_ab, ord=2, dim=2, keepdim=False)\n",
      "  File \"/Users/rafalkucharski/miniforge3/lib/python3.10/site-packages/torch/fx/traceback.py\", line 57, in format_stack\n",
      "    return traceback.format_stack()\n",
      " (Triggered internally at /Users/runner/work/pytorch/pytorch/pytorch/torch/csrc/autograd/python_anomaly_mode.cpp:119.)\n",
      "  return Variable._execution_engine.run_backward(  # Calls into the C++ engine to run the backward pass\n"
     ]
    },
    {
     "ename": "RuntimeError",
     "evalue": "one of the variables needed for gradient computation has been modified by an inplace operation: [torch.FloatTensor [2, 2]], which is output 0 of LinalgVectorNormBackward0, is at version 1; expected version 0 instead. Hint: the backtrace further above shows the operation that failed to compute its gradient. The variable in question was changed in there or anywhere later. Good luck!",
     "output_type": "error",
     "traceback": [
      "\u001b[0;31m---------------------------------------------------------------------------\u001b[0m",
      "\u001b[0;31mRuntimeError\u001b[0m                              Traceback (most recent call last)",
      "Cell \u001b[0;32mIn[8], line 2\u001b[0m\n\u001b[1;32m      1\u001b[0m circle \u001b[39m=\u001b[39m socialforce\u001b[39m.\u001b[39mscenarios\u001b[39m.\u001b[39mCircle()\n\u001b[0;32m----> 2\u001b[0m scenarios \u001b[39m=\u001b[39m circle\u001b[39m.\u001b[39;49mgenerate(\u001b[39m1\u001b[39;49m)\n\u001b[1;32m      3\u001b[0m true_experience \u001b[39m=\u001b[39m socialforce\u001b[39m.\u001b[39mTrainer\u001b[39m.\u001b[39mscenes_to_experience(scenarios)\n\u001b[1;32m      5\u001b[0m \u001b[39mwith\u001b[39;00m socialforce\u001b[39m.\u001b[39mshow\u001b[39m.\u001b[39mtrack_canvas() \u001b[39mas\u001b[39;00m ax:\n",
      "File \u001b[0;32m~/miniforge3/lib/python3.10/site-packages/socialforce/scenarios.py:37\u001b[0m, in \u001b[0;36mCircle.generate\u001b[0;34m(self, n, steps_per_scenario)\u001b[0m\n\u001b[1;32m     32\u001b[0m     generator_initial_states\u001b[39m.\u001b[39mappend(\n\u001b[1;32m     33\u001b[0m         \u001b[39mself\u001b[39m\u001b[39m.\u001b[39msimulator\u001b[39m.\u001b[39mnormalize_state(np\u001b[39m.\u001b[39mstack((ped0, ped1)))\n\u001b[1;32m     34\u001b[0m     )\n\u001b[1;32m     36\u001b[0m \u001b[39mwith\u001b[39;00m torch\u001b[39m.\u001b[39mno_grad():\n\u001b[0;32m---> 37\u001b[0m     \u001b[39mreturn\u001b[39;00m [\n\u001b[1;32m     38\u001b[0m         \u001b[39mself\u001b[39m\u001b[39m.\u001b[39msimulator\u001b[39m.\u001b[39mrun(initial_state, steps_per_scenario)\n\u001b[1;32m     39\u001b[0m         \u001b[39mfor\u001b[39;00m initial_state \u001b[39min\u001b[39;00m generator_initial_states\n\u001b[1;32m     40\u001b[0m     ]\n",
      "File \u001b[0;32m~/miniforge3/lib/python3.10/site-packages/socialforce/scenarios.py:38\u001b[0m, in \u001b[0;36m<listcomp>\u001b[0;34m(.0)\u001b[0m\n\u001b[1;32m     32\u001b[0m     generator_initial_states\u001b[39m.\u001b[39mappend(\n\u001b[1;32m     33\u001b[0m         \u001b[39mself\u001b[39m\u001b[39m.\u001b[39msimulator\u001b[39m.\u001b[39mnormalize_state(np\u001b[39m.\u001b[39mstack((ped0, ped1)))\n\u001b[1;32m     34\u001b[0m     )\n\u001b[1;32m     36\u001b[0m \u001b[39mwith\u001b[39;00m torch\u001b[39m.\u001b[39mno_grad():\n\u001b[1;32m     37\u001b[0m     \u001b[39mreturn\u001b[39;00m [\n\u001b[0;32m---> 38\u001b[0m         \u001b[39mself\u001b[39;49m\u001b[39m.\u001b[39;49msimulator\u001b[39m.\u001b[39;49mrun(initial_state, steps_per_scenario)\n\u001b[1;32m     39\u001b[0m         \u001b[39mfor\u001b[39;00m initial_state \u001b[39min\u001b[39;00m generator_initial_states\n\u001b[1;32m     40\u001b[0m     ]\n",
      "File \u001b[0;32m~/miniforge3/lib/python3.10/site-packages/socialforce/simulator.py:161\u001b[0m, in \u001b[0;36mSimulator.run\u001b[0;34m(self, state, n_steps)\u001b[0m\n\u001b[1;32m    159\u001b[0m \u001b[39mfor\u001b[39;00m _ \u001b[39min\u001b[39;00m \u001b[39mrange\u001b[39m(n_steps):\n\u001b[1;32m    160\u001b[0m     last_state \u001b[39m=\u001b[39m states[\u001b[39m-\u001b[39m\u001b[39m1\u001b[39m]\n\u001b[0;32m--> 161\u001b[0m     states\u001b[39m.\u001b[39mappend(\u001b[39mself\u001b[39;49m(last_state)\u001b[39m.\u001b[39mclone())\n\u001b[1;32m    163\u001b[0m \u001b[39mreturn\u001b[39;00m torch\u001b[39m.\u001b[39mstack(states)\n",
      "File \u001b[0;32m~/miniforge3/lib/python3.10/site-packages/torch/nn/modules/module.py:1194\u001b[0m, in \u001b[0;36mModule._call_impl\u001b[0;34m(self, *input, **kwargs)\u001b[0m\n\u001b[1;32m   1190\u001b[0m \u001b[39m# If we don't have any hooks, we want to skip the rest of the logic in\u001b[39;00m\n\u001b[1;32m   1191\u001b[0m \u001b[39m# this function, and just call forward.\u001b[39;00m\n\u001b[1;32m   1192\u001b[0m \u001b[39mif\u001b[39;00m \u001b[39mnot\u001b[39;00m (\u001b[39mself\u001b[39m\u001b[39m.\u001b[39m_backward_hooks \u001b[39mor\u001b[39;00m \u001b[39mself\u001b[39m\u001b[39m.\u001b[39m_forward_hooks \u001b[39mor\u001b[39;00m \u001b[39mself\u001b[39m\u001b[39m.\u001b[39m_forward_pre_hooks \u001b[39mor\u001b[39;00m _global_backward_hooks\n\u001b[1;32m   1193\u001b[0m         \u001b[39mor\u001b[39;00m _global_forward_hooks \u001b[39mor\u001b[39;00m _global_forward_pre_hooks):\n\u001b[0;32m-> 1194\u001b[0m     \u001b[39mreturn\u001b[39;00m forward_call(\u001b[39m*\u001b[39;49m\u001b[39minput\u001b[39;49m, \u001b[39m*\u001b[39;49m\u001b[39m*\u001b[39;49mkwargs)\n\u001b[1;32m   1195\u001b[0m \u001b[39m# Do not call functions when jit is used\u001b[39;00m\n\u001b[1;32m   1196\u001b[0m full_backward_hooks, non_full_backward_hooks \u001b[39m=\u001b[39m [], []\n",
      "File \u001b[0;32m~/miniforge3/lib/python3.10/site-packages/socialforce/simulator.py:116\u001b[0m, in \u001b[0;36mSimulator.forward\u001b[0;34m(self, *args)\u001b[0m\n\u001b[1;32m    113\u001b[0m state \u001b[39m=\u001b[39m \u001b[39mself\u001b[39m\u001b[39m.\u001b[39mnormalize_state(state\u001b[39m.\u001b[39mclone()\u001b[39m.\u001b[39mdetach())\n\u001b[1;32m    115\u001b[0m \u001b[39mfor\u001b[39;00m _ \u001b[39min\u001b[39;00m \u001b[39mrange\u001b[39m(\u001b[39mself\u001b[39m\u001b[39m.\u001b[39moversampling):\n\u001b[0;32m--> 116\u001b[0m     state \u001b[39m=\u001b[39m \u001b[39mself\u001b[39;49m\u001b[39m.\u001b[39;49m_step(state)\n\u001b[1;32m    118\u001b[0m \u001b[39mreturn\u001b[39;00m state\n",
      "File \u001b[0;32m~/miniforge3/lib/python3.10/site-packages/socialforce/simulator.py:131\u001b[0m, in \u001b[0;36mSimulator._step\u001b[0;34m(self, state)\u001b[0m\n\u001b[1;32m    128\u001b[0m F0 \u001b[39m=\u001b[39m \u001b[39m1.0\u001b[39m \u001b[39m/\u001b[39m tau \u001b[39m*\u001b[39m (preferred_speeds \u001b[39m*\u001b[39m e \u001b[39m-\u001b[39m vel)\n\u001b[1;32m    130\u001b[0m \u001b[39m# repulsive terms between pedestrians\u001b[39;00m\n\u001b[0;32m--> 131\u001b[0m f_ab \u001b[39m=\u001b[39m \u001b[39mself\u001b[39;49m\u001b[39m.\u001b[39;49mf_ab(state\u001b[39m.\u001b[39;49mdetach())\n\u001b[1;32m    133\u001b[0m \u001b[39m# field of view modulation\u001b[39;00m\n\u001b[1;32m    134\u001b[0m \u001b[39mif\u001b[39;00m f_ab \u001b[39mis\u001b[39;00m \u001b[39mnot\u001b[39;00m \u001b[39mNone\u001b[39;00m \u001b[39mand\u001b[39;00m \u001b[39mself\u001b[39m\u001b[39m.\u001b[39mw \u001b[39mis\u001b[39;00m \u001b[39mnot\u001b[39;00m \u001b[39mNone\u001b[39;00m \u001b[39mand\u001b[39;00m \u001b[39mself\u001b[39m\u001b[39m.\u001b[39mw \u001b[39m!=\u001b[39m \u001b[39m-\u001b[39m\u001b[39m1\u001b[39m:\n\u001b[1;32m    135\u001b[0m     \u001b[39m# w = self.w(e, -f_ab).unsqueeze(-1).detach()\u001b[39;00m\n",
      "File \u001b[0;32m~/miniforge3/lib/python3.10/site-packages/socialforce/simulator.py:91\u001b[0m, in \u001b[0;36mSimulator.f_ab\u001b[0;34m(self, state)\u001b[0m\n\u001b[1;32m     89\u001b[0m \u001b[39mdef\u001b[39;00m \u001b[39mf_ab\u001b[39m(\u001b[39mself\u001b[39m, state):\n\u001b[1;32m     90\u001b[0m \u001b[39m    \u001b[39m\u001b[39m\"\"\"Compute f_ab.\"\"\"\u001b[39;00m\n\u001b[0;32m---> 91\u001b[0m     \u001b[39mreturn\u001b[39;00m \u001b[39m-\u001b[39m\u001b[39m1.0\u001b[39m \u001b[39m*\u001b[39m \u001b[39mself\u001b[39;49m\u001b[39m.\u001b[39;49mV\u001b[39m.\u001b[39;49mgrad_r_ab(state)\n",
      "File \u001b[0;32m~/miniforge3/lib/python3.10/site-packages/socialforce/potentials/pedped_1d.py:87\u001b[0m, in \u001b[0;36mPedPedPotential.grad_r_ab\u001b[0;34m(self, state)\u001b[0m\n\u001b[1;32m     85\u001b[0m desired_directions \u001b[39m=\u001b[39m stateutils\u001b[39m.\u001b[39mdesired_directions(state)\u001b[39m.\u001b[39mdetach()\n\u001b[1;32m     86\u001b[0m r_ab \u001b[39m=\u001b[39m \u001b[39mself\u001b[39m\u001b[39m.\u001b[39mr_ab(state)\n\u001b[0;32m---> 87\u001b[0m \u001b[39mreturn\u001b[39;00m \u001b[39mself\u001b[39;49m\u001b[39m.\u001b[39;49mgrad_r_ab_(r_ab, speeds, desired_directions)\n",
      "File \u001b[0;32m~/miniforge3/lib/python3.10/site-packages/socialforce/potentials/pedped_1d.py:96\u001b[0m, in \u001b[0;36mPedPedPotential.grad_r_ab_\u001b[0;34m(self, r_ab, speeds, desired_directions)\u001b[0m\n\u001b[1;32m     94\u001b[0m \u001b[39mwith\u001b[39;00m torch\u001b[39m.\u001b[39menable_grad():\n\u001b[1;32m     95\u001b[0m     vector \u001b[39m=\u001b[39m torch\u001b[39m.\u001b[39mones(r_ab\u001b[39m.\u001b[39mshape[\u001b[39m0\u001b[39m:\u001b[39m2\u001b[39m], requires_grad\u001b[39m=\u001b[39m\u001b[39mFalse\u001b[39;00m)\n\u001b[0;32m---> 96\u001b[0m     _, r_ab_grad \u001b[39m=\u001b[39m torch\u001b[39m.\u001b[39;49mautograd\u001b[39m.\u001b[39;49mfunctional\u001b[39m.\u001b[39;49mvjp(\n\u001b[1;32m     97\u001b[0m         compute, r_ab, vector,\n\u001b[1;32m     98\u001b[0m         create_graph\u001b[39m=\u001b[39;49m\u001b[39mTrue\u001b[39;49;00m, strict\u001b[39m=\u001b[39;49m\u001b[39mTrue\u001b[39;49;00m)\n\u001b[1;32m    100\u001b[0m \u001b[39mreturn\u001b[39;00m r_ab_grad\n",
      "File \u001b[0;32m~/miniforge3/lib/python3.10/site-packages/torch/autograd/functional.py:287\u001b[0m, in \u001b[0;36mvjp\u001b[0;34m(func, inputs, v, create_graph, strict)\u001b[0m\n\u001b[1;32m    285\u001b[0m enable_grad \u001b[39m=\u001b[39m \u001b[39mTrue\u001b[39;00m \u001b[39mif\u001b[39;00m create_graph \u001b[39melse\u001b[39;00m torch\u001b[39m.\u001b[39mis_grad_enabled()\n\u001b[1;32m    286\u001b[0m \u001b[39mwith\u001b[39;00m torch\u001b[39m.\u001b[39mset_grad_enabled(enable_grad):\n\u001b[0;32m--> 287\u001b[0m     grad_res \u001b[39m=\u001b[39m _autograd_grad(outputs, inputs, v, create_graph\u001b[39m=\u001b[39;49mcreate_graph)\n\u001b[1;32m    288\u001b[0m     vjp \u001b[39m=\u001b[39m _fill_in_zeros(grad_res, inputs, strict, create_graph, \u001b[39m\"\u001b[39m\u001b[39mback\u001b[39m\u001b[39m\"\u001b[39m)\n\u001b[1;32m    290\u001b[0m \u001b[39m# Cleanup objects and return them to the user\u001b[39;00m\n",
      "File \u001b[0;32m~/miniforge3/lib/python3.10/site-packages/torch/autograd/functional.py:159\u001b[0m, in \u001b[0;36m_autograd_grad\u001b[0;34m(outputs, inputs, grad_outputs, create_graph, retain_graph, is_grads_batched)\u001b[0m\n\u001b[1;32m    157\u001b[0m     \u001b[39mreturn\u001b[39;00m (\u001b[39mNone\u001b[39;00m,) \u001b[39m*\u001b[39m \u001b[39mlen\u001b[39m(inputs)\n\u001b[1;32m    158\u001b[0m \u001b[39melse\u001b[39;00m:\n\u001b[0;32m--> 159\u001b[0m     \u001b[39mreturn\u001b[39;00m torch\u001b[39m.\u001b[39;49mautograd\u001b[39m.\u001b[39;49mgrad(new_outputs, inputs, new_grad_outputs, allow_unused\u001b[39m=\u001b[39;49m\u001b[39mTrue\u001b[39;49;00m,\n\u001b[1;32m    160\u001b[0m                                create_graph\u001b[39m=\u001b[39;49mcreate_graph, retain_graph\u001b[39m=\u001b[39;49mretain_graph,\n\u001b[1;32m    161\u001b[0m                                is_grads_batched\u001b[39m=\u001b[39;49mis_grads_batched)\n",
      "File \u001b[0;32m~/miniforge3/lib/python3.10/site-packages/torch/autograd/__init__.py:300\u001b[0m, in \u001b[0;36mgrad\u001b[0;34m(outputs, inputs, grad_outputs, retain_graph, create_graph, only_inputs, allow_unused, is_grads_batched)\u001b[0m\n\u001b[1;32m    298\u001b[0m     \u001b[39mreturn\u001b[39;00m _vmap_internals\u001b[39m.\u001b[39m_vmap(vjp, \u001b[39m0\u001b[39m, \u001b[39m0\u001b[39m, allow_none_pass_through\u001b[39m=\u001b[39m\u001b[39mTrue\u001b[39;00m)(grad_outputs_)\n\u001b[1;32m    299\u001b[0m \u001b[39melse\u001b[39;00m:\n\u001b[0;32m--> 300\u001b[0m     \u001b[39mreturn\u001b[39;00m Variable\u001b[39m.\u001b[39;49m_execution_engine\u001b[39m.\u001b[39;49mrun_backward(  \u001b[39m# Calls into the C++ engine to run the backward pass\u001b[39;49;00m\n\u001b[1;32m    301\u001b[0m         t_outputs, grad_outputs_, retain_graph, create_graph, t_inputs,\n\u001b[1;32m    302\u001b[0m         allow_unused, accumulate_grad\u001b[39m=\u001b[39;49m\u001b[39mFalse\u001b[39;49;00m)\n",
      "\u001b[0;31mRuntimeError\u001b[0m: one of the variables needed for gradient computation has been modified by an inplace operation: [torch.FloatTensor [2, 2]], which is output 0 of LinalgVectorNormBackward0, is at version 1; expected version 0 instead. Hint: the backtrace further above shows the operation that failed to compute its gradient. The variable in question was changed in there or anywhere later. Good luck!"
     ]
    }
   ],
   "source": [
    "circle = socialforce.scenarios.Circle()\n",
    "scenarios = circle.generate(1)\n",
    "true_experience = socialforce.Trainer.scenes_to_experience(scenarios)\n",
    "\n",
    "with socialforce.show.track_canvas() as ax:\n",
    "    socialforce.show.states(ax, scenarios[0])\n",
    "    "
   ]
  },
  {
   "cell_type": "code",
   "execution_count": 6,
   "metadata": {},
   "outputs": [
    {
     "name": "stderr",
     "output_type": "stream",
     "text": [
      "/Users/rafalkucharski/miniforge3/lib/python3.10/site-packages/torch/autograd/__init__.py:300: UserWarning: Error detected in LinalgVectorNormBackward0. Traceback of forward call that caused the error:\n",
      "  File \"/Users/rafalkucharski/miniforge3/lib/python3.10/runpy.py\", line 196, in _run_module_as_main\n",
      "    return _run_code(code, main_globals, None,\n",
      "  File \"/Users/rafalkucharski/miniforge3/lib/python3.10/runpy.py\", line 86, in _run_code\n",
      "    exec(code, run_globals)\n",
      "  File \"/Users/rafalkucharski/miniforge3/lib/python3.10/site-packages/ipykernel_launcher.py\", line 17, in <module>\n",
      "    app.launch_new_instance()\n",
      "  File \"/Users/rafalkucharski/miniforge3/lib/python3.10/site-packages/traitlets/config/application.py\", line 1043, in launch_instance\n",
      "    app.start()\n",
      "  File \"/Users/rafalkucharski/miniforge3/lib/python3.10/site-packages/ipykernel/kernelapp.py\", line 712, in start\n",
      "    self.io_loop.start()\n",
      "  File \"/Users/rafalkucharski/miniforge3/lib/python3.10/site-packages/tornado/platform/asyncio.py\", line 215, in start\n",
      "    self.asyncio_loop.run_forever()\n",
      "  File \"/Users/rafalkucharski/miniforge3/lib/python3.10/asyncio/base_events.py\", line 603, in run_forever\n",
      "    self._run_once()\n",
      "  File \"/Users/rafalkucharski/miniforge3/lib/python3.10/asyncio/base_events.py\", line 1899, in _run_once\n",
      "    handle._run()\n",
      "  File \"/Users/rafalkucharski/miniforge3/lib/python3.10/asyncio/events.py\", line 80, in _run\n",
      "    self._context.run(self._callback, *self._args)\n",
      "  File \"/Users/rafalkucharski/miniforge3/lib/python3.10/site-packages/ipykernel/kernelbase.py\", line 510, in dispatch_queue\n",
      "    await self.process_one()\n",
      "  File \"/Users/rafalkucharski/miniforge3/lib/python3.10/site-packages/ipykernel/kernelbase.py\", line 499, in process_one\n",
      "    await dispatch(*args)\n",
      "  File \"/Users/rafalkucharski/miniforge3/lib/python3.10/site-packages/ipykernel/kernelbase.py\", line 406, in dispatch_shell\n",
      "    await result\n",
      "  File \"/Users/rafalkucharski/miniforge3/lib/python3.10/site-packages/ipykernel/kernelbase.py\", line 730, in execute_request\n",
      "    reply_content = await reply_content\n",
      "  File \"/Users/rafalkucharski/miniforge3/lib/python3.10/site-packages/ipykernel/ipkernel.py\", line 383, in do_execute\n",
      "    res = shell.run_cell(\n",
      "  File \"/Users/rafalkucharski/miniforge3/lib/python3.10/site-packages/ipykernel/zmqshell.py\", line 528, in run_cell\n",
      "    return super().run_cell(*args, **kwargs)\n",
      "  File \"/Users/rafalkucharski/miniforge3/lib/python3.10/site-packages/IPython/core/interactiveshell.py\", line 2961, in run_cell\n",
      "    result = self._run_cell(\n",
      "  File \"/Users/rafalkucharski/miniforge3/lib/python3.10/site-packages/IPython/core/interactiveshell.py\", line 3016, in _run_cell\n",
      "    result = runner(coro)\n",
      "  File \"/Users/rafalkucharski/miniforge3/lib/python3.10/site-packages/IPython/core/async_helpers.py\", line 129, in _pseudo_sync_runner\n",
      "    coro.send(None)\n",
      "  File \"/Users/rafalkucharski/miniforge3/lib/python3.10/site-packages/IPython/core/interactiveshell.py\", line 3221, in run_cell_async\n",
      "    has_raised = await self.run_ast_nodes(code_ast.body, cell_name,\n",
      "  File \"/Users/rafalkucharski/miniforge3/lib/python3.10/site-packages/IPython/core/interactiveshell.py\", line 3400, in run_ast_nodes\n",
      "    if await self.run_code(code, result, async_=asy):\n",
      "  File \"/Users/rafalkucharski/miniforge3/lib/python3.10/site-packages/IPython/core/interactiveshell.py\", line 3460, in run_code\n",
      "    exec(code_obj, self.user_global_ns, self.user_ns)\n",
      "  File \"/var/folders/11/v91c3qb92lg10fbgz1ptll4m0000gn/T/ipykernel_11338/9707667.py\", line 4, in <module>\n",
      "    scenarios_1 = circle.generate(1)\n",
      "  File \"/Users/rafalkucharski/miniforge3/lib/python3.10/site-packages/socialforce/scenarios.py\", line 37, in generate\n",
      "    return [\n",
      "  File \"/Users/rafalkucharski/miniforge3/lib/python3.10/site-packages/socialforce/scenarios.py\", line 38, in <listcomp>\n",
      "    self.simulator.run(initial_state, steps_per_scenario)\n",
      "  File \"/Users/rafalkucharski/miniforge3/lib/python3.10/site-packages/socialforce/simulator.py\", line 161, in run\n",
      "    states.append(self(last_state).clone())\n",
      "  File \"/Users/rafalkucharski/miniforge3/lib/python3.10/site-packages/torch/nn/modules/module.py\", line 1194, in _call_impl\n",
      "    return forward_call(*input, **kwargs)\n",
      "  File \"/Users/rafalkucharski/miniforge3/lib/python3.10/site-packages/socialforce/simulator.py\", line 116, in forward\n",
      "    state = self._step(state)\n",
      "  File \"/Users/rafalkucharski/miniforge3/lib/python3.10/site-packages/socialforce/simulator.py\", line 131, in _step\n",
      "    f_ab = self.f_ab(state.detach())\n",
      "  File \"/Users/rafalkucharski/miniforge3/lib/python3.10/site-packages/socialforce/simulator.py\", line 91, in f_ab\n",
      "    return -1.0 * self.V.grad_r_ab(state)\n",
      "  File \"/Users/rafalkucharski/miniforge3/lib/python3.10/site-packages/socialforce/potentials/pedped_1d.py\", line 87, in grad_r_ab\n",
      "    return self.grad_r_ab_(r_ab, speeds, desired_directions)\n",
      "  File \"/Users/rafalkucharski/miniforge3/lib/python3.10/site-packages/socialforce/potentials/pedped_1d.py\", line 96, in grad_r_ab_\n",
      "    _, r_ab_grad = torch.autograd.functional.vjp(\n",
      "  File \"/Users/rafalkucharski/miniforge3/lib/python3.10/site-packages/torch/autograd/functional.py\", line 271, in vjp\n",
      "    outputs = func(*inputs)\n",
      "  File \"/Users/rafalkucharski/miniforge3/lib/python3.10/site-packages/socialforce/potentials/pedped_1d.py\", line 92, in compute\n",
      "    return self.value_r_ab(r_ab, speeds, desired_directions)\n",
      "  File \"/Users/rafalkucharski/miniforge3/lib/python3.10/site-packages/socialforce/potentials/pedped_1d.py\", line 45, in value_r_ab\n",
      "    b = self.b(r_ab, speeds, desired_directions)\n",
      "  File \"/Users/rafalkucharski/miniforge3/lib/python3.10/site-packages/socialforce/potentials/pedped_1d.py\", line 29, in b\n",
      "    + self.norm_r_ab(r_ab - self.delta_t_step * speeds_b_abc * e_b)\n",
      "  File \"/Users/rafalkucharski/miniforge3/lib/python3.10/site-packages/socialforce/potentials/pedped_1d.py\", line 111, in norm_r_ab\n",
      "    out = torch.linalg.norm(r_ab, ord=2, dim=2, keepdim=False)\n",
      "  File \"/Users/rafalkucharski/miniforge3/lib/python3.10/site-packages/torch/fx/traceback.py\", line 57, in format_stack\n",
      "    return traceback.format_stack()\n",
      " (Triggered internally at /Users/runner/work/pytorch/pytorch/pytorch/torch/csrc/autograd/python_anomaly_mode.cpp:119.)\n",
      "  return Variable._execution_engine.run_backward(  # Calls into the C++ engine to run the backward pass\n"
     ]
    },
    {
     "ename": "RuntimeError",
     "evalue": "one of the variables needed for gradient computation has been modified by an inplace operation: [torch.FloatTensor [2, 2]], which is output 0 of LinalgVectorNormBackward0, is at version 1; expected version 0 instead. Hint: the backtrace further above shows the operation that failed to compute its gradient. The variable in question was changed in there or anywhere later. Good luck!",
     "output_type": "error",
     "traceback": [
      "\u001b[0;31m---------------------------------------------------------------------------\u001b[0m",
      "\u001b[0;31mRuntimeError\u001b[0m                              Traceback (most recent call last)",
      "Cell \u001b[0;32mIn[6], line 4\u001b[0m\n\u001b[1;32m      1\u001b[0m circle \u001b[39m=\u001b[39m socialforce\u001b[39m.\u001b[39mscenarios\u001b[39m.\u001b[39mCircle(ped_ped\u001b[39m=\u001b[39mped_ped)\n\u001b[1;32m      3\u001b[0m _ \u001b[39m=\u001b[39m torch\u001b[39m.\u001b[39mmanual_seed(\u001b[39m42\u001b[39m)\n\u001b[0;32m----> 4\u001b[0m scenarios_1 \u001b[39m=\u001b[39m circle\u001b[39m.\u001b[39;49mgenerate(\u001b[39m1\u001b[39;49m)\n\u001b[1;32m      6\u001b[0m _ \u001b[39m=\u001b[39m torch\u001b[39m.\u001b[39mmanual_seed(\u001b[39m42\u001b[39m)\n\u001b[1;32m      7\u001b[0m scenarios_5 \u001b[39m=\u001b[39m circle\u001b[39m.\u001b[39mgenerate(\u001b[39m5\u001b[39m)\n",
      "File \u001b[0;32m~/miniforge3/lib/python3.10/site-packages/socialforce/scenarios.py:37\u001b[0m, in \u001b[0;36mCircle.generate\u001b[0;34m(self, n, steps_per_scenario)\u001b[0m\n\u001b[1;32m     32\u001b[0m     generator_initial_states\u001b[39m.\u001b[39mappend(\n\u001b[1;32m     33\u001b[0m         \u001b[39mself\u001b[39m\u001b[39m.\u001b[39msimulator\u001b[39m.\u001b[39mnormalize_state(np\u001b[39m.\u001b[39mstack((ped0, ped1)))\n\u001b[1;32m     34\u001b[0m     )\n\u001b[1;32m     36\u001b[0m \u001b[39mwith\u001b[39;00m torch\u001b[39m.\u001b[39mno_grad():\n\u001b[0;32m---> 37\u001b[0m     \u001b[39mreturn\u001b[39;00m [\n\u001b[1;32m     38\u001b[0m         \u001b[39mself\u001b[39m\u001b[39m.\u001b[39msimulator\u001b[39m.\u001b[39mrun(initial_state, steps_per_scenario)\n\u001b[1;32m     39\u001b[0m         \u001b[39mfor\u001b[39;00m initial_state \u001b[39min\u001b[39;00m generator_initial_states\n\u001b[1;32m     40\u001b[0m     ]\n",
      "File \u001b[0;32m~/miniforge3/lib/python3.10/site-packages/socialforce/scenarios.py:38\u001b[0m, in \u001b[0;36m<listcomp>\u001b[0;34m(.0)\u001b[0m\n\u001b[1;32m     32\u001b[0m     generator_initial_states\u001b[39m.\u001b[39mappend(\n\u001b[1;32m     33\u001b[0m         \u001b[39mself\u001b[39m\u001b[39m.\u001b[39msimulator\u001b[39m.\u001b[39mnormalize_state(np\u001b[39m.\u001b[39mstack((ped0, ped1)))\n\u001b[1;32m     34\u001b[0m     )\n\u001b[1;32m     36\u001b[0m \u001b[39mwith\u001b[39;00m torch\u001b[39m.\u001b[39mno_grad():\n\u001b[1;32m     37\u001b[0m     \u001b[39mreturn\u001b[39;00m [\n\u001b[0;32m---> 38\u001b[0m         \u001b[39mself\u001b[39;49m\u001b[39m.\u001b[39;49msimulator\u001b[39m.\u001b[39;49mrun(initial_state, steps_per_scenario)\n\u001b[1;32m     39\u001b[0m         \u001b[39mfor\u001b[39;00m initial_state \u001b[39min\u001b[39;00m generator_initial_states\n\u001b[1;32m     40\u001b[0m     ]\n",
      "File \u001b[0;32m~/miniforge3/lib/python3.10/site-packages/socialforce/simulator.py:161\u001b[0m, in \u001b[0;36mSimulator.run\u001b[0;34m(self, state, n_steps)\u001b[0m\n\u001b[1;32m    159\u001b[0m \u001b[39mfor\u001b[39;00m _ \u001b[39min\u001b[39;00m \u001b[39mrange\u001b[39m(n_steps):\n\u001b[1;32m    160\u001b[0m     last_state \u001b[39m=\u001b[39m states[\u001b[39m-\u001b[39m\u001b[39m1\u001b[39m]\n\u001b[0;32m--> 161\u001b[0m     states\u001b[39m.\u001b[39mappend(\u001b[39mself\u001b[39;49m(last_state)\u001b[39m.\u001b[39mclone())\n\u001b[1;32m    163\u001b[0m \u001b[39mreturn\u001b[39;00m torch\u001b[39m.\u001b[39mstack(states)\n",
      "File \u001b[0;32m~/miniforge3/lib/python3.10/site-packages/torch/nn/modules/module.py:1194\u001b[0m, in \u001b[0;36mModule._call_impl\u001b[0;34m(self, *input, **kwargs)\u001b[0m\n\u001b[1;32m   1190\u001b[0m \u001b[39m# If we don't have any hooks, we want to skip the rest of the logic in\u001b[39;00m\n\u001b[1;32m   1191\u001b[0m \u001b[39m# this function, and just call forward.\u001b[39;00m\n\u001b[1;32m   1192\u001b[0m \u001b[39mif\u001b[39;00m \u001b[39mnot\u001b[39;00m (\u001b[39mself\u001b[39m\u001b[39m.\u001b[39m_backward_hooks \u001b[39mor\u001b[39;00m \u001b[39mself\u001b[39m\u001b[39m.\u001b[39m_forward_hooks \u001b[39mor\u001b[39;00m \u001b[39mself\u001b[39m\u001b[39m.\u001b[39m_forward_pre_hooks \u001b[39mor\u001b[39;00m _global_backward_hooks\n\u001b[1;32m   1193\u001b[0m         \u001b[39mor\u001b[39;00m _global_forward_hooks \u001b[39mor\u001b[39;00m _global_forward_pre_hooks):\n\u001b[0;32m-> 1194\u001b[0m     \u001b[39mreturn\u001b[39;00m forward_call(\u001b[39m*\u001b[39;49m\u001b[39minput\u001b[39;49m, \u001b[39m*\u001b[39;49m\u001b[39m*\u001b[39;49mkwargs)\n\u001b[1;32m   1195\u001b[0m \u001b[39m# Do not call functions when jit is used\u001b[39;00m\n\u001b[1;32m   1196\u001b[0m full_backward_hooks, non_full_backward_hooks \u001b[39m=\u001b[39m [], []\n",
      "File \u001b[0;32m~/miniforge3/lib/python3.10/site-packages/socialforce/simulator.py:116\u001b[0m, in \u001b[0;36mSimulator.forward\u001b[0;34m(self, *args)\u001b[0m\n\u001b[1;32m    113\u001b[0m state \u001b[39m=\u001b[39m \u001b[39mself\u001b[39m\u001b[39m.\u001b[39mnormalize_state(state\u001b[39m.\u001b[39mclone()\u001b[39m.\u001b[39mdetach())\n\u001b[1;32m    115\u001b[0m \u001b[39mfor\u001b[39;00m _ \u001b[39min\u001b[39;00m \u001b[39mrange\u001b[39m(\u001b[39mself\u001b[39m\u001b[39m.\u001b[39moversampling):\n\u001b[0;32m--> 116\u001b[0m     state \u001b[39m=\u001b[39m \u001b[39mself\u001b[39;49m\u001b[39m.\u001b[39;49m_step(state)\n\u001b[1;32m    118\u001b[0m \u001b[39mreturn\u001b[39;00m state\n",
      "File \u001b[0;32m~/miniforge3/lib/python3.10/site-packages/socialforce/simulator.py:131\u001b[0m, in \u001b[0;36mSimulator._step\u001b[0;34m(self, state)\u001b[0m\n\u001b[1;32m    128\u001b[0m F0 \u001b[39m=\u001b[39m \u001b[39m1.0\u001b[39m \u001b[39m/\u001b[39m tau \u001b[39m*\u001b[39m (preferred_speeds \u001b[39m*\u001b[39m e \u001b[39m-\u001b[39m vel)\n\u001b[1;32m    130\u001b[0m \u001b[39m# repulsive terms between pedestrians\u001b[39;00m\n\u001b[0;32m--> 131\u001b[0m f_ab \u001b[39m=\u001b[39m \u001b[39mself\u001b[39;49m\u001b[39m.\u001b[39;49mf_ab(state\u001b[39m.\u001b[39;49mdetach())\n\u001b[1;32m    133\u001b[0m \u001b[39m# field of view modulation\u001b[39;00m\n\u001b[1;32m    134\u001b[0m \u001b[39mif\u001b[39;00m f_ab \u001b[39mis\u001b[39;00m \u001b[39mnot\u001b[39;00m \u001b[39mNone\u001b[39;00m \u001b[39mand\u001b[39;00m \u001b[39mself\u001b[39m\u001b[39m.\u001b[39mw \u001b[39mis\u001b[39;00m \u001b[39mnot\u001b[39;00m \u001b[39mNone\u001b[39;00m \u001b[39mand\u001b[39;00m \u001b[39mself\u001b[39m\u001b[39m.\u001b[39mw \u001b[39m!=\u001b[39m \u001b[39m-\u001b[39m\u001b[39m1\u001b[39m:\n\u001b[1;32m    135\u001b[0m     \u001b[39m# w = self.w(e, -f_ab).unsqueeze(-1).detach()\u001b[39;00m\n",
      "File \u001b[0;32m~/miniforge3/lib/python3.10/site-packages/socialforce/simulator.py:91\u001b[0m, in \u001b[0;36mSimulator.f_ab\u001b[0;34m(self, state)\u001b[0m\n\u001b[1;32m     89\u001b[0m \u001b[39mdef\u001b[39;00m \u001b[39mf_ab\u001b[39m(\u001b[39mself\u001b[39m, state):\n\u001b[1;32m     90\u001b[0m \u001b[39m    \u001b[39m\u001b[39m\"\"\"Compute f_ab.\"\"\"\u001b[39;00m\n\u001b[0;32m---> 91\u001b[0m     \u001b[39mreturn\u001b[39;00m \u001b[39m-\u001b[39m\u001b[39m1.0\u001b[39m \u001b[39m*\u001b[39m \u001b[39mself\u001b[39;49m\u001b[39m.\u001b[39;49mV\u001b[39m.\u001b[39;49mgrad_r_ab(state)\n",
      "File \u001b[0;32m~/miniforge3/lib/python3.10/site-packages/socialforce/potentials/pedped_1d.py:87\u001b[0m, in \u001b[0;36mPedPedPotential.grad_r_ab\u001b[0;34m(self, state)\u001b[0m\n\u001b[1;32m     85\u001b[0m desired_directions \u001b[39m=\u001b[39m stateutils\u001b[39m.\u001b[39mdesired_directions(state)\u001b[39m.\u001b[39mdetach()\n\u001b[1;32m     86\u001b[0m r_ab \u001b[39m=\u001b[39m \u001b[39mself\u001b[39m\u001b[39m.\u001b[39mr_ab(state)\n\u001b[0;32m---> 87\u001b[0m \u001b[39mreturn\u001b[39;00m \u001b[39mself\u001b[39;49m\u001b[39m.\u001b[39;49mgrad_r_ab_(r_ab, speeds, desired_directions)\n",
      "File \u001b[0;32m~/miniforge3/lib/python3.10/site-packages/socialforce/potentials/pedped_1d.py:96\u001b[0m, in \u001b[0;36mPedPedPotential.grad_r_ab_\u001b[0;34m(self, r_ab, speeds, desired_directions)\u001b[0m\n\u001b[1;32m     94\u001b[0m \u001b[39mwith\u001b[39;00m torch\u001b[39m.\u001b[39menable_grad():\n\u001b[1;32m     95\u001b[0m     vector \u001b[39m=\u001b[39m torch\u001b[39m.\u001b[39mones(r_ab\u001b[39m.\u001b[39mshape[\u001b[39m0\u001b[39m:\u001b[39m2\u001b[39m], requires_grad\u001b[39m=\u001b[39m\u001b[39mFalse\u001b[39;00m)\n\u001b[0;32m---> 96\u001b[0m     _, r_ab_grad \u001b[39m=\u001b[39m torch\u001b[39m.\u001b[39;49mautograd\u001b[39m.\u001b[39;49mfunctional\u001b[39m.\u001b[39;49mvjp(\n\u001b[1;32m     97\u001b[0m         compute, r_ab, vector,\n\u001b[1;32m     98\u001b[0m         create_graph\u001b[39m=\u001b[39;49m\u001b[39mTrue\u001b[39;49;00m, strict\u001b[39m=\u001b[39;49m\u001b[39mTrue\u001b[39;49;00m)\n\u001b[1;32m    100\u001b[0m \u001b[39mreturn\u001b[39;00m r_ab_grad\n",
      "File \u001b[0;32m~/miniforge3/lib/python3.10/site-packages/torch/autograd/functional.py:287\u001b[0m, in \u001b[0;36mvjp\u001b[0;34m(func, inputs, v, create_graph, strict)\u001b[0m\n\u001b[1;32m    285\u001b[0m enable_grad \u001b[39m=\u001b[39m \u001b[39mTrue\u001b[39;00m \u001b[39mif\u001b[39;00m create_graph \u001b[39melse\u001b[39;00m torch\u001b[39m.\u001b[39mis_grad_enabled()\n\u001b[1;32m    286\u001b[0m \u001b[39mwith\u001b[39;00m torch\u001b[39m.\u001b[39mset_grad_enabled(enable_grad):\n\u001b[0;32m--> 287\u001b[0m     grad_res \u001b[39m=\u001b[39m _autograd_grad(outputs, inputs, v, create_graph\u001b[39m=\u001b[39;49mcreate_graph)\n\u001b[1;32m    288\u001b[0m     vjp \u001b[39m=\u001b[39m _fill_in_zeros(grad_res, inputs, strict, create_graph, \u001b[39m\"\u001b[39m\u001b[39mback\u001b[39m\u001b[39m\"\u001b[39m)\n\u001b[1;32m    290\u001b[0m \u001b[39m# Cleanup objects and return them to the user\u001b[39;00m\n",
      "File \u001b[0;32m~/miniforge3/lib/python3.10/site-packages/torch/autograd/functional.py:159\u001b[0m, in \u001b[0;36m_autograd_grad\u001b[0;34m(outputs, inputs, grad_outputs, create_graph, retain_graph, is_grads_batched)\u001b[0m\n\u001b[1;32m    157\u001b[0m     \u001b[39mreturn\u001b[39;00m (\u001b[39mNone\u001b[39;00m,) \u001b[39m*\u001b[39m \u001b[39mlen\u001b[39m(inputs)\n\u001b[1;32m    158\u001b[0m \u001b[39melse\u001b[39;00m:\n\u001b[0;32m--> 159\u001b[0m     \u001b[39mreturn\u001b[39;00m torch\u001b[39m.\u001b[39;49mautograd\u001b[39m.\u001b[39;49mgrad(new_outputs, inputs, new_grad_outputs, allow_unused\u001b[39m=\u001b[39;49m\u001b[39mTrue\u001b[39;49;00m,\n\u001b[1;32m    160\u001b[0m                                create_graph\u001b[39m=\u001b[39;49mcreate_graph, retain_graph\u001b[39m=\u001b[39;49mretain_graph,\n\u001b[1;32m    161\u001b[0m                                is_grads_batched\u001b[39m=\u001b[39;49mis_grads_batched)\n",
      "File \u001b[0;32m~/miniforge3/lib/python3.10/site-packages/torch/autograd/__init__.py:300\u001b[0m, in \u001b[0;36mgrad\u001b[0;34m(outputs, inputs, grad_outputs, retain_graph, create_graph, only_inputs, allow_unused, is_grads_batched)\u001b[0m\n\u001b[1;32m    298\u001b[0m     \u001b[39mreturn\u001b[39;00m _vmap_internals\u001b[39m.\u001b[39m_vmap(vjp, \u001b[39m0\u001b[39m, \u001b[39m0\u001b[39m, allow_none_pass_through\u001b[39m=\u001b[39m\u001b[39mTrue\u001b[39;00m)(grad_outputs_)\n\u001b[1;32m    299\u001b[0m \u001b[39melse\u001b[39;00m:\n\u001b[0;32m--> 300\u001b[0m     \u001b[39mreturn\u001b[39;00m Variable\u001b[39m.\u001b[39;49m_execution_engine\u001b[39m.\u001b[39;49mrun_backward(  \u001b[39m# Calls into the C++ engine to run the backward pass\u001b[39;49;00m\n\u001b[1;32m    301\u001b[0m         t_outputs, grad_outputs_, retain_graph, create_graph, t_inputs,\n\u001b[1;32m    302\u001b[0m         allow_unused, accumulate_grad\u001b[39m=\u001b[39;49m\u001b[39mFalse\u001b[39;49;00m)\n",
      "\u001b[0;31mRuntimeError\u001b[0m: one of the variables needed for gradient computation has been modified by an inplace operation: [torch.FloatTensor [2, 2]], which is output 0 of LinalgVectorNormBackward0, is at version 1; expected version 0 instead. Hint: the backtrace further above shows the operation that failed to compute its gradient. The variable in question was changed in there or anywhere later. Good luck!"
     ]
    }
   ],
   "source": [
    "circle = socialforce.scenarios.Circle(ped_ped=ped_ped)\n",
    "\n",
    "_ = torch.manual_seed(42)\n",
    "scenarios_1 = circle.generate(1)\n",
    "\n",
    "_ = torch.manual_seed(42)\n",
    "scenarios_5 = circle.generate(5)\n",
    "\n",
    "_ = torch.manual_seed(42)\n",
    "scenarios_20 = circle.generate(20)"
   ]
  },
  {
   "cell_type": "code",
   "execution_count": 5,
   "metadata": {},
   "outputs": [
    {
     "data": {
      "text/plain": [
       "<torch.autograd.anomaly_mode.set_detect_anomaly at 0x141611f60>"
      ]
     },
     "execution_count": 5,
     "metadata": {},
     "output_type": "execute_result"
    }
   ],
   "source": [
    "torch.autograd.set_detect_anomaly(True)"
   ]
  },
  {
   "cell_type": "code",
   "execution_count": 9,
   "metadata": {},
   "outputs": [],
   "source": [
    "def initial_state_corridor(n):\n",
    "    _ = torch.manual_seed(42)\n",
    "\n",
    "    # first n people go right, second n people go left\n",
    "    state = torch.zeros((n * 2, 6))\n",
    "\n",
    "    # positions\n",
    "    state[:n, 0:2] = ((torch.rand((n, 2)) - 0.5) * 2.0) * torch.tensor([25.0, 4.5])\n",
    "    state[n:, 0:2] = ((torch.rand((n, 2)) - 0.5) * 2.0) * torch.tensor([25.0, 4.5])\n",
    "\n",
    "    # velocity\n",
    "    state[:n, 2] = torch.normal(torch.full((n,), 1.34), 0.26)\n",
    "    state[n:, 2] = torch.normal(torch.full((n,), -1.34), 0.26)\n",
    "\n",
    "    # x destination\n",
    "    state[:n, 4] = 100.0\n",
    "    state[n:, 4] = -100.0\n",
    "\n",
    "    return state\n",
    "\n",
    "initial_state = initial_state_corridor(60)"
   ]
  },
  {
   "cell_type": "code",
   "execution_count": 10,
   "metadata": {},
   "outputs": [],
   "source": [
    "upper_wall = torch.stack([torch.linspace(-30, 30, 600), torch.full((600,), 5)], -1)\n",
    "lower_wall = torch.stack([torch.linspace(-30, 30, 600), torch.full((600,), -5)], -1)\n",
    "ped_space = socialforce.potentials.PedSpacePotential([upper_wall, lower_wall])"
   ]
  },
  {
   "cell_type": "code",
   "execution_count": 11,
   "metadata": {},
   "outputs": [],
   "source": [
    "ped_ped = socialforce.potentials.PedPedPotential()"
   ]
  },
  {
   "cell_type": "code",
   "execution_count": 12,
   "metadata": {},
   "outputs": [
    {
     "name": "stderr",
     "output_type": "stream",
     "text": [
      "/Users/rafalkucharski/miniforge3/lib/python3.10/site-packages/torch/autograd/__init__.py:300: UserWarning: Error detected in LinalgVectorNormBackward0. Traceback of forward call that caused the error:\n",
      "  File \"/Users/rafalkucharski/miniforge3/lib/python3.10/runpy.py\", line 196, in _run_module_as_main\n",
      "    return _run_code(code, main_globals, None,\n",
      "  File \"/Users/rafalkucharski/miniforge3/lib/python3.10/runpy.py\", line 86, in _run_code\n",
      "    exec(code, run_globals)\n",
      "  File \"/Users/rafalkucharski/miniforge3/lib/python3.10/site-packages/ipykernel_launcher.py\", line 17, in <module>\n",
      "    app.launch_new_instance()\n",
      "  File \"/Users/rafalkucharski/miniforge3/lib/python3.10/site-packages/traitlets/config/application.py\", line 1043, in launch_instance\n",
      "    app.start()\n",
      "  File \"/Users/rafalkucharski/miniforge3/lib/python3.10/site-packages/ipykernel/kernelapp.py\", line 712, in start\n",
      "    self.io_loop.start()\n",
      "  File \"/Users/rafalkucharski/miniforge3/lib/python3.10/site-packages/tornado/platform/asyncio.py\", line 215, in start\n",
      "    self.asyncio_loop.run_forever()\n",
      "  File \"/Users/rafalkucharski/miniforge3/lib/python3.10/asyncio/base_events.py\", line 603, in run_forever\n",
      "    self._run_once()\n",
      "  File \"/Users/rafalkucharski/miniforge3/lib/python3.10/asyncio/base_events.py\", line 1899, in _run_once\n",
      "    handle._run()\n",
      "  File \"/Users/rafalkucharski/miniforge3/lib/python3.10/asyncio/events.py\", line 80, in _run\n",
      "    self._context.run(self._callback, *self._args)\n",
      "  File \"/Users/rafalkucharski/miniforge3/lib/python3.10/site-packages/ipykernel/kernelbase.py\", line 510, in dispatch_queue\n",
      "    await self.process_one()\n",
      "  File \"/Users/rafalkucharski/miniforge3/lib/python3.10/site-packages/ipykernel/kernelbase.py\", line 499, in process_one\n",
      "    await dispatch(*args)\n",
      "  File \"/Users/rafalkucharski/miniforge3/lib/python3.10/site-packages/ipykernel/kernelbase.py\", line 406, in dispatch_shell\n",
      "    await result\n",
      "  File \"/Users/rafalkucharski/miniforge3/lib/python3.10/site-packages/ipykernel/kernelbase.py\", line 730, in execute_request\n",
      "    reply_content = await reply_content\n",
      "  File \"/Users/rafalkucharski/miniforge3/lib/python3.10/site-packages/ipykernel/ipkernel.py\", line 383, in do_execute\n",
      "    res = shell.run_cell(\n",
      "  File \"/Users/rafalkucharski/miniforge3/lib/python3.10/site-packages/ipykernel/zmqshell.py\", line 528, in run_cell\n",
      "    return super().run_cell(*args, **kwargs)\n",
      "  File \"/Users/rafalkucharski/miniforge3/lib/python3.10/site-packages/IPython/core/interactiveshell.py\", line 2961, in run_cell\n",
      "    result = self._run_cell(\n",
      "  File \"/Users/rafalkucharski/miniforge3/lib/python3.10/site-packages/IPython/core/interactiveshell.py\", line 3016, in _run_cell\n",
      "    result = runner(coro)\n",
      "  File \"/Users/rafalkucharski/miniforge3/lib/python3.10/site-packages/IPython/core/async_helpers.py\", line 129, in _pseudo_sync_runner\n",
      "    coro.send(None)\n",
      "  File \"/Users/rafalkucharski/miniforge3/lib/python3.10/site-packages/IPython/core/interactiveshell.py\", line 3221, in run_cell_async\n",
      "    has_raised = await self.run_ast_nodes(code_ast.body, cell_name,\n",
      "  File \"/Users/rafalkucharski/miniforge3/lib/python3.10/site-packages/IPython/core/interactiveshell.py\", line 3400, in run_ast_nodes\n",
      "    if await self.run_code(code, result, async_=asy):\n",
      "  File \"/Users/rafalkucharski/miniforge3/lib/python3.10/site-packages/IPython/core/interactiveshell.py\", line 3460, in run_code\n",
      "    exec(code_obj, self.user_global_ns, self.user_ns)\n",
      "  File \"/var/folders/11/v91c3qb92lg10fbgz1ptll4m0000gn/T/ipykernel_11338/3025091276.py\", line 4, in <module>\n",
      "    scenarios_1 = parallel.generate(1)\n",
      "  File \"/Users/rafalkucharski/miniforge3/lib/python3.10/site-packages/socialforce/scenarios.py\", line 65, in generate\n",
      "    return [\n",
      "  File \"/Users/rafalkucharski/miniforge3/lib/python3.10/site-packages/socialforce/scenarios.py\", line 66, in <listcomp>\n",
      "    self.simulator.run(initial_state, 21)\n",
      "  File \"/Users/rafalkucharski/miniforge3/lib/python3.10/site-packages/socialforce/simulator.py\", line 161, in run\n",
      "    states.append(self(last_state).clone())\n",
      "  File \"/Users/rafalkucharski/miniforge3/lib/python3.10/site-packages/torch/nn/modules/module.py\", line 1194, in _call_impl\n",
      "    return forward_call(*input, **kwargs)\n",
      "  File \"/Users/rafalkucharski/miniforge3/lib/python3.10/site-packages/socialforce/simulator.py\", line 116, in forward\n",
      "    state = self._step(state)\n",
      "  File \"/Users/rafalkucharski/miniforge3/lib/python3.10/site-packages/socialforce/simulator.py\", line 131, in _step\n",
      "    f_ab = self.f_ab(state.detach())\n",
      "  File \"/Users/rafalkucharski/miniforge3/lib/python3.10/site-packages/socialforce/simulator.py\", line 91, in f_ab\n",
      "    return -1.0 * self.V.grad_r_ab(state)\n",
      "  File \"/Users/rafalkucharski/miniforge3/lib/python3.10/site-packages/socialforce/potentials/pedped_1d.py\", line 87, in grad_r_ab\n",
      "    return self.grad_r_ab_(r_ab, speeds, desired_directions)\n",
      "  File \"/Users/rafalkucharski/miniforge3/lib/python3.10/site-packages/socialforce/potentials/pedped_1d.py\", line 96, in grad_r_ab_\n",
      "    _, r_ab_grad = torch.autograd.functional.vjp(\n",
      "  File \"/Users/rafalkucharski/miniforge3/lib/python3.10/site-packages/torch/autograd/functional.py\", line 271, in vjp\n",
      "    outputs = func(*inputs)\n",
      "  File \"/Users/rafalkucharski/miniforge3/lib/python3.10/site-packages/socialforce/potentials/pedped_1d.py\", line 92, in compute\n",
      "    return self.value_r_ab(r_ab, speeds, desired_directions)\n",
      "  File \"/Users/rafalkucharski/miniforge3/lib/python3.10/site-packages/socialforce/potentials/pedped_1d.py\", line 45, in value_r_ab\n",
      "    b = self.b(r_ab, speeds, desired_directions)\n",
      "  File \"/Users/rafalkucharski/miniforge3/lib/python3.10/site-packages/socialforce/potentials/pedped_1d.py\", line 29, in b\n",
      "    + self.norm_r_ab(r_ab - self.delta_t_step * speeds_b_abc * e_b)\n",
      "  File \"/Users/rafalkucharski/miniforge3/lib/python3.10/site-packages/socialforce/potentials/pedped_1d.py\", line 111, in norm_r_ab\n",
      "    out = torch.linalg.norm(r_ab, ord=2, dim=2, keepdim=False)\n",
      "  File \"/Users/rafalkucharski/miniforge3/lib/python3.10/site-packages/torch/fx/traceback.py\", line 57, in format_stack\n",
      "    return traceback.format_stack()\n",
      " (Triggered internally at /Users/runner/work/pytorch/pytorch/pytorch/torch/csrc/autograd/python_anomaly_mode.cpp:119.)\n",
      "  return Variable._execution_engine.run_backward(  # Calls into the C++ engine to run the backward pass\n"
     ]
    },
    {
     "ename": "RuntimeError",
     "evalue": "one of the variables needed for gradient computation has been modified by an inplace operation: [torch.FloatTensor [2, 2]], which is output 0 of LinalgVectorNormBackward0, is at version 1; expected version 0 instead. Hint: the backtrace further above shows the operation that failed to compute its gradient. The variable in question was changed in there or anywhere later. Good luck!",
     "output_type": "error",
     "traceback": [
      "\u001b[0;31m---------------------------------------------------------------------------\u001b[0m",
      "\u001b[0;31mRuntimeError\u001b[0m                              Traceback (most recent call last)",
      "Cell \u001b[0;32mIn[12], line 4\u001b[0m\n\u001b[1;32m      1\u001b[0m parallel \u001b[39m=\u001b[39m socialforce\u001b[39m.\u001b[39mscenarios\u001b[39m.\u001b[39mParallelOvertake(ped_ped\u001b[39m=\u001b[39mped_ped)\n\u001b[1;32m      3\u001b[0m _ \u001b[39m=\u001b[39m torch\u001b[39m.\u001b[39mmanual_seed(\u001b[39m42\u001b[39m)\n\u001b[0;32m----> 4\u001b[0m scenarios_1 \u001b[39m=\u001b[39m parallel\u001b[39m.\u001b[39;49mgenerate(\u001b[39m1\u001b[39;49m)\n\u001b[1;32m      6\u001b[0m _ \u001b[39m=\u001b[39m torch\u001b[39m.\u001b[39mmanual_seed(\u001b[39m42\u001b[39m)\n\u001b[1;32m      7\u001b[0m scenarios_5 \u001b[39m=\u001b[39m parallel\u001b[39m.\u001b[39mgenerate(\u001b[39m5\u001b[39m)\n",
      "File \u001b[0;32m~/miniforge3/lib/python3.10/site-packages/socialforce/scenarios.py:65\u001b[0m, in \u001b[0;36mParallelOvertake.generate\u001b[0;34m(self, n)\u001b[0m\n\u001b[1;32m     62\u001b[0m     generator_initial_states\u001b[39m.\u001b[39mappend(state)\n\u001b[1;32m     64\u001b[0m \u001b[39mwith\u001b[39;00m torch\u001b[39m.\u001b[39mno_grad():\n\u001b[0;32m---> 65\u001b[0m     \u001b[39mreturn\u001b[39;00m [\n\u001b[1;32m     66\u001b[0m         \u001b[39mself\u001b[39m\u001b[39m.\u001b[39msimulator\u001b[39m.\u001b[39mrun(initial_state, \u001b[39m21\u001b[39m)\n\u001b[1;32m     67\u001b[0m         \u001b[39mfor\u001b[39;00m initial_state \u001b[39min\u001b[39;00m generator_initial_states\n\u001b[1;32m     68\u001b[0m     ]\n",
      "File \u001b[0;32m~/miniforge3/lib/python3.10/site-packages/socialforce/scenarios.py:66\u001b[0m, in \u001b[0;36m<listcomp>\u001b[0;34m(.0)\u001b[0m\n\u001b[1;32m     62\u001b[0m     generator_initial_states\u001b[39m.\u001b[39mappend(state)\n\u001b[1;32m     64\u001b[0m \u001b[39mwith\u001b[39;00m torch\u001b[39m.\u001b[39mno_grad():\n\u001b[1;32m     65\u001b[0m     \u001b[39mreturn\u001b[39;00m [\n\u001b[0;32m---> 66\u001b[0m         \u001b[39mself\u001b[39;49m\u001b[39m.\u001b[39;49msimulator\u001b[39m.\u001b[39;49mrun(initial_state, \u001b[39m21\u001b[39;49m)\n\u001b[1;32m     67\u001b[0m         \u001b[39mfor\u001b[39;00m initial_state \u001b[39min\u001b[39;00m generator_initial_states\n\u001b[1;32m     68\u001b[0m     ]\n",
      "File \u001b[0;32m~/miniforge3/lib/python3.10/site-packages/socialforce/simulator.py:161\u001b[0m, in \u001b[0;36mSimulator.run\u001b[0;34m(self, state, n_steps)\u001b[0m\n\u001b[1;32m    159\u001b[0m \u001b[39mfor\u001b[39;00m _ \u001b[39min\u001b[39;00m \u001b[39mrange\u001b[39m(n_steps):\n\u001b[1;32m    160\u001b[0m     last_state \u001b[39m=\u001b[39m states[\u001b[39m-\u001b[39m\u001b[39m1\u001b[39m]\n\u001b[0;32m--> 161\u001b[0m     states\u001b[39m.\u001b[39mappend(\u001b[39mself\u001b[39;49m(last_state)\u001b[39m.\u001b[39mclone())\n\u001b[1;32m    163\u001b[0m \u001b[39mreturn\u001b[39;00m torch\u001b[39m.\u001b[39mstack(states)\n",
      "File \u001b[0;32m~/miniforge3/lib/python3.10/site-packages/torch/nn/modules/module.py:1194\u001b[0m, in \u001b[0;36mModule._call_impl\u001b[0;34m(self, *input, **kwargs)\u001b[0m\n\u001b[1;32m   1190\u001b[0m \u001b[39m# If we don't have any hooks, we want to skip the rest of the logic in\u001b[39;00m\n\u001b[1;32m   1191\u001b[0m \u001b[39m# this function, and just call forward.\u001b[39;00m\n\u001b[1;32m   1192\u001b[0m \u001b[39mif\u001b[39;00m \u001b[39mnot\u001b[39;00m (\u001b[39mself\u001b[39m\u001b[39m.\u001b[39m_backward_hooks \u001b[39mor\u001b[39;00m \u001b[39mself\u001b[39m\u001b[39m.\u001b[39m_forward_hooks \u001b[39mor\u001b[39;00m \u001b[39mself\u001b[39m\u001b[39m.\u001b[39m_forward_pre_hooks \u001b[39mor\u001b[39;00m _global_backward_hooks\n\u001b[1;32m   1193\u001b[0m         \u001b[39mor\u001b[39;00m _global_forward_hooks \u001b[39mor\u001b[39;00m _global_forward_pre_hooks):\n\u001b[0;32m-> 1194\u001b[0m     \u001b[39mreturn\u001b[39;00m forward_call(\u001b[39m*\u001b[39;49m\u001b[39minput\u001b[39;49m, \u001b[39m*\u001b[39;49m\u001b[39m*\u001b[39;49mkwargs)\n\u001b[1;32m   1195\u001b[0m \u001b[39m# Do not call functions when jit is used\u001b[39;00m\n\u001b[1;32m   1196\u001b[0m full_backward_hooks, non_full_backward_hooks \u001b[39m=\u001b[39m [], []\n",
      "File \u001b[0;32m~/miniforge3/lib/python3.10/site-packages/socialforce/simulator.py:116\u001b[0m, in \u001b[0;36mSimulator.forward\u001b[0;34m(self, *args)\u001b[0m\n\u001b[1;32m    113\u001b[0m state \u001b[39m=\u001b[39m \u001b[39mself\u001b[39m\u001b[39m.\u001b[39mnormalize_state(state\u001b[39m.\u001b[39mclone()\u001b[39m.\u001b[39mdetach())\n\u001b[1;32m    115\u001b[0m \u001b[39mfor\u001b[39;00m _ \u001b[39min\u001b[39;00m \u001b[39mrange\u001b[39m(\u001b[39mself\u001b[39m\u001b[39m.\u001b[39moversampling):\n\u001b[0;32m--> 116\u001b[0m     state \u001b[39m=\u001b[39m \u001b[39mself\u001b[39;49m\u001b[39m.\u001b[39;49m_step(state)\n\u001b[1;32m    118\u001b[0m \u001b[39mreturn\u001b[39;00m state\n",
      "File \u001b[0;32m~/miniforge3/lib/python3.10/site-packages/socialforce/simulator.py:131\u001b[0m, in \u001b[0;36mSimulator._step\u001b[0;34m(self, state)\u001b[0m\n\u001b[1;32m    128\u001b[0m F0 \u001b[39m=\u001b[39m \u001b[39m1.0\u001b[39m \u001b[39m/\u001b[39m tau \u001b[39m*\u001b[39m (preferred_speeds \u001b[39m*\u001b[39m e \u001b[39m-\u001b[39m vel)\n\u001b[1;32m    130\u001b[0m \u001b[39m# repulsive terms between pedestrians\u001b[39;00m\n\u001b[0;32m--> 131\u001b[0m f_ab \u001b[39m=\u001b[39m \u001b[39mself\u001b[39;49m\u001b[39m.\u001b[39;49mf_ab(state\u001b[39m.\u001b[39;49mdetach())\n\u001b[1;32m    133\u001b[0m \u001b[39m# field of view modulation\u001b[39;00m\n\u001b[1;32m    134\u001b[0m \u001b[39mif\u001b[39;00m f_ab \u001b[39mis\u001b[39;00m \u001b[39mnot\u001b[39;00m \u001b[39mNone\u001b[39;00m \u001b[39mand\u001b[39;00m \u001b[39mself\u001b[39m\u001b[39m.\u001b[39mw \u001b[39mis\u001b[39;00m \u001b[39mnot\u001b[39;00m \u001b[39mNone\u001b[39;00m \u001b[39mand\u001b[39;00m \u001b[39mself\u001b[39m\u001b[39m.\u001b[39mw \u001b[39m!=\u001b[39m \u001b[39m-\u001b[39m\u001b[39m1\u001b[39m:\n\u001b[1;32m    135\u001b[0m     \u001b[39m# w = self.w(e, -f_ab).unsqueeze(-1).detach()\u001b[39;00m\n",
      "File \u001b[0;32m~/miniforge3/lib/python3.10/site-packages/socialforce/simulator.py:91\u001b[0m, in \u001b[0;36mSimulator.f_ab\u001b[0;34m(self, state)\u001b[0m\n\u001b[1;32m     89\u001b[0m \u001b[39mdef\u001b[39;00m \u001b[39mf_ab\u001b[39m(\u001b[39mself\u001b[39m, state):\n\u001b[1;32m     90\u001b[0m \u001b[39m    \u001b[39m\u001b[39m\"\"\"Compute f_ab.\"\"\"\u001b[39;00m\n\u001b[0;32m---> 91\u001b[0m     \u001b[39mreturn\u001b[39;00m \u001b[39m-\u001b[39m\u001b[39m1.0\u001b[39m \u001b[39m*\u001b[39m \u001b[39mself\u001b[39;49m\u001b[39m.\u001b[39;49mV\u001b[39m.\u001b[39;49mgrad_r_ab(state)\n",
      "File \u001b[0;32m~/miniforge3/lib/python3.10/site-packages/socialforce/potentials/pedped_1d.py:87\u001b[0m, in \u001b[0;36mPedPedPotential.grad_r_ab\u001b[0;34m(self, state)\u001b[0m\n\u001b[1;32m     85\u001b[0m desired_directions \u001b[39m=\u001b[39m stateutils\u001b[39m.\u001b[39mdesired_directions(state)\u001b[39m.\u001b[39mdetach()\n\u001b[1;32m     86\u001b[0m r_ab \u001b[39m=\u001b[39m \u001b[39mself\u001b[39m\u001b[39m.\u001b[39mr_ab(state)\n\u001b[0;32m---> 87\u001b[0m \u001b[39mreturn\u001b[39;00m \u001b[39mself\u001b[39;49m\u001b[39m.\u001b[39;49mgrad_r_ab_(r_ab, speeds, desired_directions)\n",
      "File \u001b[0;32m~/miniforge3/lib/python3.10/site-packages/socialforce/potentials/pedped_1d.py:96\u001b[0m, in \u001b[0;36mPedPedPotential.grad_r_ab_\u001b[0;34m(self, r_ab, speeds, desired_directions)\u001b[0m\n\u001b[1;32m     94\u001b[0m \u001b[39mwith\u001b[39;00m torch\u001b[39m.\u001b[39menable_grad():\n\u001b[1;32m     95\u001b[0m     vector \u001b[39m=\u001b[39m torch\u001b[39m.\u001b[39mones(r_ab\u001b[39m.\u001b[39mshape[\u001b[39m0\u001b[39m:\u001b[39m2\u001b[39m], requires_grad\u001b[39m=\u001b[39m\u001b[39mFalse\u001b[39;00m)\n\u001b[0;32m---> 96\u001b[0m     _, r_ab_grad \u001b[39m=\u001b[39m torch\u001b[39m.\u001b[39;49mautograd\u001b[39m.\u001b[39;49mfunctional\u001b[39m.\u001b[39;49mvjp(\n\u001b[1;32m     97\u001b[0m         compute, r_ab, vector,\n\u001b[1;32m     98\u001b[0m         create_graph\u001b[39m=\u001b[39;49m\u001b[39mTrue\u001b[39;49;00m, strict\u001b[39m=\u001b[39;49m\u001b[39mTrue\u001b[39;49;00m)\n\u001b[1;32m    100\u001b[0m \u001b[39mreturn\u001b[39;00m r_ab_grad\n",
      "File \u001b[0;32m~/miniforge3/lib/python3.10/site-packages/torch/autograd/functional.py:287\u001b[0m, in \u001b[0;36mvjp\u001b[0;34m(func, inputs, v, create_graph, strict)\u001b[0m\n\u001b[1;32m    285\u001b[0m enable_grad \u001b[39m=\u001b[39m \u001b[39mTrue\u001b[39;00m \u001b[39mif\u001b[39;00m create_graph \u001b[39melse\u001b[39;00m torch\u001b[39m.\u001b[39mis_grad_enabled()\n\u001b[1;32m    286\u001b[0m \u001b[39mwith\u001b[39;00m torch\u001b[39m.\u001b[39mset_grad_enabled(enable_grad):\n\u001b[0;32m--> 287\u001b[0m     grad_res \u001b[39m=\u001b[39m _autograd_grad(outputs, inputs, v, create_graph\u001b[39m=\u001b[39;49mcreate_graph)\n\u001b[1;32m    288\u001b[0m     vjp \u001b[39m=\u001b[39m _fill_in_zeros(grad_res, inputs, strict, create_graph, \u001b[39m\"\u001b[39m\u001b[39mback\u001b[39m\u001b[39m\"\u001b[39m)\n\u001b[1;32m    290\u001b[0m \u001b[39m# Cleanup objects and return them to the user\u001b[39;00m\n",
      "File \u001b[0;32m~/miniforge3/lib/python3.10/site-packages/torch/autograd/functional.py:159\u001b[0m, in \u001b[0;36m_autograd_grad\u001b[0;34m(outputs, inputs, grad_outputs, create_graph, retain_graph, is_grads_batched)\u001b[0m\n\u001b[1;32m    157\u001b[0m     \u001b[39mreturn\u001b[39;00m (\u001b[39mNone\u001b[39;00m,) \u001b[39m*\u001b[39m \u001b[39mlen\u001b[39m(inputs)\n\u001b[1;32m    158\u001b[0m \u001b[39melse\u001b[39;00m:\n\u001b[0;32m--> 159\u001b[0m     \u001b[39mreturn\u001b[39;00m torch\u001b[39m.\u001b[39;49mautograd\u001b[39m.\u001b[39;49mgrad(new_outputs, inputs, new_grad_outputs, allow_unused\u001b[39m=\u001b[39;49m\u001b[39mTrue\u001b[39;49;00m,\n\u001b[1;32m    160\u001b[0m                                create_graph\u001b[39m=\u001b[39;49mcreate_graph, retain_graph\u001b[39m=\u001b[39;49mretain_graph,\n\u001b[1;32m    161\u001b[0m                                is_grads_batched\u001b[39m=\u001b[39;49mis_grads_batched)\n",
      "File \u001b[0;32m~/miniforge3/lib/python3.10/site-packages/torch/autograd/__init__.py:300\u001b[0m, in \u001b[0;36mgrad\u001b[0;34m(outputs, inputs, grad_outputs, retain_graph, create_graph, only_inputs, allow_unused, is_grads_batched)\u001b[0m\n\u001b[1;32m    298\u001b[0m     \u001b[39mreturn\u001b[39;00m _vmap_internals\u001b[39m.\u001b[39m_vmap(vjp, \u001b[39m0\u001b[39m, \u001b[39m0\u001b[39m, allow_none_pass_through\u001b[39m=\u001b[39m\u001b[39mTrue\u001b[39;00m)(grad_outputs_)\n\u001b[1;32m    299\u001b[0m \u001b[39melse\u001b[39;00m:\n\u001b[0;32m--> 300\u001b[0m     \u001b[39mreturn\u001b[39;00m Variable\u001b[39m.\u001b[39;49m_execution_engine\u001b[39m.\u001b[39;49mrun_backward(  \u001b[39m# Calls into the C++ engine to run the backward pass\u001b[39;49;00m\n\u001b[1;32m    301\u001b[0m         t_outputs, grad_outputs_, retain_graph, create_graph, t_inputs,\n\u001b[1;32m    302\u001b[0m         allow_unused, accumulate_grad\u001b[39m=\u001b[39;49m\u001b[39mFalse\u001b[39;49;00m)\n",
      "\u001b[0;31mRuntimeError\u001b[0m: one of the variables needed for gradient computation has been modified by an inplace operation: [torch.FloatTensor [2, 2]], which is output 0 of LinalgVectorNormBackward0, is at version 1; expected version 0 instead. Hint: the backtrace further above shows the operation that failed to compute its gradient. The variable in question was changed in there or anywhere later. Good luck!"
     ]
    }
   ],
   "source": [
    "parallel = socialforce.scenarios.ParallelOvertake(ped_ped=ped_ped)\n",
    "\n",
    "_ = torch.manual_seed(42)\n",
    "scenarios_1 = parallel.generate(1)\n",
    "\n",
    "_ = torch.manual_seed(42)\n",
    "scenarios_5 = parallel.generate(5)\n",
    "\n",
    "_ = torch.manual_seed(42)\n",
    "scenarios_20 = parallel.generate(20)"
   ]
  },
  {
   "cell_type": "code",
   "execution_count": null,
   "metadata": {},
   "outputs": [],
   "source": []
  }
 ],
 "metadata": {
  "kernelspec": {
   "display_name": "base",
   "language": "python",
   "name": "python3"
  },
  "language_info": {
   "codemirror_mode": {
    "name": "ipython",
    "version": 3
   },
   "file_extension": ".py",
   "mimetype": "text/x-python",
   "name": "python",
   "nbconvert_exporter": "python",
   "pygments_lexer": "ipython3",
   "version": "3.11.0"
  },
  "orig_nbformat": 4
 },
 "nbformat": 4,
 "nbformat_minor": 2
}
