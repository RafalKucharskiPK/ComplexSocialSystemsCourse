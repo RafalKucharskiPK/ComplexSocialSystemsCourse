{
 "cells": [
  {
   "cell_type": "markdown",
   "metadata": {},
   "source": [
    "\n",
    "\n",
    "__Set your own route planner for a given OSM map and GTFS file and query server on localhost for a detailed routes__\n",
    "\n",
    "\n",
    "## OpenTripPlanner (OTP) walkthrough\n",
    "\n",
    "1. Install Java SDK.\n",
    "2. Download [latest](https://repo1.maven.org/maven2/org/opentripplanner/otp/1.4.0/otp-1.4.0-shaded.jar) .jar from [Maven](https://repo1.maven.org/maven2/org/opentripplanner/otp/1.4.0/).\n",
    "3. Download gtfs.zip of a given city into a `folder` from `transit.land`.\n",
    "4. Download osm.pbf of your area from [here](https://www.interline.io/osm/extracts/) (need to login to get API token).\n",
    "5. Call from terminal `java -Xmx6G -jar otp-1.4.0-shaded.jar --build data_path --inMemory` changing `6G` as memory allocated (6GB) and `data_path` to your path with osm and gtfs files.\n",
    "6. If succesful you shall be able to open a web search in your browser: [`http://localhost:8080/`](http://localhost:8080/).\n",
    "\n",
    "information from [link](http://docs.opentripplanner.org/en/latest/Basic-Tutorial/)\n"
   ]
  },
  {
   "cell_type": "code",
   "execution_count": 1,
   "metadata": {},
   "outputs": [],
   "source": [
    "import pandas as pd\n",
    "import requests"
   ]
  },
  {
   "cell_type": "markdown",
   "metadata": {},
   "source": [
    "### Local imports"
   ]
  },
  {
   "cell_type": "code",
   "execution_count": 2,
   "metadata": {},
   "outputs": [],
   "source": [
    "from main import make_query, parse_OTP_response\n",
    "from utils import plot"
   ]
  },
  {
   "cell_type": "markdown",
   "metadata": {},
   "source": [
    "The `georequests.csv` file contains requests to travel from specific origin to destination points. "
   ]
  },
  {
   "cell_type": "code",
   "execution_count": 3,
   "metadata": {},
   "outputs": [],
   "source": [
    "PATH = 'georequests.csv'\n",
    "OTP_API = \"http://localhost:8080/otp/routers/default/plan\""
   ]
  },
  {
   "cell_type": "markdown",
   "metadata": {},
   "source": [
    "The `origin_x`, `destination_x`, `origin_y` and `destination_y` represent the longitude (x) and latitude (y) coordinates of the origin and destination locations"
   ]
  },
  {
   "cell_type": "code",
   "execution_count": 4,
   "metadata": {},
   "outputs": [
    {
     "data": {
      "text/html": [
       "<div>\n",
       "<style scoped>\n",
       "    .dataframe tbody tr th:only-of-type {\n",
       "        vertical-align: middle;\n",
       "    }\n",
       "\n",
       "    .dataframe tbody tr th {\n",
       "        vertical-align: top;\n",
       "    }\n",
       "\n",
       "    .dataframe thead th {\n",
       "        text-align: right;\n",
       "    }\n",
       "</style>\n",
       "<table border=\"1\" class=\"dataframe\">\n",
       "  <thead>\n",
       "    <tr style=\"text-align: right;\">\n",
       "      <th></th>\n",
       "      <th>origin_x</th>\n",
       "      <th>origin_y</th>\n",
       "      <th>destination_x</th>\n",
       "      <th>destination_y</th>\n",
       "      <th>treq</th>\n",
       "    </tr>\n",
       "  </thead>\n",
       "  <tbody>\n",
       "    <tr>\n",
       "      <th>618</th>\n",
       "      <td>4.865235</td>\n",
       "      <td>52.364162</td>\n",
       "      <td>4.881339</td>\n",
       "      <td>52.385118</td>\n",
       "      <td>2020-10-29 15:26:25</td>\n",
       "    </tr>\n",
       "    <tr>\n",
       "      <th>328</th>\n",
       "      <td>4.861646</td>\n",
       "      <td>52.366034</td>\n",
       "      <td>4.917393</td>\n",
       "      <td>52.358030</td>\n",
       "      <td>2020-10-29 14:53:47</td>\n",
       "    </tr>\n",
       "    <tr>\n",
       "      <th>773</th>\n",
       "      <td>4.803047</td>\n",
       "      <td>52.390442</td>\n",
       "      <td>4.868713</td>\n",
       "      <td>52.369369</td>\n",
       "      <td>2020-10-29 14:38:21</td>\n",
       "    </tr>\n",
       "    <tr>\n",
       "      <th>151</th>\n",
       "      <td>4.785410</td>\n",
       "      <td>52.355865</td>\n",
       "      <td>4.874722</td>\n",
       "      <td>52.377780</td>\n",
       "      <td>2020-10-29 14:43:10</td>\n",
       "    </tr>\n",
       "    <tr>\n",
       "      <th>686</th>\n",
       "      <td>4.908205</td>\n",
       "      <td>52.341057</td>\n",
       "      <td>4.870084</td>\n",
       "      <td>52.352835</td>\n",
       "      <td>2020-10-29 15:05:50</td>\n",
       "    </tr>\n",
       "  </tbody>\n",
       "</table>\n",
       "</div>"
      ],
      "text/plain": [
       "     origin_x   origin_y  destination_x  destination_y                treq\n",
       "618  4.865235  52.364162       4.881339      52.385118 2020-10-29 15:26:25\n",
       "328  4.861646  52.366034       4.917393      52.358030 2020-10-29 14:53:47\n",
       "773  4.803047  52.390442       4.868713      52.369369 2020-10-29 14:38:21\n",
       "151  4.785410  52.355865       4.874722      52.377780 2020-10-29 14:43:10\n",
       "686  4.908205  52.341057       4.870084      52.352835 2020-10-29 15:05:50"
      ]
     },
     "execution_count": 4,
     "metadata": {},
     "output_type": "execute_result"
    }
   ],
   "source": [
    "df = pd.read_csv(PATH, index_col=[0])  # load the csv\n",
    "df.treq = pd.to_datetime(df.treq)\n",
    "df.sample(5)[['origin_x','origin_y','destination_x','destination_y','treq']]"
   ]
  },
  {
   "cell_type": "markdown",
   "metadata": {},
   "source": [
    "We generate a new DataFrame containing the details of our request, including the designated origin and destination for the journey."
   ]
  },
  {
   "cell_type": "code",
   "execution_count": 5,
   "metadata": {},
   "outputs": [
    {
     "data": {
      "text/html": [
       "<div>\n",
       "<style scoped>\n",
       "    .dataframe tbody tr th:only-of-type {\n",
       "        vertical-align: middle;\n",
       "    }\n",
       "\n",
       "    .dataframe tbody tr th {\n",
       "        vertical-align: top;\n",
       "    }\n",
       "\n",
       "    .dataframe thead th {\n",
       "        text-align: right;\n",
       "    }\n",
       "</style>\n",
       "<table border=\"1\" class=\"dataframe\">\n",
       "  <thead>\n",
       "    <tr style=\"text-align: right;\">\n",
       "      <th></th>\n",
       "      <th>origin_x</th>\n",
       "      <th>origin_y</th>\n",
       "      <th>destination_x</th>\n",
       "      <th>destination_y</th>\n",
       "      <th>treq</th>\n",
       "    </tr>\n",
       "  </thead>\n",
       "  <tbody>\n",
       "    <tr>\n",
       "      <th>0</th>\n",
       "      <td>16.89423</td>\n",
       "      <td>52.40504</td>\n",
       "      <td>16.94984</td>\n",
       "      <td>52.40619</td>\n",
       "      <td>2023-03-07 12:00:00</td>\n",
       "    </tr>\n",
       "    <tr>\n",
       "      <th>1</th>\n",
       "      <td>16.91294</td>\n",
       "      <td>52.42797</td>\n",
       "      <td>16.92324</td>\n",
       "      <td>52.39833</td>\n",
       "      <td>2023-03-07 12:00:00</td>\n",
       "    </tr>\n",
       "    <tr>\n",
       "      <th>2</th>\n",
       "      <td>16.94984</td>\n",
       "      <td>52.41404</td>\n",
       "      <td>16.88410</td>\n",
       "      <td>52.36973</td>\n",
       "      <td>2023-03-07 12:00:00</td>\n",
       "    </tr>\n",
       "  </tbody>\n",
       "</table>\n",
       "</div>"
      ],
      "text/plain": [
       "   origin_x  origin_y  destination_x  destination_y                treq\n",
       "0  16.89423  52.40504       16.94984       52.40619 2023-03-07 12:00:00\n",
       "1  16.91294  52.42797       16.92324       52.39833 2023-03-07 12:00:00\n",
       "2  16.94984  52.41404       16.88410       52.36973 2023-03-07 12:00:00"
      ]
     },
     "execution_count": 5,
     "metadata": {},
     "output_type": "execute_result"
    }
   ],
   "source": [
    "df1 = pd.DataFrame(columns=['origin_x','origin_y','destination_x','destination_y','treq'])\n",
    "df1['origin_x'] = [16.89423, 16.91294, 16.94984]\n",
    "df1['origin_y'] = [52.40504, 52.42797, 52.41404]\n",
    "\n",
    "df1['destination_x'] = [16.94984, 16.92324, 16.88410]\n",
    "df1['destination_y'] = [52.40619, 52.39833, 52.36973]\n",
    "\n",
    "df1['treq'] = pd.Timestamp(2023, 3, 7, 12)\n",
    "\n",
    "df =df1\n",
    "df"
   ]
  },
  {
   "cell_type": "markdown",
   "metadata": {},
   "source": [
    "### Sample query \n",
    "\n",
    "before you can query the server you need to run it -see `run OTP server.ipynb` in this folder\n",
    "\n",
    "[query synthax](http://dev.opentripplanner.org/apidoc/1.0.0/resource_PlannerResource.html)  \n",
    "[response json structure](http://dev.opentripplanner.org/apidoc/1.0.0/json_Response.html)"
   ]
  },
  {
   "cell_type": "code",
   "execution_count": 6,
   "metadata": {
    "tags": []
   },
   "outputs": [
    {
     "data": {
      "text/plain": [
       "{'fromPlace': '52.40504,16.89423',\n",
       " 'toPlace': '52.40619,16.94984',\n",
       " 'time': '00:0pm',\n",
       " 'date': '3-7-2023',\n",
       " 'mode': 'TRANSIT,WALK',\n",
       " 'maxWalkDistance': 2000,\n",
       " 'arriveBy': 'false'}"
      ]
     },
     "execution_count": 6,
     "metadata": {},
     "output_type": "execute_result"
    }
   ],
   "source": [
    "row = df.sample(1).squeeze() #randomly choose a row from df and convert it into a Pandas Series\n",
    "query = make_query(row)\n",
    "query"
   ]
  },
  {
   "cell_type": "markdown",
   "metadata": {},
   "source": [
    "The itinerary refers to a possible travel plan. "
   ]
  },
  {
   "cell_type": "code",
   "execution_count": 7,
   "metadata": {},
   "outputs": [
    {
     "data": {
      "text/plain": [
       "{'success': True,\n",
       " 'n_itineraries': 3,\n",
       " 'duration': 1939,\n",
       " 'walkDistance': 1038.213052617993,\n",
       " 'transfers': 0,\n",
       " 'transitTime': 1080,\n",
       " 'waitingTime': 2,\n",
       " 'modes': [['WALK', 361, 437], ['TRAM', 1080, 5010], ['WALK', 496, 600]]}"
      ]
     },
     "execution_count": 7,
     "metadata": {},
     "output_type": "execute_result"
    }
   ],
   "source": [
    "r = requests.get(OTP_API, params=query)\n",
    "route = parse_OTP_response(r.json())\n",
    "route"
   ]
  },
  {
   "cell_type": "markdown",
   "metadata": {},
   "source": [
    "#### Visualization"
   ]
  },
  {
   "cell_type": "code",
   "execution_count": 8,
   "metadata": {},
   "outputs": [
    {
     "name": "stdout",
     "output_type": "stream",
     "text": [
      "Trip from (16.8942,52.4050) to (16.9498,52.4062) at 1678186800000. \n",
      "3 connections found. \n",
      "Best one is 32min (1038m walk, 0 transfer(s), wait time 0.03min)\n",
      "\n",
      "LEG \t MODE \tDIST \tTIME\n",
      "-----------------------------\n",
      "1\tWALK\t438\t361\n",
      "2\tTRAM\t5010\t1080\n",
      "3\tWALK\t600\t496\n"
     ]
    },
    {
     "data": {
      "text/html": [
       "<div style=\"width:100%;\"><div style=\"position:relative;width:100%;height:0;padding-bottom:60%;\"><span style=\"color:#565656\">Make this Notebook Trusted to load map: File -> Trust Notebook</span><iframe srcdoc=\"&lt;!DOCTYPE html&gt;\n",
       "&lt;html&gt;\n",
       "&lt;head&gt;\n",
       "    \n",
       "    &lt;meta http-equiv=&quot;content-type&quot; content=&quot;text/html; charset=UTF-8&quot; /&gt;\n",
       "    \n",
       "        &lt;script&gt;\n",
       "            L_NO_TOUCH = false;\n",
       "            L_DISABLE_3D = false;\n",
       "        &lt;/script&gt;\n",
       "    \n",
       "    &lt;style&gt;html, body {width: 100%;height: 100%;margin: 0;padding: 0;}&lt;/style&gt;\n",
       "    &lt;style&gt;#map {position:absolute;top:0;bottom:0;right:0;left:0;}&lt;/style&gt;\n",
       "    &lt;script src=&quot;https://cdn.jsdelivr.net/npm/leaflet@1.9.3/dist/leaflet.js&quot;&gt;&lt;/script&gt;\n",
       "    &lt;script src=&quot;https://code.jquery.com/jquery-3.7.1.min.js&quot;&gt;&lt;/script&gt;\n",
       "    &lt;script src=&quot;https://cdn.jsdelivr.net/npm/bootstrap@5.2.2/dist/js/bootstrap.bundle.min.js&quot;&gt;&lt;/script&gt;\n",
       "    &lt;script src=&quot;https://cdnjs.cloudflare.com/ajax/libs/Leaflet.awesome-markers/2.0.2/leaflet.awesome-markers.js&quot;&gt;&lt;/script&gt;\n",
       "    &lt;link rel=&quot;stylesheet&quot; href=&quot;https://cdn.jsdelivr.net/npm/leaflet@1.9.3/dist/leaflet.css&quot;/&gt;\n",
       "    &lt;link rel=&quot;stylesheet&quot; href=&quot;https://cdn.jsdelivr.net/npm/bootstrap@5.2.2/dist/css/bootstrap.min.css&quot;/&gt;\n",
       "    &lt;link rel=&quot;stylesheet&quot; href=&quot;https://netdna.bootstrapcdn.com/bootstrap/3.0.0/css/bootstrap-glyphicons.css&quot;/&gt;\n",
       "    &lt;link rel=&quot;stylesheet&quot; href=&quot;https://cdn.jsdelivr.net/npm/@fortawesome/fontawesome-free@6.2.0/css/all.min.css&quot;/&gt;\n",
       "    &lt;link rel=&quot;stylesheet&quot; href=&quot;https://cdnjs.cloudflare.com/ajax/libs/Leaflet.awesome-markers/2.0.2/leaflet.awesome-markers.css&quot;/&gt;\n",
       "    &lt;link rel=&quot;stylesheet&quot; href=&quot;https://cdn.jsdelivr.net/gh/python-visualization/folium/folium/templates/leaflet.awesome.rotate.min.css&quot;/&gt;\n",
       "    \n",
       "            &lt;meta name=&quot;viewport&quot; content=&quot;width=device-width,\n",
       "                initial-scale=1.0, maximum-scale=1.0, user-scalable=no&quot; /&gt;\n",
       "            &lt;style&gt;\n",
       "                #map_cca5be29ddfed12fbec44bd290b8485f {\n",
       "                    position: relative;\n",
       "                    width: 100.0%;\n",
       "                    height: 100.0%;\n",
       "                    left: 0.0%;\n",
       "                    top: 0.0%;\n",
       "                }\n",
       "                .leaflet-container { font-size: 1rem; }\n",
       "            &lt;/style&gt;\n",
       "        \n",
       "&lt;/head&gt;\n",
       "&lt;body&gt;\n",
       "    \n",
       "    \n",
       "            &lt;div class=&quot;folium-map&quot; id=&quot;map_cca5be29ddfed12fbec44bd290b8485f&quot; &gt;&lt;/div&gt;\n",
       "        \n",
       "&lt;/body&gt;\n",
       "&lt;script&gt;\n",
       "    \n",
       "    \n",
       "            var map_cca5be29ddfed12fbec44bd290b8485f = L.map(\n",
       "                &quot;map_cca5be29ddfed12fbec44bd290b8485f&quot;,\n",
       "                {\n",
       "                    center: [52.405615, 16.922035],\n",
       "                    crs: L.CRS.EPSG3857,\n",
       "                    ...{\n",
       "  &quot;zoom&quot;: 13,\n",
       "  &quot;zoomControl&quot;: true,\n",
       "  &quot;preferCanvas&quot;: false,\n",
       "}\n",
       "\n",
       "                }\n",
       "            );\n",
       "            L.control.scale().addTo(map_cca5be29ddfed12fbec44bd290b8485f);\n",
       "\n",
       "            \n",
       "\n",
       "        \n",
       "    \n",
       "            var tile_layer_5729c7747c431e656e95881e6db06c0f = L.tileLayer(\n",
       "                &quot;https://tile.thunderforest.com/transport/{z}/{x}/{y}.png?apikey=54d9f38859864044ae1906a121f1e942&quot;,\n",
       "                {\n",
       "  &quot;minZoom&quot;: 0,\n",
       "  &quot;maxZoom&quot;: 18,\n",
       "  &quot;maxNativeZoom&quot;: 18,\n",
       "  &quot;noWrap&quot;: false,\n",
       "  &quot;attribution&quot;: &quot;toner-bcg&quot;,\n",
       "  &quot;subdomains&quot;: &quot;abc&quot;,\n",
       "  &quot;detectRetina&quot;: false,\n",
       "  &quot;tms&quot;: false,\n",
       "  &quot;opacity&quot;: 1,\n",
       "}\n",
       "\n",
       "            );\n",
       "        \n",
       "    \n",
       "            tile_layer_5729c7747c431e656e95881e6db06c0f.addTo(map_cca5be29ddfed12fbec44bd290b8485f);\n",
       "        \n",
       "    \n",
       "            var circle_marker_9fda9cc3cc164ce679a1abc845653526 = L.circleMarker(\n",
       "                [52.40523, 16.89421],\n",
       "                {&quot;bubblingMouseEvents&quot;: true, &quot;color&quot;: &quot;green&quot;, &quot;dashArray&quot;: null, &quot;dashOffset&quot;: null, &quot;fill&quot;: false, &quot;fillColor&quot;: &quot;green&quot;, &quot;fillOpacity&quot;: 0.2, &quot;fillRule&quot;: &quot;evenodd&quot;, &quot;lineCap&quot;: &quot;round&quot;, &quot;lineJoin&quot;: &quot;round&quot;, &quot;opacity&quot;: 0.7, &quot;radius&quot;: 5, &quot;stroke&quot;: true, &quot;weight&quot;: 3}\n",
       "            ).addTo(map_cca5be29ddfed12fbec44bd290b8485f);\n",
       "        \n",
       "    \n",
       "            var circle_marker_f8e880588f328f65c6e4c2218ec41cab = L.circleMarker(\n",
       "                [52.40523, 16.89939],\n",
       "                {&quot;bubblingMouseEvents&quot;: true, &quot;color&quot;: &quot;green&quot;, &quot;dashArray&quot;: null, &quot;dashOffset&quot;: null, &quot;fill&quot;: false, &quot;fillColor&quot;: &quot;green&quot;, &quot;fillOpacity&quot;: 0.2, &quot;fillRule&quot;: &quot;evenodd&quot;, &quot;lineCap&quot;: &quot;round&quot;, &quot;lineJoin&quot;: &quot;round&quot;, &quot;opacity&quot;: 0.7, &quot;radius&quot;: 5, &quot;stroke&quot;: true, &quot;weight&quot;: 3}\n",
       "            ).addTo(map_cca5be29ddfed12fbec44bd290b8485f);\n",
       "        \n",
       "    \n",
       "            var circle_marker_194fbc8c36e7a3d4f7586b64cf175886 = L.circleMarker(\n",
       "                [52.40376, 16.95436],\n",
       "                {&quot;bubblingMouseEvents&quot;: true, &quot;color&quot;: &quot;green&quot;, &quot;dashArray&quot;: null, &quot;dashOffset&quot;: null, &quot;fill&quot;: false, &quot;fillColor&quot;: &quot;green&quot;, &quot;fillOpacity&quot;: 0.2, &quot;fillRule&quot;: &quot;evenodd&quot;, &quot;lineCap&quot;: &quot;round&quot;, &quot;lineJoin&quot;: &quot;round&quot;, &quot;opacity&quot;: 0.7, &quot;radius&quot;: 5, &quot;stroke&quot;: true, &quot;weight&quot;: 3}\n",
       "            ).addTo(map_cca5be29ddfed12fbec44bd290b8485f);\n",
       "        \n",
       "    \n",
       "            var poly_line_9cf9a2893b844b78cab674114b4d3be1 = L.polyline(\n",
       "                [[52.40523, 16.89421], [52.40526, 16.89503], [52.40529, 16.89562], [52.40541, 16.89739], [52.40542, 16.89763], [52.40536, 16.89768], [52.40505, 16.89791], [52.405, 16.89794], [52.40495, 16.89798], [52.40498, 16.89809], [52.40501, 16.89817], [52.40508, 16.89842], [52.40522, 16.89895], [52.40538, 16.89955], [52.40534, 16.89958], [52.40532, 16.8996], [52.40531, 16.8996], [52.40529, 16.89962], [52.40526, 16.89953], [52.40525, 16.89954], [52.40524, 16.89952], [52.40523, 16.89946], [52.40521, 16.89941], [52.40523, 16.89939], [52.40526, 16.89947], [52.40558, 16.90037], [52.40577, 16.90098], [52.40584, 16.90133], [52.40599, 16.90204], [52.40625, 16.90322], [52.40639, 16.90394], [52.40651, 16.90486], [52.40663, 16.90604], [52.40672, 16.90774], [52.40672, 16.9083], [52.4067, 16.90868], [52.40661, 16.90964], [52.40654, 16.91042], [52.40653, 16.91054], [52.40651, 16.91082], [52.40651, 16.91106], [52.40651, 16.91118], [52.40651, 16.91149], [52.40649, 16.91169], [52.40647, 16.91182], [52.40644, 16.91202], [52.40617, 16.9119], [52.40599, 16.91182], [52.40542, 16.9116], [52.40448, 16.91125], [52.40417, 16.91112], [52.40399, 16.91105], [52.40393, 16.91103], [52.40372, 16.91094], [52.40357, 16.91088], [52.40354, 16.91116], [52.40322, 16.91354], [52.40308, 16.91445], [52.403, 16.91495], [52.40299, 16.91502], [52.40296, 16.91519], [52.4029, 16.91553], [52.4027, 16.91652], [52.40263, 16.91686], [52.40239, 16.9178], [52.40198, 16.9199], [52.4018, 16.92075], [52.40176, 16.92094], [52.40175, 16.92099], [52.40172, 16.92112], [52.40162, 16.92171], [52.40154, 16.9221], [52.40129, 16.92283], [52.40101, 16.92341], [52.40057, 16.92422], [52.4004, 16.92468], [52.40029, 16.92524], [52.40008, 16.92682], [52.4, 16.92739], [52.39996, 16.92779], [52.39992, 16.92807], [52.39991, 16.92815], [52.39989, 16.92837], [52.39953, 16.9316], [52.39927, 16.93392], [52.39919, 16.93463], [52.39913, 16.9353], [52.39905, 16.93598], [52.39904, 16.93603], [52.39893, 16.93677], [52.39885, 16.93725], [52.39873, 16.9378], [52.39774, 16.94202], [52.39715, 16.94452], [52.39709, 16.94478], [52.39699, 16.94516], [52.3969, 16.94556], [52.39684, 16.94578], [52.39647, 16.94742], [52.39619, 16.94853], [52.39608, 16.94893], [52.39604, 16.94909], [52.39602, 16.94915], [52.3959, 16.94955], [52.39565, 16.95033], [52.39601, 16.95053], [52.39615, 16.95061], [52.39625, 16.95067], [52.39636, 16.95073], [52.39651, 16.95081], [52.39663, 16.95089], [52.39724, 16.95126], [52.39784, 16.95163], [52.39879, 16.95212], [52.39887, 16.95216], [52.3989, 16.95222], [52.39903, 16.95228], [52.39932, 16.95245], [52.39957, 16.95259], [52.39984, 16.95276], [52.40049, 16.95319], [52.40154, 16.95399], [52.40207, 16.95431], [52.40256, 16.95447], [52.40291, 16.95449], [52.40345, 16.95439], [52.40371, 16.9543], [52.40375, 16.95428], [52.40376, 16.95436], [52.40372, 16.95438], [52.40369, 16.9544], [52.40366, 16.9544], [52.40366, 16.95438], [52.40365, 16.95433], [52.40365, 16.95431], [52.40365, 16.95429], [52.40364, 16.95426], [52.40362, 16.95411], [52.40361, 16.95405], [52.40361, 16.95401], [52.40358, 16.95401], [52.40355, 16.95397], [52.40354, 16.95392], [52.40353, 16.95387], [52.40352, 16.9538], [52.40353, 16.95349], [52.40353, 16.95338], [52.40354, 16.9533], [52.40357, 16.95199], [52.40358, 16.95186], [52.40361, 16.95172], [52.40366, 16.9516], [52.40376, 16.95142], [52.40375, 16.95141], [52.40373, 16.95138], [52.4038, 16.95125], [52.40382, 16.9512], [52.40392, 16.95103], [52.40393, 16.95101], [52.40399, 16.9509], [52.40406, 16.95078], [52.40415, 16.95061], [52.40417, 16.95059], [52.40453, 16.94991], [52.40471, 16.9496], [52.40475, 16.94954], [52.4048, 16.94947], [52.40482, 16.94931], [52.40485, 16.94923], [52.40488, 16.94919], [52.40491, 16.94917], [52.40494, 16.94913], [52.40499, 16.94901], [52.40503, 16.94894], [52.40506, 16.94886], [52.40547, 16.94927], [52.40608, 16.94989], [52.40614, 16.94995]],\n",
       "                {&quot;bubblingMouseEvents&quot;: true, &quot;color&quot;: &quot;green&quot;, &quot;dashArray&quot;: null, &quot;dashOffset&quot;: null, &quot;fill&quot;: false, &quot;fillColor&quot;: &quot;green&quot;, &quot;fillOpacity&quot;: 0.2, &quot;fillRule&quot;: &quot;evenodd&quot;, &quot;lineCap&quot;: &quot;round&quot;, &quot;lineJoin&quot;: &quot;round&quot;, &quot;noClip&quot;: false, &quot;opacity&quot;: 0.6, &quot;smoothFactor&quot;: 1.0, &quot;stroke&quot;: true, &quot;weight&quot;: 5}\n",
       "            ).addTo(map_cca5be29ddfed12fbec44bd290b8485f);\n",
       "        \n",
       "&lt;/script&gt;\n",
       "&lt;/html&gt;\" style=\"position:absolute;width:100%;height:100%;left:0;top:0;border:none !important;\" allowfullscreen webkitallowfullscreen mozallowfullscreen></iframe></div></div>"
      ],
      "text/plain": [
       "<folium.folium.Map at 0x1eee1c70e50>"
      ]
     },
     "execution_count": 8,
     "metadata": {},
     "output_type": "execute_result"
    }
   ],
   "source": [
    "plot(r.json()['plan'], color = 'green')"
   ]
  },
  {
   "cell_type": "markdown",
   "metadata": {},
   "source": [
    "#### Output"
   ]
  },
  {
   "cell_type": "code",
   "execution_count": 9,
   "metadata": {},
   "outputs": [
    {
     "data": {
      "text/html": [
       "<div>\n",
       "<style scoped>\n",
       "    .dataframe tbody tr th:only-of-type {\n",
       "        vertical-align: middle;\n",
       "    }\n",
       "\n",
       "    .dataframe tbody tr th {\n",
       "        vertical-align: top;\n",
       "    }\n",
       "\n",
       "    .dataframe thead th {\n",
       "        text-align: right;\n",
       "    }\n",
       "</style>\n",
       "<table border=\"1\" class=\"dataframe\">\n",
       "  <thead>\n",
       "    <tr style=\"text-align: right;\">\n",
       "      <th></th>\n",
       "      <th>success</th>\n",
       "      <th>n_itineraries</th>\n",
       "      <th>duration</th>\n",
       "      <th>walkDistance</th>\n",
       "      <th>transfers</th>\n",
       "      <th>transitTime</th>\n",
       "      <th>waitingTime</th>\n",
       "      <th>modes</th>\n",
       "    </tr>\n",
       "    <tr>\n",
       "      <th>id</th>\n",
       "      <th></th>\n",
       "      <th></th>\n",
       "      <th></th>\n",
       "      <th></th>\n",
       "      <th></th>\n",
       "      <th></th>\n",
       "      <th></th>\n",
       "      <th></th>\n",
       "    </tr>\n",
       "  </thead>\n",
       "  <tbody>\n",
       "    <tr>\n",
       "      <th>247</th>\n",
       "      <td>True</td>\n",
       "      <td>3</td>\n",
       "      <td>1270</td>\n",
       "      <td>254.654880</td>\n",
       "      <td>1</td>\n",
       "      <td>973</td>\n",
       "      <td>74</td>\n",
       "      <td>[['WALK', 125, 136], ['TRAM', 332, 1469], ['WA...</td>\n",
       "    </tr>\n",
       "    <tr>\n",
       "      <th>557</th>\n",
       "      <td>True</td>\n",
       "      <td>3</td>\n",
       "      <td>1869</td>\n",
       "      <td>1021.096414</td>\n",
       "      <td>1</td>\n",
       "      <td>749</td>\n",
       "      <td>279</td>\n",
       "      <td>[['WALK', 627, 756], ['SUBWAY', 107, 1727], ['...</td>\n",
       "    </tr>\n",
       "    <tr>\n",
       "      <th>948</th>\n",
       "      <td>True</td>\n",
       "      <td>3</td>\n",
       "      <td>1825</td>\n",
       "      <td>1613.782045</td>\n",
       "      <td>1</td>\n",
       "      <td>401</td>\n",
       "      <td>133</td>\n",
       "      <td>[['WALK', 835, 1038], ['RAIL', 240, 3520], ['W...</td>\n",
       "    </tr>\n",
       "    <tr>\n",
       "      <th>816</th>\n",
       "      <td>True</td>\n",
       "      <td>3</td>\n",
       "      <td>1752</td>\n",
       "      <td>525.876737</td>\n",
       "      <td>2</td>\n",
       "      <td>1204</td>\n",
       "      <td>104</td>\n",
       "      <td>[['WALK', 353, 422], ['TRAM', 402, 1762], ['WA...</td>\n",
       "    </tr>\n",
       "    <tr>\n",
       "      <th>17</th>\n",
       "      <td>True</td>\n",
       "      <td>3</td>\n",
       "      <td>1559</td>\n",
       "      <td>694.653120</td>\n",
       "      <td>0</td>\n",
       "      <td>1002</td>\n",
       "      <td>2</td>\n",
       "      <td>[['WALK', 341, 432], ['BUS', 1002, 4407], ['WA...</td>\n",
       "    </tr>\n",
       "  </tbody>\n",
       "</table>\n",
       "</div>"
      ],
      "text/plain": [
       "     success  n_itineraries  duration  walkDistance  transfers  transitTime  \\\n",
       "id                                                                            \n",
       "247     True              3      1270    254.654880          1          973   \n",
       "557     True              3      1869   1021.096414          1          749   \n",
       "948     True              3      1825   1613.782045          1          401   \n",
       "816     True              3      1752    525.876737          2         1204   \n",
       "17      True              3      1559    694.653120          0         1002   \n",
       "\n",
       "     waitingTime                                              modes  \n",
       "id                                                                   \n",
       "247           74  [['WALK', 125, 136], ['TRAM', 332, 1469], ['WA...  \n",
       "557          279  [['WALK', 627, 756], ['SUBWAY', 107, 1727], ['...  \n",
       "948          133  [['WALK', 835, 1038], ['RAIL', 240, 3520], ['W...  \n",
       "816          104  [['WALK', 353, 422], ['TRAM', 402, 1762], ['WA...  \n",
       "17             2  [['WALK', 341, 432], ['BUS', 1002, 4407], ['WA...  "
      ]
     },
     "execution_count": 9,
     "metadata": {},
     "output_type": "execute_result"
    }
   ],
   "source": [
    "pd.read_csv('georequests_PT.csv', index_col=[0]).sample(5)"
   ]
  },
  {
   "cell_type": "markdown",
   "metadata": {},
   "source": [
    "#### Full response"
   ]
  },
  {
   "cell_type": "code",
   "execution_count": 10,
   "metadata": {
    "tags": []
   },
   "outputs": [
    {
     "data": {
      "text/plain": [
       "{'date': '3-7-2023',\n",
       " 'mode': 'TRANSIT,WALK',\n",
       " 'arriveBy': 'false',\n",
       " 'fromPlace': '52.40504,16.89423',\n",
       " 'toPlace': '52.40619,16.94984',\n",
       " 'time': '00:0pm',\n",
       " 'maxWalkDistance': '2000'}"
      ]
     },
     "execution_count": 10,
     "metadata": {},
     "output_type": "execute_result"
    }
   ],
   "source": [
    "r.json()['requestParameters']"
   ]
  },
  {
   "cell_type": "markdown",
   "metadata": {},
   "source": [
    "---"
   ]
  }
 ],
 "metadata": {
  "kernelspec": {
   "display_name": "torchrl",
   "language": "python",
   "name": "python3"
  },
  "language_info": {
   "codemirror_mode": {
    "name": "ipython",
    "version": 3
   },
   "file_extension": ".py",
   "mimetype": "text/x-python",
   "name": "python",
   "nbconvert_exporter": "python",
   "pygments_lexer": "ipython3",
   "version": "3.11.8"
  }
 },
 "nbformat": 4,
 "nbformat_minor": 4
}
