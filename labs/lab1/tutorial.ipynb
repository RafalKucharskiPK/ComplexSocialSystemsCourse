{
 "cells": [
  {
   "cell_type": "markdown",
   "metadata": {},
   "source": [
    "\n",
    "\n",
    "__Set your own route planner for a given OSM map and GTFS file and query server on localhost for a detailed routes__\n",
    "\n",
    "\n",
    "## OpenTripPlanner (OTP) walkthrough\n",
    "\n",
    "1. Install Java JDK.\n",
    "2. Download [latest](https://repo1.maven.org/maven2/org/opentripplanner/otp/1.4.0/otp-1.4.0-shaded.jar) .jar from [Maven](https://repo1.maven.org/maven2/org/opentripplanner/otp/1.4.0/).\n",
    "3. Download gtfs.zip of a given city into a `folder` from `transit.land`.\n",
    "4. Download osm.pbf of your area from [here](https://www.interline.io/osm/extracts/) (need to login to get API token).\n",
    "5. Call from terminal `java -Xmx6G -jar otp-1.4.0-shaded.jar --build data_path --inMemory` changing `6G` as memory allocated (6GB) and `data_path` to your path with osm and gtfs files.\n",
    "6. If succesful you shall be able to open a web search in your browser: [`http://localhost:8080/`](http://localhost:8080/).\n",
    "\n",
    "information from [link](http://docs.opentripplanner.org/en/latest/Basic-Tutorial/)\n"
   ]
  },
  {
   "cell_type": "code",
   "execution_count": 1,
   "metadata": {},
   "outputs": [],
   "source": [
    "import pandas as pd\n",
    "import requests"
   ]
  },
  {
   "cell_type": "markdown",
   "metadata": {},
   "source": [
    "### Local imports"
   ]
  },
  {
   "cell_type": "code",
   "execution_count": 2,
   "metadata": {},
   "outputs": [],
   "source": [
    "from main import make_query, parse_OTP_response\n",
    "from utils import plot"
   ]
  },
  {
   "cell_type": "markdown",
   "metadata": {},
   "source": [
    "The `georequests.csv` file contains requests to travel from specific origin to destination points. "
   ]
  },
  {
   "cell_type": "code",
   "execution_count": 3,
   "metadata": {},
   "outputs": [],
   "source": [
    "PATH = 'georequests.csv'\n",
    "OTP_API = \"http://localhost:8080/otp/routers/default/plan\""
   ]
  },
  {
   "cell_type": "markdown",
   "metadata": {},
   "source": [
    "The `origin_x`, `destination_x`, `origin_y` and `destination_y` represent the longitude (x) and latitude (y) coordinates of the origin and destination locations"
   ]
  },
  {
   "cell_type": "code",
   "execution_count": 4,
   "metadata": {},
   "outputs": [
    {
     "data": {
      "text/html": [
       "<div>\n",
       "<style scoped>\n",
       "    .dataframe tbody tr th:only-of-type {\n",
       "        vertical-align: middle;\n",
       "    }\n",
       "\n",
       "    .dataframe tbody tr th {\n",
       "        vertical-align: top;\n",
       "    }\n",
       "\n",
       "    .dataframe thead th {\n",
       "        text-align: right;\n",
       "    }\n",
       "</style>\n",
       "<table border=\"1\" class=\"dataframe\">\n",
       "  <thead>\n",
       "    <tr style=\"text-align: right;\">\n",
       "      <th></th>\n",
       "      <th>origin_x</th>\n",
       "      <th>origin_y</th>\n",
       "      <th>destination_x</th>\n",
       "      <th>destination_y</th>\n",
       "      <th>treq</th>\n",
       "    </tr>\n",
       "  </thead>\n",
       "  <tbody>\n",
       "    <tr>\n",
       "      <th>647</th>\n",
       "      <td>4.875478</td>\n",
       "      <td>52.352987</td>\n",
       "      <td>4.886491</td>\n",
       "      <td>52.368780</td>\n",
       "      <td>2020-10-29 15:04:29</td>\n",
       "    </tr>\n",
       "    <tr>\n",
       "      <th>281</th>\n",
       "      <td>4.884157</td>\n",
       "      <td>52.347835</td>\n",
       "      <td>4.892685</td>\n",
       "      <td>52.365040</td>\n",
       "      <td>2020-10-29 14:40:07</td>\n",
       "    </tr>\n",
       "    <tr>\n",
       "      <th>638</th>\n",
       "      <td>4.888803</td>\n",
       "      <td>52.389063</td>\n",
       "      <td>4.894835</td>\n",
       "      <td>52.379590</td>\n",
       "      <td>2020-10-29 14:59:37</td>\n",
       "    </tr>\n",
       "    <tr>\n",
       "      <th>550</th>\n",
       "      <td>4.890601</td>\n",
       "      <td>52.341577</td>\n",
       "      <td>4.888396</td>\n",
       "      <td>52.370173</td>\n",
       "      <td>2020-10-29 14:45:09</td>\n",
       "    </tr>\n",
       "    <tr>\n",
       "      <th>394</th>\n",
       "      <td>4.882449</td>\n",
       "      <td>52.366186</td>\n",
       "      <td>4.891513</td>\n",
       "      <td>52.376213</td>\n",
       "      <td>2020-10-29 14:38:40</td>\n",
       "    </tr>\n",
       "  </tbody>\n",
       "</table>\n",
       "</div>"
      ],
      "text/plain": [
       "     origin_x   origin_y  destination_x  destination_y                treq\n",
       "647  4.875478  52.352987       4.886491      52.368780 2020-10-29 15:04:29\n",
       "281  4.884157  52.347835       4.892685      52.365040 2020-10-29 14:40:07\n",
       "638  4.888803  52.389063       4.894835      52.379590 2020-10-29 14:59:37\n",
       "550  4.890601  52.341577       4.888396      52.370173 2020-10-29 14:45:09\n",
       "394  4.882449  52.366186       4.891513      52.376213 2020-10-29 14:38:40"
      ]
     },
     "execution_count": 4,
     "metadata": {},
     "output_type": "execute_result"
    }
   ],
   "source": [
    "df = pd.read_csv(PATH, index_col=[0])  # load the csv\n",
    "df.treq = pd.to_datetime(df.treq)\n",
    "df.sample(5)[['origin_x','origin_y','destination_x','destination_y','treq']]"
   ]
  },
  {
   "cell_type": "markdown",
   "metadata": {},
   "source": [
    "We generate a new DataFrame containing the details of our request, including the designated origin and destination for the journey."
   ]
  },
  {
   "cell_type": "code",
   "execution_count": 5,
   "metadata": {},
   "outputs": [
    {
     "data": {
      "text/html": [
       "<div>\n",
       "<style scoped>\n",
       "    .dataframe tbody tr th:only-of-type {\n",
       "        vertical-align: middle;\n",
       "    }\n",
       "\n",
       "    .dataframe tbody tr th {\n",
       "        vertical-align: top;\n",
       "    }\n",
       "\n",
       "    .dataframe thead th {\n",
       "        text-align: right;\n",
       "    }\n",
       "</style>\n",
       "<table border=\"1\" class=\"dataframe\">\n",
       "  <thead>\n",
       "    <tr style=\"text-align: right;\">\n",
       "      <th></th>\n",
       "      <th>origin_x</th>\n",
       "      <th>origin_y</th>\n",
       "      <th>destination_x</th>\n",
       "      <th>destination_y</th>\n",
       "      <th>treq</th>\n",
       "    </tr>\n",
       "  </thead>\n",
       "  <tbody>\n",
       "    <tr>\n",
       "      <th>0</th>\n",
       "      <td>16.89423</td>\n",
       "      <td>52.40504</td>\n",
       "      <td>16.94984</td>\n",
       "      <td>52.40619</td>\n",
       "      <td>2023-03-07 12:00:00</td>\n",
       "    </tr>\n",
       "    <tr>\n",
       "      <th>1</th>\n",
       "      <td>16.91294</td>\n",
       "      <td>52.42797</td>\n",
       "      <td>16.92324</td>\n",
       "      <td>52.39833</td>\n",
       "      <td>2023-03-07 12:00:00</td>\n",
       "    </tr>\n",
       "    <tr>\n",
       "      <th>2</th>\n",
       "      <td>16.94984</td>\n",
       "      <td>52.41404</td>\n",
       "      <td>16.88410</td>\n",
       "      <td>52.36973</td>\n",
       "      <td>2023-03-07 12:00:00</td>\n",
       "    </tr>\n",
       "  </tbody>\n",
       "</table>\n",
       "</div>"
      ],
      "text/plain": [
       "   origin_x  origin_y  destination_x  destination_y                treq\n",
       "0  16.89423  52.40504       16.94984       52.40619 2023-03-07 12:00:00\n",
       "1  16.91294  52.42797       16.92324       52.39833 2023-03-07 12:00:00\n",
       "2  16.94984  52.41404       16.88410       52.36973 2023-03-07 12:00:00"
      ]
     },
     "execution_count": 5,
     "metadata": {},
     "output_type": "execute_result"
    }
   ],
   "source": [
    "df1 = pd.DataFrame(columns=['origin_x','origin_y','destination_x','destination_y','treq'])\n",
    "df1['origin_x'] = [16.89423, 16.91294, 16.94984]\n",
    "df1['origin_y'] = [52.40504, 52.42797, 52.41404]\n",
    "\n",
    "df1['destination_x'] = [16.94984, 16.92324, 16.88410]\n",
    "df1['destination_y'] = [52.40619, 52.39833, 52.36973]\n",
    "\n",
    "df1['treq'] = pd.Timestamp(2023, 3, 7, 12)\n",
    "\n",
    "df =df1\n",
    "df"
   ]
  },
  {
   "cell_type": "markdown",
   "metadata": {},
   "source": [
    "### Sample query \n",
    "\n",
    "before you can query the server you need to run it -see `run OTP server.ipynb` in this folder\n",
    "\n",
    "[query synthax](http://dev.opentripplanner.org/apidoc/1.0.0/resource_PlannerResource.html)  \n",
    "[response json structure](http://dev.opentripplanner.org/apidoc/1.0.0/json_Response.html)"
   ]
  },
  {
   "cell_type": "code",
   "execution_count": 6,
   "metadata": {
    "tags": []
   },
   "outputs": [
    {
     "data": {
      "text/plain": [
       "{'fromPlace': '52.42797,16.91294',\n",
       " 'toPlace': '52.39833,16.92324',\n",
       " 'time': '00:0pm',\n",
       " 'date': '3-7-2023',\n",
       " 'mode': 'TRANSIT,WALK',\n",
       " 'maxWalkDistance': 2000,\n",
       " 'arriveBy': 'false'}"
      ]
     },
     "execution_count": 6,
     "metadata": {},
     "output_type": "execute_result"
    }
   ],
   "source": [
    "row = df.sample(1).squeeze() #randomly choose a row from df and convert it into a Pandas Series\n",
    "query = make_query(row)\n",
    "query"
   ]
  },
  {
   "cell_type": "markdown",
   "metadata": {},
   "source": [
    "The itinerary refers to a possible travel plan. "
   ]
  },
  {
   "cell_type": "code",
   "execution_count": 7,
   "metadata": {},
   "outputs": [
    {
     "data": {
      "text/plain": [
       "{'success': True,\n",
       " 'n_itineraries': 3,\n",
       " 'duration': 1904,\n",
       " 'walkDistance': 899.6474060001171,\n",
       " 'transfers': 1,\n",
       " 'transitTime': 1140,\n",
       " 'waitingTime': 2,\n",
       " 'modes': [['WALK', 400, 470],\n",
       "  ['TRAM', 840, 3768],\n",
       "  ['TRAM', 300, 1390],\n",
       "  ['WALK', 362, 428]]}"
      ]
     },
     "execution_count": 7,
     "metadata": {},
     "output_type": "execute_result"
    }
   ],
   "source": [
    "r = requests.get(OTP_API, params=query)\n",
    "route = parse_OTP_response(r.json())\n",
    "route"
   ]
  },
  {
   "cell_type": "markdown",
   "metadata": {},
   "source": [
    "#### Visualization"
   ]
  },
  {
   "cell_type": "code",
   "execution_count": 8,
   "metadata": {},
   "outputs": [
    {
     "name": "stdout",
     "output_type": "stream",
     "text": [
      "Trip from (16.9129,52.4280) to (16.9232,52.3983) at 1678186800000. \n",
      "3 connections found. \n",
      "Best one is 32min (900m walk, 1 transfer(s), wait time 0.03min)\n",
      "\n",
      "LEG \t MODE \tDIST \tTIME\n",
      "-----------------------------\n",
      "1\tWALK\t470\t400\n",
      "2\tTRAM\t3768\t840\n",
      "3\tTRAM\t1390\t300\n",
      "4\tWALK\t429\t362\n"
     ]
    },
    {
     "data": {
      "text/html": [
       "<div style=\"width:100%;\"><div style=\"position:relative;width:100%;height:0;padding-bottom:60%;\"><span style=\"color:#565656\">Make this Notebook Trusted to load map: File -> Trust Notebook</span><iframe srcdoc=\"&lt;!DOCTYPE html&gt;\n",
       "&lt;html&gt;\n",
       "&lt;head&gt;\n",
       "    \n",
       "    &lt;meta http-equiv=&quot;content-type&quot; content=&quot;text/html; charset=UTF-8&quot; /&gt;\n",
       "    \n",
       "        &lt;script&gt;\n",
       "            L_NO_TOUCH = false;\n",
       "            L_DISABLE_3D = false;\n",
       "        &lt;/script&gt;\n",
       "    \n",
       "    &lt;style&gt;html, body {width: 100%;height: 100%;margin: 0;padding: 0;}&lt;/style&gt;\n",
       "    &lt;style&gt;#map {position:absolute;top:0;bottom:0;right:0;left:0;}&lt;/style&gt;\n",
       "    &lt;script src=&quot;https://cdn.jsdelivr.net/npm/leaflet@1.9.3/dist/leaflet.js&quot;&gt;&lt;/script&gt;\n",
       "    &lt;script src=&quot;https://code.jquery.com/jquery-3.7.1.min.js&quot;&gt;&lt;/script&gt;\n",
       "    &lt;script src=&quot;https://cdn.jsdelivr.net/npm/bootstrap@5.2.2/dist/js/bootstrap.bundle.min.js&quot;&gt;&lt;/script&gt;\n",
       "    &lt;script src=&quot;https://cdnjs.cloudflare.com/ajax/libs/Leaflet.awesome-markers/2.0.2/leaflet.awesome-markers.js&quot;&gt;&lt;/script&gt;\n",
       "    &lt;link rel=&quot;stylesheet&quot; href=&quot;https://cdn.jsdelivr.net/npm/leaflet@1.9.3/dist/leaflet.css&quot;/&gt;\n",
       "    &lt;link rel=&quot;stylesheet&quot; href=&quot;https://cdn.jsdelivr.net/npm/bootstrap@5.2.2/dist/css/bootstrap.min.css&quot;/&gt;\n",
       "    &lt;link rel=&quot;stylesheet&quot; href=&quot;https://netdna.bootstrapcdn.com/bootstrap/3.0.0/css/bootstrap-glyphicons.css&quot;/&gt;\n",
       "    &lt;link rel=&quot;stylesheet&quot; href=&quot;https://cdn.jsdelivr.net/npm/@fortawesome/fontawesome-free@6.2.0/css/all.min.css&quot;/&gt;\n",
       "    &lt;link rel=&quot;stylesheet&quot; href=&quot;https://cdnjs.cloudflare.com/ajax/libs/Leaflet.awesome-markers/2.0.2/leaflet.awesome-markers.css&quot;/&gt;\n",
       "    &lt;link rel=&quot;stylesheet&quot; href=&quot;https://cdn.jsdelivr.net/gh/python-visualization/folium/folium/templates/leaflet.awesome.rotate.min.css&quot;/&gt;\n",
       "    \n",
       "            &lt;meta name=&quot;viewport&quot; content=&quot;width=device-width,\n",
       "                initial-scale=1.0, maximum-scale=1.0, user-scalable=no&quot; /&gt;\n",
       "            &lt;style&gt;\n",
       "                #map_43dfa64a99ac4bb2f7b038f862b39d84 {\n",
       "                    position: relative;\n",
       "                    width: 100.0%;\n",
       "                    height: 100.0%;\n",
       "                    left: 0.0%;\n",
       "                    top: 0.0%;\n",
       "                }\n",
       "                .leaflet-container { font-size: 1rem; }\n",
       "            &lt;/style&gt;\n",
       "        \n",
       "&lt;/head&gt;\n",
       "&lt;body&gt;\n",
       "    \n",
       "    \n",
       "            &lt;div class=&quot;folium-map&quot; id=&quot;map_43dfa64a99ac4bb2f7b038f862b39d84&quot; &gt;&lt;/div&gt;\n",
       "        \n",
       "&lt;/body&gt;\n",
       "&lt;script&gt;\n",
       "    \n",
       "    \n",
       "            var map_43dfa64a99ac4bb2f7b038f862b39d84 = L.map(\n",
       "                &quot;map_43dfa64a99ac4bb2f7b038f862b39d84&quot;,\n",
       "                {\n",
       "                    center: [52.41315, 16.91809],\n",
       "                    crs: L.CRS.EPSG3857,\n",
       "                    ...{\n",
       "  &quot;zoom&quot;: 13,\n",
       "  &quot;zoomControl&quot;: true,\n",
       "  &quot;preferCanvas&quot;: false,\n",
       "}\n",
       "\n",
       "                }\n",
       "            );\n",
       "            L.control.scale().addTo(map_43dfa64a99ac4bb2f7b038f862b39d84);\n",
       "\n",
       "            \n",
       "\n",
       "        \n",
       "    \n",
       "            var tile_layer_a38ef7ad437ecef566ca761d1e41e1c4 = L.tileLayer(\n",
       "                &quot;https://tile.thunderforest.com/transport/{z}/{x}/{y}.png?apikey=54d9f38859864044ae1906a121f1e942&quot;,\n",
       "                {\n",
       "  &quot;minZoom&quot;: 0,\n",
       "  &quot;maxZoom&quot;: 18,\n",
       "  &quot;maxNativeZoom&quot;: 18,\n",
       "  &quot;noWrap&quot;: false,\n",
       "  &quot;attribution&quot;: &quot;toner-bcg&quot;,\n",
       "  &quot;subdomains&quot;: &quot;abc&quot;,\n",
       "  &quot;detectRetina&quot;: false,\n",
       "  &quot;tms&quot;: false,\n",
       "  &quot;opacity&quot;: 1,\n",
       "}\n",
       "\n",
       "            );\n",
       "        \n",
       "    \n",
       "            tile_layer_a38ef7ad437ecef566ca761d1e41e1c4.addTo(map_43dfa64a99ac4bb2f7b038f862b39d84);\n",
       "        \n",
       "    \n",
       "            var circle_marker_76a17d7c4d914c4fb62e8eed5f870b48 = L.circleMarker(\n",
       "                [52.42797, 16.91282],\n",
       "                {&quot;bubblingMouseEvents&quot;: true, &quot;color&quot;: &quot;green&quot;, &quot;dashArray&quot;: null, &quot;dashOffset&quot;: null, &quot;fill&quot;: false, &quot;fillColor&quot;: &quot;green&quot;, &quot;fillOpacity&quot;: 0.2, &quot;fillRule&quot;: &quot;evenodd&quot;, &quot;lineCap&quot;: &quot;round&quot;, &quot;lineJoin&quot;: &quot;round&quot;, &quot;opacity&quot;: 0.7, &quot;radius&quot;: 5, &quot;stroke&quot;: true, &quot;weight&quot;: 3}\n",
       "            ).addTo(map_43dfa64a99ac4bb2f7b038f862b39d84);\n",
       "        \n",
       "    \n",
       "            var circle_marker_b14f7ce13f77be0a346dd421e0ab2fd5 = L.circleMarker(\n",
       "                [52.43019, 16.9107],\n",
       "                {&quot;bubblingMouseEvents&quot;: true, &quot;color&quot;: &quot;green&quot;, &quot;dashArray&quot;: null, &quot;dashOffset&quot;: null, &quot;fill&quot;: false, &quot;fillColor&quot;: &quot;green&quot;, &quot;fillOpacity&quot;: 0.2, &quot;fillRule&quot;: &quot;evenodd&quot;, &quot;lineCap&quot;: &quot;round&quot;, &quot;lineJoin&quot;: &quot;round&quot;, &quot;opacity&quot;: 0.7, &quot;radius&quot;: 5, &quot;stroke&quot;: true, &quot;weight&quot;: 3}\n",
       "            ).addTo(map_43dfa64a99ac4bb2f7b038f862b39d84);\n",
       "        \n",
       "    \n",
       "            var circle_marker_70f2d4dd9b80fc0f022df4745631e7b7 = L.circleMarker(\n",
       "                [52.40399, 16.91105],\n",
       "                {&quot;bubblingMouseEvents&quot;: true, &quot;color&quot;: &quot;green&quot;, &quot;dashArray&quot;: null, &quot;dashOffset&quot;: null, &quot;fill&quot;: false, &quot;fillColor&quot;: &quot;green&quot;, &quot;fillOpacity&quot;: 0.2, &quot;fillRule&quot;: &quot;evenodd&quot;, &quot;lineCap&quot;: &quot;round&quot;, &quot;lineJoin&quot;: &quot;round&quot;, &quot;opacity&quot;: 0.7, &quot;radius&quot;: 5, &quot;stroke&quot;: true, &quot;weight&quot;: 3}\n",
       "            ).addTo(map_43dfa64a99ac4bb2f7b038f862b39d84);\n",
       "        \n",
       "    \n",
       "            var circle_marker_51e89ea5c8c82831ba077efec46506c0 = L.circleMarker(\n",
       "                [52.39651, 16.92128],\n",
       "                {&quot;bubblingMouseEvents&quot;: true, &quot;color&quot;: &quot;green&quot;, &quot;dashArray&quot;: null, &quot;dashOffset&quot;: null, &quot;fill&quot;: false, &quot;fillColor&quot;: &quot;green&quot;, &quot;fillOpacity&quot;: 0.2, &quot;fillRule&quot;: &quot;evenodd&quot;, &quot;lineCap&quot;: &quot;round&quot;, &quot;lineJoin&quot;: &quot;round&quot;, &quot;opacity&quot;: 0.7, &quot;radius&quot;: 5, &quot;stroke&quot;: true, &quot;weight&quot;: 3}\n",
       "            ).addTo(map_43dfa64a99ac4bb2f7b038f862b39d84);\n",
       "        \n",
       "    \n",
       "            var poly_line_6fa5ef20e64275bd816c513c8f958112 = L.polyline(\n",
       "                [[52.42797, 16.91282], [52.42805, 16.91283], [52.42848, 16.91289], [52.42848, 16.91278], [52.42849, 16.91254], [52.4285, 16.91248], [52.42917, 16.91256], [52.42972, 16.91264], [52.42981, 16.91265], [52.42983, 16.91265], [52.43012, 16.91268], [52.43012, 16.91261], [52.43012, 16.91257], [52.43013, 16.91238], [52.43016, 16.91196], [52.43017, 16.91184], [52.43019, 16.91168], [52.43021, 16.91149], [52.43025, 16.91128], [52.43026, 16.91114], [52.43025, 16.91114], [52.43024, 16.91112], [52.43022, 16.91108], [52.43021, 16.91104], [52.43021, 16.91096], [52.42999, 16.91085], [52.42996, 16.91079], [52.42989, 16.91067], [52.42991, 16.91063], [52.42992, 16.91058], [52.42993, 16.91053], [52.43004, 16.91058], [52.43012, 16.91061], [52.43016, 16.91063], [52.43017, 16.9106], [52.43017, 16.9106], [52.4302, 16.91062], [52.43019, 16.9107], [52.43017, 16.91069], [52.42993, 16.91051], [52.4296, 16.91029], [52.42932, 16.90999], [52.42893, 16.9093], [52.42866, 16.90862], [52.42846, 16.90796], [52.42818, 16.90747], [52.42789, 16.90715], [52.42687, 16.90631], [52.42687, 16.90631], [52.42619, 16.90567], [52.42589, 16.90548], [52.42574, 16.90543], [52.42549, 16.90526], [52.42406, 16.90381], [52.42366, 16.90338], [52.4234, 16.90319], [52.42322, 16.90319], [52.42298, 16.90355], [52.42296, 16.90358], [52.42264, 16.90433], [52.42208, 16.90566], [52.42177, 16.9065], [52.42152, 16.90744], [52.4214, 16.90785], [52.42131, 16.9081], [52.42131, 16.90811], [52.42121, 16.90837], [52.42114, 16.90855], [52.42104, 16.9088], [52.42086, 16.90915], [52.42052, 16.9098], [52.42013, 16.91051], [52.4198, 16.91115], [52.41934, 16.91228], [52.41897, 16.91318], [52.41882, 16.91357], [52.41867, 16.91394], [52.41864, 16.91399], [52.41851, 16.91429], [52.41784, 16.91587], [52.41743, 16.91668], [52.41703, 16.91734], [52.4165, 16.91807], [52.41589, 16.91878], [52.41574, 16.91892], [52.41555, 16.91863], [52.41548, 16.91851], [52.41542, 16.91841], [52.41542, 16.9184], [52.41505, 16.91768], [52.41468, 16.91712], [52.41436, 16.91672], [52.41407, 16.91644], [52.41404, 16.91641], [52.41383, 16.91616], [52.41346, 16.91541], [52.41335, 16.91519], [52.41292, 16.91478], [52.4127, 16.91458], [52.41225, 16.91423], [52.41146, 16.91385], [52.41117, 16.91373], [52.41089, 16.91363], [52.41053, 16.91351], [52.41018, 16.91334], [52.41, 16.91327], [52.40853, 16.91265], [52.40839, 16.91261], [52.40835, 16.91259], [52.40823, 16.91256], [52.40805, 16.9125], [52.40779, 16.91246], [52.40681, 16.91219], [52.40644, 16.91202], [52.40617, 16.9119], [52.40599, 16.91182], [52.40542, 16.9116], [52.40448, 16.91125], [52.40417, 16.91112], [52.40399, 16.91105], [52.40399, 16.91105], [52.40393, 16.91103], [52.40372, 16.91094], [52.40357, 16.91088], [52.40354, 16.91116], [52.40322, 16.91354], [52.40308, 16.91445], [52.403, 16.91495], [52.40299, 16.91502], [52.40296, 16.91519], [52.4029, 16.91553], [52.4027, 16.91652], [52.40263, 16.91686], [52.40239, 16.9178], [52.40198, 16.9199], [52.4018, 16.92075], [52.40176, 16.92094], [52.40175, 16.92099], [52.40172, 16.92112], [52.40162, 16.92171], [52.40147, 16.92162], [52.40119, 16.92145], [52.40102, 16.92131], [52.40086, 16.92123], [52.40067, 16.92124], [52.39982, 16.92123], [52.3989, 16.92124], [52.39744, 16.92127], [52.39672, 16.92127], [52.39651, 16.92127], [52.39651, 16.92128], [52.39679, 16.92128], [52.39679, 16.92125], [52.39694, 16.92126], [52.39706, 16.92126], [52.39707, 16.92129], [52.39707, 16.9214], [52.39709, 16.92153], [52.39718, 16.9225], [52.39718, 16.92254], [52.39719, 16.92264], [52.39721, 16.92292], [52.39728, 16.92369], [52.39729, 16.92378], [52.39731, 16.92406], [52.39734, 16.92407], [52.39737, 16.92407], [52.39737, 16.92408], [52.39739, 16.92409], [52.39754, 16.92416], [52.39772, 16.92423], [52.39792, 16.92433], [52.39799, 16.92436], [52.39803, 16.92437], [52.39807, 16.92438], [52.39813, 16.92437], [52.39826, 16.92437], [52.39826, 16.92432], [52.39825, 16.92389], [52.39824, 16.92343]],\n",
       "                {&quot;bubblingMouseEvents&quot;: true, &quot;color&quot;: &quot;green&quot;, &quot;dashArray&quot;: null, &quot;dashOffset&quot;: null, &quot;fill&quot;: false, &quot;fillColor&quot;: &quot;green&quot;, &quot;fillOpacity&quot;: 0.2, &quot;fillRule&quot;: &quot;evenodd&quot;, &quot;lineCap&quot;: &quot;round&quot;, &quot;lineJoin&quot;: &quot;round&quot;, &quot;noClip&quot;: false, &quot;opacity&quot;: 0.6, &quot;smoothFactor&quot;: 1.0, &quot;stroke&quot;: true, &quot;weight&quot;: 5}\n",
       "            ).addTo(map_43dfa64a99ac4bb2f7b038f862b39d84);\n",
       "        \n",
       "&lt;/script&gt;\n",
       "&lt;/html&gt;\" style=\"position:absolute;width:100%;height:100%;left:0;top:0;border:none !important;\" allowfullscreen webkitallowfullscreen mozallowfullscreen></iframe></div></div>"
      ],
      "text/plain": [
       "<folium.folium.Map at 0x13d1fad0fd0>"
      ]
     },
     "execution_count": 8,
     "metadata": {},
     "output_type": "execute_result"
    }
   ],
   "source": [
    "plot(r.json()['plan'], color = 'green')"
   ]
  },
  {
   "cell_type": "markdown",
   "metadata": {},
   "source": [
    "#### Output"
   ]
  },
  {
   "cell_type": "code",
   "execution_count": 9,
   "metadata": {},
   "outputs": [
    {
     "data": {
      "text/html": [
       "<div>\n",
       "<style scoped>\n",
       "    .dataframe tbody tr th:only-of-type {\n",
       "        vertical-align: middle;\n",
       "    }\n",
       "\n",
       "    .dataframe tbody tr th {\n",
       "        vertical-align: top;\n",
       "    }\n",
       "\n",
       "    .dataframe thead th {\n",
       "        text-align: right;\n",
       "    }\n",
       "</style>\n",
       "<table border=\"1\" class=\"dataframe\">\n",
       "  <thead>\n",
       "    <tr style=\"text-align: right;\">\n",
       "      <th></th>\n",
       "      <th>success</th>\n",
       "      <th>n_itineraries</th>\n",
       "      <th>duration</th>\n",
       "      <th>walkDistance</th>\n",
       "      <th>transfers</th>\n",
       "      <th>transitTime</th>\n",
       "      <th>waitingTime</th>\n",
       "      <th>modes</th>\n",
       "    </tr>\n",
       "    <tr>\n",
       "      <th>id</th>\n",
       "      <th></th>\n",
       "      <th></th>\n",
       "      <th></th>\n",
       "      <th></th>\n",
       "      <th></th>\n",
       "      <th></th>\n",
       "      <th></th>\n",
       "      <th></th>\n",
       "    </tr>\n",
       "  </thead>\n",
       "  <tbody>\n",
       "    <tr>\n",
       "      <th>592</th>\n",
       "      <td>True</td>\n",
       "      <td>3</td>\n",
       "      <td>601</td>\n",
       "      <td>435.817135</td>\n",
       "      <td>0</td>\n",
       "      <td>235</td>\n",
       "      <td>2</td>\n",
       "      <td>[['WALK', 79, 92], ['TRAM', 235, 994], ['WALK'...</td>\n",
       "    </tr>\n",
       "    <tr>\n",
       "      <th>475</th>\n",
       "      <td>True</td>\n",
       "      <td>3</td>\n",
       "      <td>995</td>\n",
       "      <td>845.790947</td>\n",
       "      <td>0</td>\n",
       "      <td>288</td>\n",
       "      <td>2</td>\n",
       "      <td>[['WALK', 62, 73], ['TRAM', 288, 1314], ['WALK...</td>\n",
       "    </tr>\n",
       "    <tr>\n",
       "      <th>550</th>\n",
       "      <td>True</td>\n",
       "      <td>3</td>\n",
       "      <td>1158</td>\n",
       "      <td>697.124383</td>\n",
       "      <td>0</td>\n",
       "      <td>324</td>\n",
       "      <td>242</td>\n",
       "      <td>[['WALK', 188, 195], ['SUBWAY', 324, 3213], ['...</td>\n",
       "    </tr>\n",
       "    <tr>\n",
       "      <th>568</th>\n",
       "      <td>True</td>\n",
       "      <td>3</td>\n",
       "      <td>1954</td>\n",
       "      <td>1195.218632</td>\n",
       "      <td>0</td>\n",
       "      <td>977</td>\n",
       "      <td>2</td>\n",
       "      <td>[['WALK', 793, 982], ['TRAM', 977, 4072], ['WA...</td>\n",
       "    </tr>\n",
       "    <tr>\n",
       "      <th>791</th>\n",
       "      <td>True</td>\n",
       "      <td>3</td>\n",
       "      <td>1588</td>\n",
       "      <td>1461.793601</td>\n",
       "      <td>0</td>\n",
       "      <td>420</td>\n",
       "      <td>2</td>\n",
       "      <td>[['WALK', 891, 1110], ['BUS', 420, 2447], ['WA...</td>\n",
       "    </tr>\n",
       "  </tbody>\n",
       "</table>\n",
       "</div>"
      ],
      "text/plain": [
       "     success  n_itineraries  duration  walkDistance  transfers  transitTime  \\\n",
       "id                                                                            \n",
       "592     True              3       601    435.817135          0          235   \n",
       "475     True              3       995    845.790947          0          288   \n",
       "550     True              3      1158    697.124383          0          324   \n",
       "568     True              3      1954   1195.218632          0          977   \n",
       "791     True              3      1588   1461.793601          0          420   \n",
       "\n",
       "     waitingTime                                              modes  \n",
       "id                                                                   \n",
       "592            2  [['WALK', 79, 92], ['TRAM', 235, 994], ['WALK'...  \n",
       "475            2  [['WALK', 62, 73], ['TRAM', 288, 1314], ['WALK...  \n",
       "550          242  [['WALK', 188, 195], ['SUBWAY', 324, 3213], ['...  \n",
       "568            2  [['WALK', 793, 982], ['TRAM', 977, 4072], ['WA...  \n",
       "791            2  [['WALK', 891, 1110], ['BUS', 420, 2447], ['WA...  "
      ]
     },
     "execution_count": 9,
     "metadata": {},
     "output_type": "execute_result"
    }
   ],
   "source": [
    "pd.read_csv('georequests_PT.csv', index_col=[0]).sample(5)"
   ]
  },
  {
   "cell_type": "markdown",
   "metadata": {},
   "source": [
    "#### Full response"
   ]
  },
  {
   "cell_type": "code",
   "execution_count": 10,
   "metadata": {
    "tags": []
   },
   "outputs": [
    {
     "data": {
      "text/plain": [
       "{'date': '3-7-2023',\n",
       " 'mode': 'TRANSIT,WALK',\n",
       " 'arriveBy': 'false',\n",
       " 'fromPlace': '52.42797,16.91294',\n",
       " 'toPlace': '52.39833,16.92324',\n",
       " 'time': '00:0pm',\n",
       " 'maxWalkDistance': '2000'}"
      ]
     },
     "execution_count": 10,
     "metadata": {},
     "output_type": "execute_result"
    }
   ],
   "source": [
    "r.json()['requestParameters']"
   ]
  },
  {
   "cell_type": "markdown",
   "metadata": {},
   "source": [
    "---"
   ]
  }
 ],
 "metadata": {
  "kernelspec": {
   "display_name": "torchrl",
   "language": "python",
   "name": "python3"
  },
  "language_info": {
   "codemirror_mode": {
    "name": "ipython",
    "version": 3
   },
   "file_extension": ".py",
   "mimetype": "text/x-python",
   "name": "python",
   "nbconvert_exporter": "python",
   "pygments_lexer": "ipython3",
   "version": "3.11.8"
  }
 },
 "nbformat": 4,
 "nbformat_minor": 4
}
